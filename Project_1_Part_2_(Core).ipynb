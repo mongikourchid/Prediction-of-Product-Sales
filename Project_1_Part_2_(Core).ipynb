{
  "nbformat": 4,
  "nbformat_minor": 0,
  "metadata": {
    "colab": {
      "provenance": [],
      "mount_file_id": "https://github.com/mongikourchid/Prediction-of-Product-Sales/blob/main/Project_1_Part_2_(Core).ipynb",
      "authorship_tag": "ABX9TyO1wwYPvSFaXlBxnTqxc+i3",
      "include_colab_link": true
    },
    "kernelspec": {
      "name": "python3",
      "display_name": "Python 3"
    },
    "language_info": {
      "name": "python"
    }
  },
  "cells": [
    {
      "cell_type": "markdown",
      "metadata": {
        "id": "view-in-github",
        "colab_type": "text"
      },
      "source": [
        "<a href=\"https://colab.research.google.com/github/mongikourchid/Prediction-of-Product-Sales/blob/main/Project_1_Part_2_(Core).ipynb\" target=\"_parent\"><img src=\"https://colab.research.google.com/assets/colab-badge.svg\" alt=\"Open In Colab\"/></a>"
      ]
    },
    {
      "cell_type": "markdown",
      "source": [
        "\n",
        "*   Author:Kourchid mongi\n",
        "\n",
        "\n",
        "\n"
      ],
      "metadata": {
        "id": "vHL8g8T8A2mZ"
      }
    },
    {
      "cell_type": "markdown",
      "source": [
        "# ***Project 1 - Parts 2(Core)***"
      ],
      "metadata": {
        "id": "-kfFXWd0BxRM"
      }
    },
    {
      "cell_type": "markdown",
      "source": [
        "**Imports**"
      ],
      "metadata": {
        "id": "EGOeEGJGBWp6"
      }
    },
    {
      "cell_type": "code",
      "source": [
        "import pandas as pd\n",
        "import numpy as np\n",
        "import matplotlib.pyplot as plt\n",
        "import seaborn as sns\n",
        "from sklearn.model_selection import train_test_split"
      ],
      "metadata": {
        "id": "QYRQANw9BbgH"
      },
      "execution_count": 24,
      "outputs": []
    },
    {
      "cell_type": "code",
      "source": [
        "from google.colab import drive\n",
        "drive='/content/drive/MyDrive'"
      ],
      "metadata": {
        "id": "iK5b-Z09Sea_"
      },
      "execution_count": 2,
      "outputs": []
    },
    {
      "cell_type": "markdown",
      "source": [
        "# **Loading Data**"
      ],
      "metadata": {
        "id": "j575WNmwBmVe"
      }
    },
    {
      "cell_type": "markdown",
      "source": [
        "Use Pandas to read the sales prediction data set into Google Colab.\n",
        "Use df.info() and df.head() methods to preview the first rows of your data and a summary of your DataFrame's columns."
      ],
      "metadata": {
        "id": "iAUImoQ4A36N"
      }
    },
    {
      "cell_type": "code",
      "source": [
        "df = pd.read_csv('/content/drive/MyDrive/Week 2/sales_predictions_2023.csv')\n",
        "df.head()"
      ],
      "metadata": {
        "colab": {
          "base_uri": "https://localhost:8080/",
          "height": 313
        },
        "id": "wDboCOlJA7bt",
        "outputId": "ef7e3c0d-2dce-473e-cbdd-36abe98b04d9"
      },
      "execution_count": 3,
      "outputs": [
        {
          "output_type": "execute_result",
          "data": {
            "text/plain": [
              "  Item_Identifier  Item_Weight Item_Fat_Content  Item_Visibility  \\\n",
              "0           FDA15         9.30          Low Fat         0.016047   \n",
              "1           DRC01         5.92          Regular         0.019278   \n",
              "2           FDN15        17.50          Low Fat         0.016760   \n",
              "3           FDX07        19.20          Regular         0.000000   \n",
              "4           NCD19         8.93          Low Fat         0.000000   \n",
              "\n",
              "               Item_Type  Item_MRP Outlet_Identifier  \\\n",
              "0                  Dairy  249.8092            OUT049   \n",
              "1            Soft Drinks   48.2692            OUT018   \n",
              "2                   Meat  141.6180            OUT049   \n",
              "3  Fruits and Vegetables  182.0950            OUT010   \n",
              "4              Household   53.8614            OUT013   \n",
              "\n",
              "   Outlet_Establishment_Year Outlet_Size Outlet_Location_Type  \\\n",
              "0                       1999      Medium               Tier 1   \n",
              "1                       2009      Medium               Tier 3   \n",
              "2                       1999      Medium               Tier 1   \n",
              "3                       1998         NaN               Tier 3   \n",
              "4                       1987        High               Tier 3   \n",
              "\n",
              "         Outlet_Type  Item_Outlet_Sales  \n",
              "0  Supermarket Type1          3735.1380  \n",
              "1  Supermarket Type2           443.4228  \n",
              "2  Supermarket Type1          2097.2700  \n",
              "3      Grocery Store           732.3800  \n",
              "4  Supermarket Type1           994.7052  "
            ],
            "text/html": [
              "\n",
              "  <div id=\"df-19b2f348-6266-40b6-a76a-30d7032c5e88\" class=\"colab-df-container\">\n",
              "    <div>\n",
              "<style scoped>\n",
              "    .dataframe tbody tr th:only-of-type {\n",
              "        vertical-align: middle;\n",
              "    }\n",
              "\n",
              "    .dataframe tbody tr th {\n",
              "        vertical-align: top;\n",
              "    }\n",
              "\n",
              "    .dataframe thead th {\n",
              "        text-align: right;\n",
              "    }\n",
              "</style>\n",
              "<table border=\"1\" class=\"dataframe\">\n",
              "  <thead>\n",
              "    <tr style=\"text-align: right;\">\n",
              "      <th></th>\n",
              "      <th>Item_Identifier</th>\n",
              "      <th>Item_Weight</th>\n",
              "      <th>Item_Fat_Content</th>\n",
              "      <th>Item_Visibility</th>\n",
              "      <th>Item_Type</th>\n",
              "      <th>Item_MRP</th>\n",
              "      <th>Outlet_Identifier</th>\n",
              "      <th>Outlet_Establishment_Year</th>\n",
              "      <th>Outlet_Size</th>\n",
              "      <th>Outlet_Location_Type</th>\n",
              "      <th>Outlet_Type</th>\n",
              "      <th>Item_Outlet_Sales</th>\n",
              "    </tr>\n",
              "  </thead>\n",
              "  <tbody>\n",
              "    <tr>\n",
              "      <th>0</th>\n",
              "      <td>FDA15</td>\n",
              "      <td>9.30</td>\n",
              "      <td>Low Fat</td>\n",
              "      <td>0.016047</td>\n",
              "      <td>Dairy</td>\n",
              "      <td>249.8092</td>\n",
              "      <td>OUT049</td>\n",
              "      <td>1999</td>\n",
              "      <td>Medium</td>\n",
              "      <td>Tier 1</td>\n",
              "      <td>Supermarket Type1</td>\n",
              "      <td>3735.1380</td>\n",
              "    </tr>\n",
              "    <tr>\n",
              "      <th>1</th>\n",
              "      <td>DRC01</td>\n",
              "      <td>5.92</td>\n",
              "      <td>Regular</td>\n",
              "      <td>0.019278</td>\n",
              "      <td>Soft Drinks</td>\n",
              "      <td>48.2692</td>\n",
              "      <td>OUT018</td>\n",
              "      <td>2009</td>\n",
              "      <td>Medium</td>\n",
              "      <td>Tier 3</td>\n",
              "      <td>Supermarket Type2</td>\n",
              "      <td>443.4228</td>\n",
              "    </tr>\n",
              "    <tr>\n",
              "      <th>2</th>\n",
              "      <td>FDN15</td>\n",
              "      <td>17.50</td>\n",
              "      <td>Low Fat</td>\n",
              "      <td>0.016760</td>\n",
              "      <td>Meat</td>\n",
              "      <td>141.6180</td>\n",
              "      <td>OUT049</td>\n",
              "      <td>1999</td>\n",
              "      <td>Medium</td>\n",
              "      <td>Tier 1</td>\n",
              "      <td>Supermarket Type1</td>\n",
              "      <td>2097.2700</td>\n",
              "    </tr>\n",
              "    <tr>\n",
              "      <th>3</th>\n",
              "      <td>FDX07</td>\n",
              "      <td>19.20</td>\n",
              "      <td>Regular</td>\n",
              "      <td>0.000000</td>\n",
              "      <td>Fruits and Vegetables</td>\n",
              "      <td>182.0950</td>\n",
              "      <td>OUT010</td>\n",
              "      <td>1998</td>\n",
              "      <td>NaN</td>\n",
              "      <td>Tier 3</td>\n",
              "      <td>Grocery Store</td>\n",
              "      <td>732.3800</td>\n",
              "    </tr>\n",
              "    <tr>\n",
              "      <th>4</th>\n",
              "      <td>NCD19</td>\n",
              "      <td>8.93</td>\n",
              "      <td>Low Fat</td>\n",
              "      <td>0.000000</td>\n",
              "      <td>Household</td>\n",
              "      <td>53.8614</td>\n",
              "      <td>OUT013</td>\n",
              "      <td>1987</td>\n",
              "      <td>High</td>\n",
              "      <td>Tier 3</td>\n",
              "      <td>Supermarket Type1</td>\n",
              "      <td>994.7052</td>\n",
              "    </tr>\n",
              "  </tbody>\n",
              "</table>\n",
              "</div>\n",
              "    <div class=\"colab-df-buttons\">\n",
              "\n",
              "  <div class=\"colab-df-container\">\n",
              "    <button class=\"colab-df-convert\" onclick=\"convertToInteractive('df-19b2f348-6266-40b6-a76a-30d7032c5e88')\"\n",
              "            title=\"Convert this dataframe to an interactive table.\"\n",
              "            style=\"display:none;\">\n",
              "\n",
              "  <svg xmlns=\"http://www.w3.org/2000/svg\" height=\"24px\" viewBox=\"0 -960 960 960\">\n",
              "    <path d=\"M120-120v-720h720v720H120Zm60-500h600v-160H180v160Zm220 220h160v-160H400v160Zm0 220h160v-160H400v160ZM180-400h160v-160H180v160Zm440 0h160v-160H620v160ZM180-180h160v-160H180v160Zm440 0h160v-160H620v160Z\"/>\n",
              "  </svg>\n",
              "    </button>\n",
              "\n",
              "  <style>\n",
              "    .colab-df-container {\n",
              "      display:flex;\n",
              "      gap: 12px;\n",
              "    }\n",
              "\n",
              "    .colab-df-convert {\n",
              "      background-color: #E8F0FE;\n",
              "      border: none;\n",
              "      border-radius: 50%;\n",
              "      cursor: pointer;\n",
              "      display: none;\n",
              "      fill: #1967D2;\n",
              "      height: 32px;\n",
              "      padding: 0 0 0 0;\n",
              "      width: 32px;\n",
              "    }\n",
              "\n",
              "    .colab-df-convert:hover {\n",
              "      background-color: #E2EBFA;\n",
              "      box-shadow: 0px 1px 2px rgba(60, 64, 67, 0.3), 0px 1px 3px 1px rgba(60, 64, 67, 0.15);\n",
              "      fill: #174EA6;\n",
              "    }\n",
              "\n",
              "    .colab-df-buttons div {\n",
              "      margin-bottom: 4px;\n",
              "    }\n",
              "\n",
              "    [theme=dark] .colab-df-convert {\n",
              "      background-color: #3B4455;\n",
              "      fill: #D2E3FC;\n",
              "    }\n",
              "\n",
              "    [theme=dark] .colab-df-convert:hover {\n",
              "      background-color: #434B5C;\n",
              "      box-shadow: 0px 1px 3px 1px rgba(0, 0, 0, 0.15);\n",
              "      filter: drop-shadow(0px 1px 2px rgba(0, 0, 0, 0.3));\n",
              "      fill: #FFFFFF;\n",
              "    }\n",
              "  </style>\n",
              "\n",
              "    <script>\n",
              "      const buttonEl =\n",
              "        document.querySelector('#df-19b2f348-6266-40b6-a76a-30d7032c5e88 button.colab-df-convert');\n",
              "      buttonEl.style.display =\n",
              "        google.colab.kernel.accessAllowed ? 'block' : 'none';\n",
              "\n",
              "      async function convertToInteractive(key) {\n",
              "        const element = document.querySelector('#df-19b2f348-6266-40b6-a76a-30d7032c5e88');\n",
              "        const dataTable =\n",
              "          await google.colab.kernel.invokeFunction('convertToInteractive',\n",
              "                                                    [key], {});\n",
              "        if (!dataTable) return;\n",
              "\n",
              "        const docLinkHtml = 'Like what you see? Visit the ' +\n",
              "          '<a target=\"_blank\" href=https://colab.research.google.com/notebooks/data_table.ipynb>data table notebook</a>'\n",
              "          + ' to learn more about interactive tables.';\n",
              "        element.innerHTML = '';\n",
              "        dataTable['output_type'] = 'display_data';\n",
              "        await google.colab.output.renderOutput(dataTable, element);\n",
              "        const docLink = document.createElement('div');\n",
              "        docLink.innerHTML = docLinkHtml;\n",
              "        element.appendChild(docLink);\n",
              "      }\n",
              "    </script>\n",
              "  </div>\n",
              "\n",
              "\n",
              "<div id=\"df-178b81f9-206b-416c-99d8-5a86d823176b\">\n",
              "  <button class=\"colab-df-quickchart\" onclick=\"quickchart('df-178b81f9-206b-416c-99d8-5a86d823176b')\"\n",
              "            title=\"Suggest charts\"\n",
              "            style=\"display:none;\">\n",
              "\n",
              "<svg xmlns=\"http://www.w3.org/2000/svg\" height=\"24px\"viewBox=\"0 0 24 24\"\n",
              "     width=\"24px\">\n",
              "    <g>\n",
              "        <path d=\"M19 3H5c-1.1 0-2 .9-2 2v14c0 1.1.9 2 2 2h14c1.1 0 2-.9 2-2V5c0-1.1-.9-2-2-2zM9 17H7v-7h2v7zm4 0h-2V7h2v10zm4 0h-2v-4h2v4z\"/>\n",
              "    </g>\n",
              "</svg>\n",
              "  </button>\n",
              "\n",
              "<style>\n",
              "  .colab-df-quickchart {\n",
              "      --bg-color: #E8F0FE;\n",
              "      --fill-color: #1967D2;\n",
              "      --hover-bg-color: #E2EBFA;\n",
              "      --hover-fill-color: #174EA6;\n",
              "      --disabled-fill-color: #AAA;\n",
              "      --disabled-bg-color: #DDD;\n",
              "  }\n",
              "\n",
              "  [theme=dark] .colab-df-quickchart {\n",
              "      --bg-color: #3B4455;\n",
              "      --fill-color: #D2E3FC;\n",
              "      --hover-bg-color: #434B5C;\n",
              "      --hover-fill-color: #FFFFFF;\n",
              "      --disabled-bg-color: #3B4455;\n",
              "      --disabled-fill-color: #666;\n",
              "  }\n",
              "\n",
              "  .colab-df-quickchart {\n",
              "    background-color: var(--bg-color);\n",
              "    border: none;\n",
              "    border-radius: 50%;\n",
              "    cursor: pointer;\n",
              "    display: none;\n",
              "    fill: var(--fill-color);\n",
              "    height: 32px;\n",
              "    padding: 0;\n",
              "    width: 32px;\n",
              "  }\n",
              "\n",
              "  .colab-df-quickchart:hover {\n",
              "    background-color: var(--hover-bg-color);\n",
              "    box-shadow: 0 1px 2px rgba(60, 64, 67, 0.3), 0 1px 3px 1px rgba(60, 64, 67, 0.15);\n",
              "    fill: var(--button-hover-fill-color);\n",
              "  }\n",
              "\n",
              "  .colab-df-quickchart-complete:disabled,\n",
              "  .colab-df-quickchart-complete:disabled:hover {\n",
              "    background-color: var(--disabled-bg-color);\n",
              "    fill: var(--disabled-fill-color);\n",
              "    box-shadow: none;\n",
              "  }\n",
              "\n",
              "  .colab-df-spinner {\n",
              "    border: 2px solid var(--fill-color);\n",
              "    border-color: transparent;\n",
              "    border-bottom-color: var(--fill-color);\n",
              "    animation:\n",
              "      spin 1s steps(1) infinite;\n",
              "  }\n",
              "\n",
              "  @keyframes spin {\n",
              "    0% {\n",
              "      border-color: transparent;\n",
              "      border-bottom-color: var(--fill-color);\n",
              "      border-left-color: var(--fill-color);\n",
              "    }\n",
              "    20% {\n",
              "      border-color: transparent;\n",
              "      border-left-color: var(--fill-color);\n",
              "      border-top-color: var(--fill-color);\n",
              "    }\n",
              "    30% {\n",
              "      border-color: transparent;\n",
              "      border-left-color: var(--fill-color);\n",
              "      border-top-color: var(--fill-color);\n",
              "      border-right-color: var(--fill-color);\n",
              "    }\n",
              "    40% {\n",
              "      border-color: transparent;\n",
              "      border-right-color: var(--fill-color);\n",
              "      border-top-color: var(--fill-color);\n",
              "    }\n",
              "    60% {\n",
              "      border-color: transparent;\n",
              "      border-right-color: var(--fill-color);\n",
              "    }\n",
              "    80% {\n",
              "      border-color: transparent;\n",
              "      border-right-color: var(--fill-color);\n",
              "      border-bottom-color: var(--fill-color);\n",
              "    }\n",
              "    90% {\n",
              "      border-color: transparent;\n",
              "      border-bottom-color: var(--fill-color);\n",
              "    }\n",
              "  }\n",
              "</style>\n",
              "\n",
              "  <script>\n",
              "    async function quickchart(key) {\n",
              "      const quickchartButtonEl =\n",
              "        document.querySelector('#' + key + ' button');\n",
              "      quickchartButtonEl.disabled = true;  // To prevent multiple clicks.\n",
              "      quickchartButtonEl.classList.add('colab-df-spinner');\n",
              "      try {\n",
              "        const charts = await google.colab.kernel.invokeFunction(\n",
              "            'suggestCharts', [key], {});\n",
              "      } catch (error) {\n",
              "        console.error('Error during call to suggestCharts:', error);\n",
              "      }\n",
              "      quickchartButtonEl.classList.remove('colab-df-spinner');\n",
              "      quickchartButtonEl.classList.add('colab-df-quickchart-complete');\n",
              "    }\n",
              "    (() => {\n",
              "      let quickchartButtonEl =\n",
              "        document.querySelector('#df-178b81f9-206b-416c-99d8-5a86d823176b button');\n",
              "      quickchartButtonEl.style.display =\n",
              "        google.colab.kernel.accessAllowed ? 'block' : 'none';\n",
              "    })();\n",
              "  </script>\n",
              "</div>\n",
              "\n",
              "    </div>\n",
              "  </div>\n"
            ],
            "application/vnd.google.colaboratory.intrinsic+json": {
              "type": "dataframe",
              "variable_name": "df",
              "summary": "{\n  \"name\": \"df\",\n  \"rows\": 8523,\n  \"fields\": [\n    {\n      \"column\": \"Item_Identifier\",\n      \"properties\": {\n        \"dtype\": \"category\",\n        \"num_unique_values\": 1559,\n        \"samples\": [\n          \"FDY01\",\n          \"FDG05\",\n          \"NCJ29\"\n        ],\n        \"semantic_type\": \"\",\n        \"description\": \"\"\n      }\n    },\n    {\n      \"column\": \"Item_Weight\",\n      \"properties\": {\n        \"dtype\": \"number\",\n        \"std\": 4.643456499186415,\n        \"min\": 4.555,\n        \"max\": 21.35,\n        \"num_unique_values\": 415,\n        \"samples\": [\n          16.75,\n          8.695,\n          7.605\n        ],\n        \"semantic_type\": \"\",\n        \"description\": \"\"\n      }\n    },\n    {\n      \"column\": \"Item_Fat_Content\",\n      \"properties\": {\n        \"dtype\": \"category\",\n        \"num_unique_values\": 5,\n        \"samples\": [\n          \"Regular\",\n          \"reg\",\n          \"low fat\"\n        ],\n        \"semantic_type\": \"\",\n        \"description\": \"\"\n      }\n    },\n    {\n      \"column\": \"Item_Visibility\",\n      \"properties\": {\n        \"dtype\": \"number\",\n        \"std\": 0.05159782232113512,\n        \"min\": 0.0,\n        \"max\": 0.328390948,\n        \"num_unique_values\": 7880,\n        \"samples\": [\n          0.224837308,\n          0.046088273,\n          0.0204702\n        ],\n        \"semantic_type\": \"\",\n        \"description\": \"\"\n      }\n    },\n    {\n      \"column\": \"Item_Type\",\n      \"properties\": {\n        \"dtype\": \"category\",\n        \"num_unique_values\": 16,\n        \"samples\": [\n          \"Dairy\",\n          \"Soft Drinks\",\n          \"Baking Goods\"\n        ],\n        \"semantic_type\": \"\",\n        \"description\": \"\"\n      }\n    },\n    {\n      \"column\": \"Item_MRP\",\n      \"properties\": {\n        \"dtype\": \"number\",\n        \"std\": 62.27506651219046,\n        \"min\": 31.29,\n        \"max\": 266.8884,\n        \"num_unique_values\": 5938,\n        \"samples\": [\n          255.9672,\n          93.512,\n          208.3954\n        ],\n        \"semantic_type\": \"\",\n        \"description\": \"\"\n      }\n    },\n    {\n      \"column\": \"Outlet_Identifier\",\n      \"properties\": {\n        \"dtype\": \"category\",\n        \"num_unique_values\": 10,\n        \"samples\": [\n          \"OUT035\",\n          \"OUT018\",\n          \"OUT045\"\n        ],\n        \"semantic_type\": \"\",\n        \"description\": \"\"\n      }\n    },\n    {\n      \"column\": \"Outlet_Establishment_Year\",\n      \"properties\": {\n        \"dtype\": \"number\",\n        \"std\": 8,\n        \"min\": 1985,\n        \"max\": 2009,\n        \"num_unique_values\": 9,\n        \"samples\": [\n          1997,\n          2009,\n          2002\n        ],\n        \"semantic_type\": \"\",\n        \"description\": \"\"\n      }\n    },\n    {\n      \"column\": \"Outlet_Size\",\n      \"properties\": {\n        \"dtype\": \"category\",\n        \"num_unique_values\": 3,\n        \"samples\": [\n          \"Medium\",\n          \"High\",\n          \"Small\"\n        ],\n        \"semantic_type\": \"\",\n        \"description\": \"\"\n      }\n    },\n    {\n      \"column\": \"Outlet_Location_Type\",\n      \"properties\": {\n        \"dtype\": \"category\",\n        \"num_unique_values\": 3,\n        \"samples\": [\n          \"Tier 1\",\n          \"Tier 3\",\n          \"Tier 2\"\n        ],\n        \"semantic_type\": \"\",\n        \"description\": \"\"\n      }\n    },\n    {\n      \"column\": \"Outlet_Type\",\n      \"properties\": {\n        \"dtype\": \"category\",\n        \"num_unique_values\": 4,\n        \"samples\": [\n          \"Supermarket Type2\",\n          \"Supermarket Type3\",\n          \"Supermarket Type1\"\n        ],\n        \"semantic_type\": \"\",\n        \"description\": \"\"\n      }\n    },\n    {\n      \"column\": \"Item_Outlet_Sales\",\n      \"properties\": {\n        \"dtype\": \"number\",\n        \"std\": 1706.499615733833,\n        \"min\": 33.29,\n        \"max\": 13086.9648,\n        \"num_unique_values\": 3493,\n        \"samples\": [\n          5466.8838,\n          8417.7094,\n          5888.3352\n        ],\n        \"semantic_type\": \"\",\n        \"description\": \"\"\n      }\n    }\n  ]\n}"
            }
          },
          "metadata": {},
          "execution_count": 3
        }
      ]
    },
    {
      "cell_type": "code",
      "source": [
        "df.info()"
      ],
      "metadata": {
        "colab": {
          "base_uri": "https://localhost:8080/"
        },
        "id": "vNgqnwMyDJyH",
        "outputId": "f91c817b-1dda-41c9-adc0-7da71f0ce2f6"
      },
      "execution_count": 4,
      "outputs": [
        {
          "output_type": "stream",
          "name": "stdout",
          "text": [
            "<class 'pandas.core.frame.DataFrame'>\n",
            "RangeIndex: 8523 entries, 0 to 8522\n",
            "Data columns (total 12 columns):\n",
            " #   Column                     Non-Null Count  Dtype  \n",
            "---  ------                     --------------  -----  \n",
            " 0   Item_Identifier            8523 non-null   object \n",
            " 1   Item_Weight                7060 non-null   float64\n",
            " 2   Item_Fat_Content           8523 non-null   object \n",
            " 3   Item_Visibility            8523 non-null   float64\n",
            " 4   Item_Type                  8523 non-null   object \n",
            " 5   Item_MRP                   8523 non-null   float64\n",
            " 6   Outlet_Identifier          8523 non-null   object \n",
            " 7   Outlet_Establishment_Year  8523 non-null   int64  \n",
            " 8   Outlet_Size                6113 non-null   object \n",
            " 9   Outlet_Location_Type       8523 non-null   object \n",
            " 10  Outlet_Type                8523 non-null   object \n",
            " 11  Item_Outlet_Sales          8523 non-null   float64\n",
            "dtypes: float64(4), int64(1), object(7)\n",
            "memory usage: 799.2+ KB\n"
          ]
        }
      ]
    },
    {
      "cell_type": "markdown",
      "source": [
        "# Clean Data"
      ],
      "metadata": {
        "id": "y9znO_AcCGZV"
      }
    },
    {
      "cell_type": "markdown",
      "source": [
        "1) How many rows and columns?"
      ],
      "metadata": {
        "id": "momh0l5JCJ-3"
      }
    },
    {
      "cell_type": "code",
      "source": [
        "df.shape"
      ],
      "metadata": {
        "colab": {
          "base_uri": "https://localhost:8080/"
        },
        "id": "1CIUQxHmDvht",
        "outputId": "be05fb14-0423-4e97-b27e-eb734e44fcab"
      },
      "execution_count": 5,
      "outputs": [
        {
          "output_type": "execute_result",
          "data": {
            "text/plain": [
              "(8523, 12)"
            ]
          },
          "metadata": {},
          "execution_count": 5
        }
      ]
    },
    {
      "cell_type": "markdown",
      "source": [
        " - There are 8523 rows and 12 columns"
      ],
      "metadata": {
        "id": "AnsIPwoJEH_v"
      }
    },
    {
      "cell_type": "markdown",
      "source": [
        "2) What are the datatypes of each variable?"
      ],
      "metadata": {
        "id": "-vHGEi0uEhIh"
      }
    },
    {
      "cell_type": "code",
      "source": [
        "df.dtypes"
      ],
      "metadata": {
        "colab": {
          "base_uri": "https://localhost:8080/"
        },
        "id": "IFXJfez7EjgD",
        "outputId": "d46499cd-1db4-46a7-b514-03afd68a698f"
      },
      "execution_count": null,
      "outputs": [
        {
          "output_type": "execute_result",
          "data": {
            "text/plain": [
              "Item_Identifier               object\n",
              "Item_Weight                  float64\n",
              "Item_Fat_Content              object\n",
              "Item_Visibility              float64\n",
              "Item_Type                     object\n",
              "Item_MRP                     float64\n",
              "Outlet_Identifier             object\n",
              "Outlet_Establishment_Year      int64\n",
              "Outlet_Size                   object\n",
              "Outlet_Location_Type          object\n",
              "Outlet_Type                   object\n",
              "Item_Outlet_Sales            float64\n",
              "dtype: object"
            ]
          },
          "metadata": {},
          "execution_count": 7
        }
      ]
    },
    {
      "cell_type": "markdown",
      "source": [
        "3) Are there duplicates? If so, drop any duplicates.\n",
        "\n",
        "* the Item_Outlet_Sales  column is showing as an object type column and should be either a float64 or an int64 type column\n",
        "*the Outlet_Size column contains NAN value\n",
        "*All other data types are as they should be."
      ],
      "metadata": {
        "id": "P7SYxTBkEtyF"
      }
    },
    {
      "cell_type": "markdown",
      "source": [
        "4) Identifiez les valeurs manquantes"
      ],
      "metadata": {
        "id": "KmWBzZL8JGtI"
      }
    },
    {
      "cell_type": "code",
      "source": [
        "# This will give us the total number of null values (True) for each column\n",
        "null_sums = df.isna().sum()\n",
        "null_sums"
      ],
      "metadata": {
        "colab": {
          "base_uri": "https://localhost:8080/"
        },
        "id": "iSdc3qsrLzjl",
        "outputId": "094583ec-6edd-46ff-99e1-4f569ffcf183"
      },
      "execution_count": 6,
      "outputs": [
        {
          "output_type": "execute_result",
          "data": {
            "text/plain": [
              "Item_Identifier                 0\n",
              "Item_Weight                  1463\n",
              "Item_Fat_Content                0\n",
              "Item_Visibility                 0\n",
              "Item_Type                       0\n",
              "Item_MRP                        0\n",
              "Outlet_Identifier               0\n",
              "Outlet_Establishment_Year       0\n",
              "Outlet_Size                  2410\n",
              "Outlet_Location_Type            0\n",
              "Outlet_Type                     0\n",
              "Item_Outlet_Sales               0\n",
              "dtype: int64"
            ]
          },
          "metadata": {},
          "execution_count": 6
        }
      ]
    },
    {
      "cell_type": "code",
      "source": [
        "# Check the datatype\n",
        "type(null_sums)"
      ],
      "metadata": {
        "colab": {
          "base_uri": "https://localhost:8080/",
          "height": 204
        },
        "id": "tVQ0DGK2MQaT",
        "outputId": "911bc4bd-231d-40b4-d28a-71f383c644cd"
      },
      "execution_count": 7,
      "outputs": [
        {
          "output_type": "execute_result",
          "data": {
            "text/plain": [
              "pandas.core.series.Series"
            ],
            "text/html": [
              "<div style=\"max-width:800px; border: 1px solid var(--colab-border-color);\"><style>\n",
              "      pre.function-repr-contents {\n",
              "        overflow-x: auto;\n",
              "        padding: 8px 12px;\n",
              "        max-height: 500px;\n",
              "      }\n",
              "\n",
              "      pre.function-repr-contents.function-repr-contents-collapsed {\n",
              "        cursor: pointer;\n",
              "        max-height: 100px;\n",
              "      }\n",
              "    </style>\n",
              "    <pre style=\"white-space: initial; background:\n",
              "         var(--colab-secondary-surface-color); padding: 8px 12px;\n",
              "         border-bottom: 1px solid var(--colab-border-color);\"><b>pandas.core.series.Series</b><br/>def __init__(data=None, index=None, dtype: Dtype | None=None, name=None, copy: bool | None=None, fastpath: bool=False) -&gt; None</pre><pre class=\"function-repr-contents function-repr-contents-collapsed\" style=\"\"><a class=\"filepath\" style=\"display:none\" href=\"#\">/usr/local/lib/python3.10/dist-packages/pandas/core/series.py</a>One-dimensional ndarray with axis labels (including time series).\n",
              "\n",
              "Labels need not be unique but must be a hashable type. The object\n",
              "supports both integer- and label-based indexing and provides a host of\n",
              "methods for performing operations involving the index. Statistical\n",
              "methods from ndarray have been overridden to automatically exclude\n",
              "missing data (currently represented as NaN).\n",
              "\n",
              "Operations between Series (+, -, /, \\*, \\*\\*) align values based on their\n",
              "associated index values-- they need not be the same length. The result\n",
              "index will be the sorted union of the two indexes.\n",
              "\n",
              "Parameters\n",
              "----------\n",
              "data : array-like, Iterable, dict, or scalar value\n",
              "    Contains data stored in Series. If data is a dict, argument order is\n",
              "    maintained.\n",
              "index : array-like or Index (1d)\n",
              "    Values must be hashable and have the same length as `data`.\n",
              "    Non-unique index values are allowed. Will default to\n",
              "    RangeIndex (0, 1, 2, ..., n) if not provided. If data is dict-like\n",
              "    and index is None, then the keys in the data are used as the index. If the\n",
              "    index is not None, the resulting Series is reindexed with the index values.\n",
              "dtype : str, numpy.dtype, or ExtensionDtype, optional\n",
              "    Data type for the output Series. If not specified, this will be\n",
              "    inferred from `data`.\n",
              "    See the :ref:`user guide &lt;basics.dtypes&gt;` for more usages.\n",
              "name : Hashable, default None\n",
              "    The name to give to the Series.\n",
              "copy : bool, default False\n",
              "    Copy input data. Only affects Series or 1d ndarray input. See examples.\n",
              "\n",
              "Notes\n",
              "-----\n",
              "Please reference the :ref:`User Guide &lt;basics.series&gt;` for more information.\n",
              "\n",
              "Examples\n",
              "--------\n",
              "Constructing Series from a dictionary with an Index specified\n",
              "\n",
              "&gt;&gt;&gt; d = {&#x27;a&#x27;: 1, &#x27;b&#x27;: 2, &#x27;c&#x27;: 3}\n",
              "&gt;&gt;&gt; ser = pd.Series(data=d, index=[&#x27;a&#x27;, &#x27;b&#x27;, &#x27;c&#x27;])\n",
              "&gt;&gt;&gt; ser\n",
              "a   1\n",
              "b   2\n",
              "c   3\n",
              "dtype: int64\n",
              "\n",
              "The keys of the dictionary match with the Index values, hence the Index\n",
              "values have no effect.\n",
              "\n",
              "&gt;&gt;&gt; d = {&#x27;a&#x27;: 1, &#x27;b&#x27;: 2, &#x27;c&#x27;: 3}\n",
              "&gt;&gt;&gt; ser = pd.Series(data=d, index=[&#x27;x&#x27;, &#x27;y&#x27;, &#x27;z&#x27;])\n",
              "&gt;&gt;&gt; ser\n",
              "x   NaN\n",
              "y   NaN\n",
              "z   NaN\n",
              "dtype: float64\n",
              "\n",
              "Note that the Index is first build with the keys from the dictionary.\n",
              "After this the Series is reindexed with the given Index values, hence we\n",
              "get all NaN as a result.\n",
              "\n",
              "Constructing Series from a list with `copy=False`.\n",
              "\n",
              "&gt;&gt;&gt; r = [1, 2]\n",
              "&gt;&gt;&gt; ser = pd.Series(r, copy=False)\n",
              "&gt;&gt;&gt; ser.iloc[0] = 999\n",
              "&gt;&gt;&gt; r\n",
              "[1, 2]\n",
              "&gt;&gt;&gt; ser\n",
              "0    999\n",
              "1      2\n",
              "dtype: int64\n",
              "\n",
              "Due to input data type the Series has a `copy` of\n",
              "the original data even though `copy=False`, so\n",
              "the data is unchanged.\n",
              "\n",
              "Constructing Series from a 1d ndarray with `copy=False`.\n",
              "\n",
              "&gt;&gt;&gt; r = np.array([1, 2])\n",
              "&gt;&gt;&gt; ser = pd.Series(r, copy=False)\n",
              "&gt;&gt;&gt; ser.iloc[0] = 999\n",
              "&gt;&gt;&gt; r\n",
              "array([999,   2])\n",
              "&gt;&gt;&gt; ser\n",
              "0    999\n",
              "1      2\n",
              "dtype: int64\n",
              "\n",
              "Due to input data type the Series has a `view` on\n",
              "the original data, so\n",
              "the data is changed as well.</pre>\n",
              "      <script>\n",
              "      if (google.colab.kernel.accessAllowed && google.colab.files && google.colab.files.view) {\n",
              "        for (const element of document.querySelectorAll('.filepath')) {\n",
              "          element.style.display = 'block'\n",
              "          element.onclick = (event) => {\n",
              "            event.preventDefault();\n",
              "            event.stopPropagation();\n",
              "            google.colab.files.view(element.textContent, 244);\n",
              "          };\n",
              "        }\n",
              "      }\n",
              "      for (const element of document.querySelectorAll('.function-repr-contents')) {\n",
              "        element.onclick = (event) => {\n",
              "          event.preventDefault();\n",
              "          event.stopPropagation();\n",
              "          element.classList.toggle('function-repr-contents-collapsed');\n",
              "        };\n",
              "      }\n",
              "      </script>\n",
              "      </div>"
            ]
          },
          "metadata": {},
          "execution_count": 7
        }
      ]
    },
    {
      "cell_type": "code",
      "source": [
        "# Get the % of null values\n",
        "null_percent = null_sums/len(df) * 100\n",
        "null_percent\n",
        "\n"
      ],
      "metadata": {
        "colab": {
          "base_uri": "https://localhost:8080/"
        },
        "id": "SM3TH6EgMW95",
        "outputId": "735416b0-042e-46de-8ae9-75b9d6f08339"
      },
      "execution_count": null,
      "outputs": [
        {
          "output_type": "execute_result",
          "data": {
            "text/plain": [
              "Item_Identifier               0.000000\n",
              "Item_Weight                  17.165317\n",
              "Item_Fat_Content              0.000000\n",
              "Item_Visibility               0.000000\n",
              "Item_Type                     0.000000\n",
              "Item_MRP                      0.000000\n",
              "Outlet_Identifier             0.000000\n",
              "Outlet_Establishment_Year     0.000000\n",
              "Outlet_Size                  28.276428\n",
              "Outlet_Location_Type          0.000000\n",
              "Outlet_Type                   0.000000\n",
              "Item_Outlet_Sales             0.000000\n",
              "dtype: float64"
            ]
          },
          "metadata": {},
          "execution_count": 10
        }
      ]
    },
    {
      "cell_type": "code",
      "source": [
        "# Dropping Null values from Item_Weight\n",
        "df = df.dropna(subset=[\"Item_Weight\"])"
      ],
      "metadata": {
        "id": "apqHhAMsM8Wo"
      },
      "execution_count": 8,
      "outputs": []
    },
    {
      "cell_type": "code",
      "source": [
        "# Confirming no more null Item_Weight\n",
        "df['Item_Weight'].isna().sum()"
      ],
      "metadata": {
        "colab": {
          "base_uri": "https://localhost:8080/"
        },
        "id": "WQsIJjNWNXqr",
        "outputId": "fe67b640-cbd1-4b68-e572-68d8e2ccb272"
      },
      "execution_count": 9,
      "outputs": [
        {
          "output_type": "execute_result",
          "data": {
            "text/plain": [
              "0"
            ]
          },
          "metadata": {},
          "execution_count": 9
        }
      ]
    },
    {
      "cell_type": "code",
      "source": [
        "# Dropping Null values from Item_Weight\n",
        "df = df.dropna(subset=[\"Outlet_Size\"])"
      ],
      "metadata": {
        "id": "SlmLN5uqNf9d"
      },
      "execution_count": 10,
      "outputs": []
    },
    {
      "cell_type": "code",
      "source": [
        "# Confirming no more null Item_Weight\n",
        "df['Outlet_Size'].isna().sum()"
      ],
      "metadata": {
        "id": "vGIdHAp-NhUp"
      },
      "execution_count": null,
      "outputs": []
    },
    {
      "cell_type": "code",
      "source": [
        "# Saving list of column names for object cols\n",
        "cat_cols = df.select_dtypes('object').columns\n",
        "cat_cols"
      ],
      "metadata": {
        "colab": {
          "base_uri": "https://localhost:8080/"
        },
        "id": "Kk768rxtOF7i",
        "outputId": "14526025-116f-4828-849c-f4eecaf9484b"
      },
      "execution_count": 11,
      "outputs": [
        {
          "output_type": "execute_result",
          "data": {
            "text/plain": [
              "Index(['Item_Identifier', 'Item_Fat_Content', 'Item_Type', 'Outlet_Identifier',\n",
              "       'Outlet_Size', 'Outlet_Location_Type', 'Outlet_Type'],\n",
              "      dtype='object')"
            ]
          },
          "metadata": {},
          "execution_count": 11
        }
      ]
    },
    {
      "cell_type": "code",
      "source": [
        "# Saving list of column names for numeric cols\n",
        "num_cols = df.select_dtypes('number').columns\n",
        "num_cols"
      ],
      "metadata": {
        "colab": {
          "base_uri": "https://localhost:8080/"
        },
        "id": "hjZ-_ZGuOvX2",
        "outputId": "ec998372-2afe-4bdc-c840-51ae359a4cb6"
      },
      "execution_count": 12,
      "outputs": [
        {
          "output_type": "execute_result",
          "data": {
            "text/plain": [
              "Index(['Item_Weight', 'Item_Visibility', 'Item_MRP',\n",
              "       'Outlet_Establishment_Year', 'Item_Outlet_Sales'],\n",
              "      dtype='object')"
            ]
          },
          "metadata": {},
          "execution_count": 12
        }
      ]
    },
    {
      "cell_type": "code",
      "source": [
        "# Checking which categorical columns had missing values.\n",
        "df[cat_cols].isna().sum()"
      ],
      "metadata": {
        "colab": {
          "base_uri": "https://localhost:8080/"
        },
        "id": "i1sLSp_-O32m",
        "outputId": "61ed8855-0876-4cb8-c6e8-172b44cf9b2b"
      },
      "execution_count": 13,
      "outputs": [
        {
          "output_type": "execute_result",
          "data": {
            "text/plain": [
              "Item_Identifier         0\n",
              "Item_Fat_Content        0\n",
              "Item_Type               0\n",
              "Outlet_Identifier       0\n",
              "Outlet_Size             0\n",
              "Outlet_Location_Type    0\n",
              "Outlet_Type             0\n",
              "dtype: int64"
            ]
          },
          "metadata": {},
          "execution_count": 13
        }
      ]
    },
    {
      "cell_type": "markdown",
      "source": [
        "8) For any numerical columns, obtain the summary statistics of each (min, max, mean).**texte en gras**"
      ],
      "metadata": {
        "id": "fmUX6BfBQCm3"
      }
    },
    {
      "cell_type": "code",
      "source": [
        "# Obtention des statistiques récapitulatives pour les colonnes numériques\n",
        "summary_stats = df.describe()\n",
        "print(summary_stats)"
      ],
      "metadata": {
        "colab": {
          "base_uri": "https://localhost:8080/"
        },
        "id": "NlWwS9qYPufO",
        "outputId": "f0d6622f-9b5b-48db-fd5a-4a66bae4559a"
      },
      "execution_count": 14,
      "outputs": [
        {
          "output_type": "stream",
          "name": "stdout",
          "text": [
            "       Item_Weight  Item_Visibility     Item_MRP  Outlet_Establishment_Year  \\\n",
            "count  4650.000000      4650.000000  4650.000000                4650.000000   \n",
            "mean     12.898675         0.060700   141.716328                1999.190538   \n",
            "std       4.670973         0.044607    62.420534                   7.388800   \n",
            "min       4.555000         0.000000    31.490000                1987.000000   \n",
            "25%       8.770000         0.025968    94.409400                1997.000000   \n",
            "50%      12.650000         0.049655   142.979900                1999.000000   \n",
            "75%      17.000000         0.088736   186.614150                2004.000000   \n",
            "max      21.350000         0.188323   266.888400                2009.000000   \n",
            "\n",
            "       Item_Outlet_Sales  \n",
            "count        4650.000000  \n",
            "mean         2272.037489  \n",
            "std          1497.964740  \n",
            "min            69.243200  \n",
            "25%          1125.202000  \n",
            "50%          1939.808300  \n",
            "75%          3111.616300  \n",
            "max         10256.649000  \n"
          ]
        }
      ]
    },
    {
      "cell_type": "markdown",
      "source": [
        "# **Projet 1 - Partie 3 (Core)**"
      ],
      "metadata": {
        "id": "-Sasy82kS_Fv"
      }
    },
    {
      "cell_type": "markdown",
      "source": [
        "* Complete any statistical analyses that might help you understand, explain, or model with your data"
      ],
      "metadata": {
        "id": "69sWLmRrTSXy"
      }
    },
    {
      "cell_type": "markdown",
      "source": [
        "## Exploratory Visuals & Analysis\n",
        "\n",
        "\n"
      ],
      "metadata": {
        "id": "JBQvvNJwT6vq"
      }
    },
    {
      "cell_type": "code",
      "source": [
        "# Checking info again\n",
        "df.info()"
      ],
      "metadata": {
        "colab": {
          "base_uri": "https://localhost:8080/"
        },
        "id": "iJckXPytUM2q",
        "outputId": "073dd7c2-2d2d-4239-9c46-1809a838361f"
      },
      "execution_count": 15,
      "outputs": [
        {
          "output_type": "stream",
          "name": "stdout",
          "text": [
            "<class 'pandas.core.frame.DataFrame'>\n",
            "Index: 4650 entries, 0 to 8522\n",
            "Data columns (total 12 columns):\n",
            " #   Column                     Non-Null Count  Dtype  \n",
            "---  ------                     --------------  -----  \n",
            " 0   Item_Identifier            4650 non-null   object \n",
            " 1   Item_Weight                4650 non-null   float64\n",
            " 2   Item_Fat_Content           4650 non-null   object \n",
            " 3   Item_Visibility            4650 non-null   float64\n",
            " 4   Item_Type                  4650 non-null   object \n",
            " 5   Item_MRP                   4650 non-null   float64\n",
            " 6   Outlet_Identifier          4650 non-null   object \n",
            " 7   Outlet_Establishment_Year  4650 non-null   int64  \n",
            " 8   Outlet_Size                4650 non-null   object \n",
            " 9   Outlet_Location_Type       4650 non-null   object \n",
            " 10  Outlet_Type                4650 non-null   object \n",
            " 11  Item_Outlet_Sales          4650 non-null   float64\n",
            "dtypes: float64(4), int64(1), object(7)\n",
            "memory usage: 472.3+ KB\n"
          ]
        }
      ]
    },
    {
      "cell_type": "markdown",
      "source": [
        "\n",
        "* *texte en italique* For each numeric feature, we will plot the distribution and a boxplot.\n",
        "\n",
        "---\n",
        "\n"
      ],
      "metadata": {
        "id": "kt6ptKZJUadU"
      }
    },
    {
      "cell_type": "code",
      "source": [
        "num_cols = df.select_dtypes('number').columns\n",
        "num_cols"
      ],
      "metadata": {
        "colab": {
          "base_uri": "https://localhost:8080/"
        },
        "id": "c8DV647AUnMc",
        "outputId": "e164458c-a232-426d-8fb7-933e8533c49b"
      },
      "execution_count": 16,
      "outputs": [
        {
          "output_type": "execute_result",
          "data": {
            "text/plain": [
              "Index(['Item_Weight', 'Item_Visibility', 'Item_MRP',\n",
              "       'Outlet_Establishment_Year', 'Item_Outlet_Sales'],\n",
              "      dtype='object')"
            ]
          },
          "metadata": {},
          "execution_count": 16
        }
      ]
    },
    {
      "cell_type": "markdown",
      "source": [
        "Histogrammes pour afficher les distributions des entités numériques dans votre ensemble de données."
      ],
      "metadata": {
        "id": "03GfN2OvZ0h6"
      }
    },
    {
      "cell_type": "code",
      "source": [
        "# Create the histogram\n",
        "ax = df['Item_MRP'].hist(bins =20, edgecolor = 'black')\n",
        "ax.set_title('Distribution of MRP')\n",
        "ax.set_xlabel('Item_Outlet_Sales')\n",
        "ax.set_ylabel('Item_Outlet_Sales');"
      ],
      "metadata": {
        "colab": {
          "base_uri": "https://localhost:8080/",
          "height": 472
        },
        "id": "t2HGaCLGW1Bo",
        "outputId": "9e9f9784-1393-4bad-fa3c-9ce984473c37"
      },
      "execution_count": 17,
      "outputs": [
        {
          "output_type": "display_data",
          "data": {
            "text/plain": [
              "<Figure size 640x480 with 1 Axes>"
            ],
            "image/png": "[encoded data removed]"
          },
          "metadata": {}
        }
      ]
    },
    {
      "cell_type": "code",
      "source": [
        "Ob_cols = df.select_dtypes('object').columns\n",
        "Ob_cols"
      ],
      "metadata": {
        "colab": {
          "base_uri": "https://localhost:8080/"
        },
        "id": "Sy0zAwTuVFiY",
        "outputId": "688e0ebe-6b53-43ed-e4b2-4b4c973707e9"
      },
      "execution_count": 18,
      "outputs": [
        {
          "output_type": "execute_result",
          "data": {
            "text/plain": [
              "Index(['Item_Identifier', 'Item_Fat_Content', 'Item_Type', 'Outlet_Identifier',\n",
              "       'Outlet_Size', 'Outlet_Location_Type', 'Outlet_Type'],\n",
              "      dtype='object')"
            ]
          },
          "metadata": {},
          "execution_count": 18
        }
      ]
    },
    {
      "cell_type": "markdown",
      "source": [
        "Boxplots for displaying statistical summaries of numerical features"
      ],
      "metadata": {
        "id": "eCPu9OZFaCdN"
      }
    },
    {
      "cell_type": "code",
      "source": [
        "# Create the boxplot\n",
        "ax = sns.boxplot(x = 'Outlet_Type', y = 'Item_MRP', data = df)\n",
        "ax.set_title('Outlet_Type by MRP');\n"
      ],
      "metadata": {
        "colab": {
          "base_uri": "https://localhost:8080/",
          "height": 472
        },
        "id": "XRLUeT_-ZBI0",
        "outputId": "1fc5da73-3fa5-45f1-81d4-3f084081b7cb"
      },
      "execution_count": 19,
      "outputs": [
        {
          "output_type": "display_data",
          "data": {
            "text/plain": [
              "<Figure size 640x480 with 1 Axes>"
            ],
            "image/png": "[encoded data removed]"
          },
          "metadata": {}
        }
      ]
    },
    {
      "cell_type": "markdown",
      "source": [
        "Countplots to display the frequency of each categorical feature class"
      ],
      "metadata": {
        "id": "eBROQO2VaJ5b"
      }
    },
    {
      "cell_type": "code",
      "source": [
        "# Make a barplot of TYPE vs MRP\n",
        "ax = sns.countplot(data=df, x='Outlet_Type',hue='Item_Outlet_Sales')\n"
      ],
      "metadata": {
        "colab": {
          "base_uri": "https://localhost:8080/",
          "height": 450
        },
        "id": "mc8vD7IsaSXL",
        "outputId": "2e3b600c-ae43-4c1f-c35c-1cb8e1af59e0"
      },
      "execution_count": 20,
      "outputs": [
        {
          "output_type": "display_data",
          "data": {
            "text/plain": [
              "<Figure size 640x480 with 1 Axes>"
            ],
            "image/png": "[encoded data removed]"
          },
          "metadata": {}
        }
      ]
    },
    {
      "cell_type": "markdown",
      "source": [
        "Heatmap to view the correlation between features"
      ],
      "metadata": {
        "id": "IeiGkRr1byRy"
      }
    },
    {
      "cell_type": "code",
      "source": [
        "# Find correlations\n",
        "mat_corr=df.corr(numeric_only=True)\n",
        "mat_corr"
      ],
      "metadata": {
        "colab": {
          "base_uri": "https://localhost:8080/",
          "height": 206
        },
        "id": "ZFv3tHWScNKq",
        "outputId": "aea6e950-7707-4519-977a-10ad59e981a1"
      },
      "execution_count": 21,
      "outputs": [
        {
          "output_type": "execute_result",
          "data": {
            "text/plain": [
              "                           Item_Weight  Item_Visibility  Item_MRP  \\\n",
              "Item_Weight                   1.000000        -0.010229  0.033330   \n",
              "Item_Visibility              -0.010229         1.000000 -0.007292   \n",
              "Item_MRP                      0.033330        -0.007292  1.000000   \n",
              "Outlet_Establishment_Year    -0.010596         0.009324  0.004105   \n",
              "Item_Outlet_Sales             0.010972        -0.009644  0.679594   \n",
              "\n",
              "                           Outlet_Establishment_Year  Item_Outlet_Sales  \n",
              "Item_Weight                                -0.010596           0.010972  \n",
              "Item_Visibility                             0.009324          -0.009644  \n",
              "Item_MRP                                    0.004105           0.679594  \n",
              "Outlet_Establishment_Year                   1.000000          -0.040869  \n",
              "Item_Outlet_Sales                          -0.040869           1.000000  "
            ],
            "text/html": [
              "\n",
              "  <div id=\"df-a5e29479-c46d-4eac-866b-adf00c55583f\" class=\"colab-df-container\">\n",
              "    <div>\n",
              "<style scoped>\n",
              "    .dataframe tbody tr th:only-of-type {\n",
              "        vertical-align: middle;\n",
              "    }\n",
              "\n",
              "    .dataframe tbody tr th {\n",
              "        vertical-align: top;\n",
              "    }\n",
              "\n",
              "    .dataframe thead th {\n",
              "        text-align: right;\n",
              "    }\n",
              "</style>\n",
              "<table border=\"1\" class=\"dataframe\">\n",
              "  <thead>\n",
              "    <tr style=\"text-align: right;\">\n",
              "      <th></th>\n",
              "      <th>Item_Weight</th>\n",
              "      <th>Item_Visibility</th>\n",
              "      <th>Item_MRP</th>\n",
              "      <th>Outlet_Establishment_Year</th>\n",
              "      <th>Item_Outlet_Sales</th>\n",
              "    </tr>\n",
              "  </thead>\n",
              "  <tbody>\n",
              "    <tr>\n",
              "      <th>Item_Weight</th>\n",
              "      <td>1.000000</td>\n",
              "      <td>-0.010229</td>\n",
              "      <td>0.033330</td>\n",
              "      <td>-0.010596</td>\n",
              "      <td>0.010972</td>\n",
              "    </tr>\n",
              "    <tr>\n",
              "      <th>Item_Visibility</th>\n",
              "      <td>-0.010229</td>\n",
              "      <td>1.000000</td>\n",
              "      <td>-0.007292</td>\n",
              "      <td>0.009324</td>\n",
              "      <td>-0.009644</td>\n",
              "    </tr>\n",
              "    <tr>\n",
              "      <th>Item_MRP</th>\n",
              "      <td>0.033330</td>\n",
              "      <td>-0.007292</td>\n",
              "      <td>1.000000</td>\n",
              "      <td>0.004105</td>\n",
              "      <td>0.679594</td>\n",
              "    </tr>\n",
              "    <tr>\n",
              "      <th>Outlet_Establishment_Year</th>\n",
              "      <td>-0.010596</td>\n",
              "      <td>0.009324</td>\n",
              "      <td>0.004105</td>\n",
              "      <td>1.000000</td>\n",
              "      <td>-0.040869</td>\n",
              "    </tr>\n",
              "    <tr>\n",
              "      <th>Item_Outlet_Sales</th>\n",
              "      <td>0.010972</td>\n",
              "      <td>-0.009644</td>\n",
              "      <td>0.679594</td>\n",
              "      <td>-0.040869</td>\n",
              "      <td>1.000000</td>\n",
              "    </tr>\n",
              "  </tbody>\n",
              "</table>\n",
              "</div>\n",
              "    <div class=\"colab-df-buttons\">\n",
              "\n",
              "  <div class=\"colab-df-container\">\n",
              "    <button class=\"colab-df-convert\" onclick=\"convertToInteractive('df-a5e29479-c46d-4eac-866b-adf00c55583f')\"\n",
              "            title=\"Convert this dataframe to an interactive table.\"\n",
              "            style=\"display:none;\">\n",
              "\n",
              "  <svg xmlns=\"http://www.w3.org/2000/svg\" height=\"24px\" viewBox=\"0 -960 960 960\">\n",
              "    <path d=\"M120-120v-720h720v720H120Zm60-500h600v-160H180v160Zm220 220h160v-160H400v160Zm0 220h160v-160H400v160ZM180-400h160v-160H180v160Zm440 0h160v-160H620v160ZM180-180h160v-160H180v160Zm440 0h160v-160H620v160Z\"/>\n",
              "  </svg>\n",
              "    </button>\n",
              "\n",
              "  <style>\n",
              "    .colab-df-container {\n",
              "      display:flex;\n",
              "      gap: 12px;\n",
              "    }\n",
              "\n",
              "    .colab-df-convert {\n",
              "      background-color: #E8F0FE;\n",
              "      border: none;\n",
              "      border-radius: 50%;\n",
              "      cursor: pointer;\n",
              "      display: none;\n",
              "      fill: #1967D2;\n",
              "      height: 32px;\n",
              "      padding: 0 0 0 0;\n",
              "      width: 32px;\n",
              "    }\n",
              "\n",
              "    .colab-df-convert:hover {\n",
              "      background-color: #E2EBFA;\n",
              "      box-shadow: 0px 1px 2px rgba(60, 64, 67, 0.3), 0px 1px 3px 1px rgba(60, 64, 67, 0.15);\n",
              "      fill: #174EA6;\n",
              "    }\n",
              "\n",
              "    .colab-df-buttons div {\n",
              "      margin-bottom: 4px;\n",
              "    }\n",
              "\n",
              "    [theme=dark] .colab-df-convert {\n",
              "      background-color: #3B4455;\n",
              "      fill: #D2E3FC;\n",
              "    }\n",
              "\n",
              "    [theme=dark] .colab-df-convert:hover {\n",
              "      background-color: #434B5C;\n",
              "      box-shadow: 0px 1px 3px 1px rgba(0, 0, 0, 0.15);\n",
              "      filter: drop-shadow(0px 1px 2px rgba(0, 0, 0, 0.3));\n",
              "      fill: #FFFFFF;\n",
              "    }\n",
              "  </style>\n",
              "\n",
              "    <script>\n",
              "      const buttonEl =\n",
              "        document.querySelector('#df-a5e29479-c46d-4eac-866b-adf00c55583f button.colab-df-convert');\n",
              "      buttonEl.style.display =\n",
              "        google.colab.kernel.accessAllowed ? 'block' : 'none';\n",
              "\n",
              "      async function convertToInteractive(key) {\n",
              "        const element = document.querySelector('#df-a5e29479-c46d-4eac-866b-adf00c55583f');\n",
              "        const dataTable =\n",
              "          await google.colab.kernel.invokeFunction('convertToInteractive',\n",
              "                                                    [key], {});\n",
              "        if (!dataTable) return;\n",
              "\n",
              "        const docLinkHtml = 'Like what you see? Visit the ' +\n",
              "          '<a target=\"_blank\" href=https://colab.research.google.com/notebooks/data_table.ipynb>data table notebook</a>'\n",
              "          + ' to learn more about interactive tables.';\n",
              "        element.innerHTML = '';\n",
              "        dataTable['output_type'] = 'display_data';\n",
              "        await google.colab.output.renderOutput(dataTable, element);\n",
              "        const docLink = document.createElement('div');\n",
              "        docLink.innerHTML = docLinkHtml;\n",
              "        element.appendChild(docLink);\n",
              "      }\n",
              "    </script>\n",
              "  </div>\n",
              "\n",
              "\n",
              "<div id=\"df-9d7ff3fd-d9cd-4039-b529-3c583b4d2050\">\n",
              "  <button class=\"colab-df-quickchart\" onclick=\"quickchart('df-9d7ff3fd-d9cd-4039-b529-3c583b4d2050')\"\n",
              "            title=\"Suggest charts\"\n",
              "            style=\"display:none;\">\n",
              "\n",
              "<svg xmlns=\"http://www.w3.org/2000/svg\" height=\"24px\"viewBox=\"0 0 24 24\"\n",
              "     width=\"24px\">\n",
              "    <g>\n",
              "        <path d=\"M19 3H5c-1.1 0-2 .9-2 2v14c0 1.1.9 2 2 2h14c1.1 0 2-.9 2-2V5c0-1.1-.9-2-2-2zM9 17H7v-7h2v7zm4 0h-2V7h2v10zm4 0h-2v-4h2v4z\"/>\n",
              "    </g>\n",
              "</svg>\n",
              "  </button>\n",
              "\n",
              "<style>\n",
              "  .colab-df-quickchart {\n",
              "      --bg-color: #E8F0FE;\n",
              "      --fill-color: #1967D2;\n",
              "      --hover-bg-color: #E2EBFA;\n",
              "      --hover-fill-color: #174EA6;\n",
              "      --disabled-fill-color: #AAA;\n",
              "      --disabled-bg-color: #DDD;\n",
              "  }\n",
              "\n",
              "  [theme=dark] .colab-df-quickchart {\n",
              "      --bg-color: #3B4455;\n",
              "      --fill-color: #D2E3FC;\n",
              "      --hover-bg-color: #434B5C;\n",
              "      --hover-fill-color: #FFFFFF;\n",
              "      --disabled-bg-color: #3B4455;\n",
              "      --disabled-fill-color: #666;\n",
              "  }\n",
              "\n",
              "  .colab-df-quickchart {\n",
              "    background-color: var(--bg-color);\n",
              "    border: none;\n",
              "    border-radius: 50%;\n",
              "    cursor: pointer;\n",
              "    display: none;\n",
              "    fill: var(--fill-color);\n",
              "    height: 32px;\n",
              "    padding: 0;\n",
              "    width: 32px;\n",
              "  }\n",
              "\n",
              "  .colab-df-quickchart:hover {\n",
              "    background-color: var(--hover-bg-color);\n",
              "    box-shadow: 0 1px 2px rgba(60, 64, 67, 0.3), 0 1px 3px 1px rgba(60, 64, 67, 0.15);\n",
              "    fill: var(--button-hover-fill-color);\n",
              "  }\n",
              "\n",
              "  .colab-df-quickchart-complete:disabled,\n",
              "  .colab-df-quickchart-complete:disabled:hover {\n",
              "    background-color: var(--disabled-bg-color);\n",
              "    fill: var(--disabled-fill-color);\n",
              "    box-shadow: none;\n",
              "  }\n",
              "\n",
              "  .colab-df-spinner {\n",
              "    border: 2px solid var(--fill-color);\n",
              "    border-color: transparent;\n",
              "    border-bottom-color: var(--fill-color);\n",
              "    animation:\n",
              "      spin 1s steps(1) infinite;\n",
              "  }\n",
              "\n",
              "  @keyframes spin {\n",
              "    0% {\n",
              "      border-color: transparent;\n",
              "      border-bottom-color: var(--fill-color);\n",
              "      border-left-color: var(--fill-color);\n",
              "    }\n",
              "    20% {\n",
              "      border-color: transparent;\n",
              "      border-left-color: var(--fill-color);\n",
              "      border-top-color: var(--fill-color);\n",
              "    }\n",
              "    30% {\n",
              "      border-color: transparent;\n",
              "      border-left-color: var(--fill-color);\n",
              "      border-top-color: var(--fill-color);\n",
              "      border-right-color: var(--fill-color);\n",
              "    }\n",
              "    40% {\n",
              "      border-color: transparent;\n",
              "      border-right-color: var(--fill-color);\n",
              "      border-top-color: var(--fill-color);\n",
              "    }\n",
              "    60% {\n",
              "      border-color: transparent;\n",
              "      border-right-color: var(--fill-color);\n",
              "    }\n",
              "    80% {\n",
              "      border-color: transparent;\n",
              "      border-right-color: var(--fill-color);\n",
              "      border-bottom-color: var(--fill-color);\n",
              "    }\n",
              "    90% {\n",
              "      border-color: transparent;\n",
              "      border-bottom-color: var(--fill-color);\n",
              "    }\n",
              "  }\n",
              "</style>\n",
              "\n",
              "  <script>\n",
              "    async function quickchart(key) {\n",
              "      const quickchartButtonEl =\n",
              "        document.querySelector('#' + key + ' button');\n",
              "      quickchartButtonEl.disabled = true;  // To prevent multiple clicks.\n",
              "      quickchartButtonEl.classList.add('colab-df-spinner');\n",
              "      try {\n",
              "        const charts = await google.colab.kernel.invokeFunction(\n",
              "            'suggestCharts', [key], {});\n",
              "      } catch (error) {\n",
              "        console.error('Error during call to suggestCharts:', error);\n",
              "      }\n",
              "      quickchartButtonEl.classList.remove('colab-df-spinner');\n",
              "      quickchartButtonEl.classList.add('colab-df-quickchart-complete');\n",
              "    }\n",
              "    (() => {\n",
              "      let quickchartButtonEl =\n",
              "        document.querySelector('#df-9d7ff3fd-d9cd-4039-b529-3c583b4d2050 button');\n",
              "      quickchartButtonEl.style.display =\n",
              "        google.colab.kernel.accessAllowed ? 'block' : 'none';\n",
              "    })();\n",
              "  </script>\n",
              "</div>\n",
              "\n",
              "  <div id=\"id_879b4747-5c1a-4f11-b7ec-a9d6972c14cb\">\n",
              "    <style>\n",
              "      .colab-df-generate {\n",
              "        background-color: #E8F0FE;\n",
              "        border: none;\n",
              "        border-radius: 50%;\n",
              "        cursor: pointer;\n",
              "        display: none;\n",
              "        fill: #1967D2;\n",
              "        height: 32px;\n",
              "        padding: 0 0 0 0;\n",
              "        width: 32px;\n",
              "      }\n",
              "\n",
              "      .colab-df-generate:hover {\n",
              "        background-color: #E2EBFA;\n",
              "        box-shadow: 0px 1px 2px rgba(60, 64, 67, 0.3), 0px 1px 3px 1px rgba(60, 64, 67, 0.15);\n",
              "        fill: #174EA6;\n",
              "      }\n",
              "\n",
              "      [theme=dark] .colab-df-generate {\n",
              "        background-color: #3B4455;\n",
              "        fill: #D2E3FC;\n",
              "      }\n",
              "\n",
              "      [theme=dark] .colab-df-generate:hover {\n",
              "        background-color: #434B5C;\n",
              "        box-shadow: 0px 1px 3px 1px rgba(0, 0, 0, 0.15);\n",
              "        filter: drop-shadow(0px 1px 2px rgba(0, 0, 0, 0.3));\n",
              "        fill: #FFFFFF;\n",
              "      }\n",
              "    </style>\n",
              "    <button class=\"colab-df-generate\" onclick=\"generateWithVariable('mat_corr')\"\n",
              "            title=\"Generate code using this dataframe.\"\n",
              "            style=\"display:none;\">\n",
              "\n",
              "  <svg xmlns=\"http://www.w3.org/2000/svg\" height=\"24px\"viewBox=\"0 0 24 24\"\n",
              "       width=\"24px\">\n",
              "    <path d=\"M7,19H8.4L18.45,9,17,7.55,7,17.6ZM5,21V16.75L18.45,3.32a2,2,0,0,1,2.83,0l1.4,1.43a1.91,1.91,0,0,1,.58,1.4,1.91,1.91,0,0,1-.58,1.4L9.25,21ZM18.45,9,17,7.55Zm-12,3A5.31,5.31,0,0,0,4.9,8.1,5.31,5.31,0,0,0,1,6.5,5.31,5.31,0,0,0,4.9,4.9,5.31,5.31,0,0,0,6.5,1,5.31,5.31,0,0,0,8.1,4.9,5.31,5.31,0,0,0,12,6.5,5.46,5.46,0,0,0,6.5,12Z\"/>\n",
              "  </svg>\n",
              "    </button>\n",
              "    <script>\n",
              "      (() => {\n",
              "      const buttonEl =\n",
              "        document.querySelector('#id_879b4747-5c1a-4f11-b7ec-a9d6972c14cb button.colab-df-generate');\n",
              "      buttonEl.style.display =\n",
              "        google.colab.kernel.accessAllowed ? 'block' : 'none';\n",
              "\n",
              "      buttonEl.onclick = () => {\n",
              "        google.colab.notebook.generateWithVariable('mat_corr');\n",
              "      }\n",
              "      })();\n",
              "    </script>\n",
              "  </div>\n",
              "\n",
              "    </div>\n",
              "  </div>\n"
            ],
            "application/vnd.google.colaboratory.intrinsic+json": {
              "type": "dataframe",
              "variable_name": "mat_corr",
              "summary": "{\n  \"name\": \"mat_corr\",\n  \"rows\": 5,\n  \"fields\": [\n    {\n      \"column\": \"Item_Weight\",\n      \"properties\": {\n        \"dtype\": \"number\",\n        \"std\": 0.44495698999319816,\n        \"min\": -0.010595867634830742,\n        \"max\": 1.0,\n        \"num_unique_values\": 5,\n        \"samples\": [\n          -0.010228731914370268,\n          0.010971826651563597,\n          0.03333043939161831\n        ],\n        \"semantic_type\": \"\",\n        \"description\": \"\"\n      }\n    },\n    {\n      \"column\": \"Item_Visibility\",\n      \"properties\": {\n        \"dtype\": \"number\",\n        \"std\": 0.44928015627439905,\n        \"min\": -0.010228731914370268,\n        \"max\": 1.0,\n        \"num_unique_values\": 5,\n        \"samples\": [\n          1.0,\n          -0.009644435672518254,\n          -0.007291862165767214\n        ],\n        \"semantic_type\": \"\",\n        \"description\": \"\"\n      }\n    },\n    {\n      \"column\": \"Item_MRP\",\n      \"properties\": {\n        \"dtype\": \"number\",\n        \"std\": 0.46861187708291174,\n        \"min\": -0.007291862165767214,\n        \"max\": 1.0,\n        \"num_unique_values\": 5,\n        \"samples\": [\n          -0.007291862165767214,\n          0.6795938191187427,\n          1.0\n        ],\n        \"semantic_type\": \"\",\n        \"description\": \"\"\n      }\n    },\n    {\n      \"column\": \"Outlet_Establishment_Year\",\n      \"properties\": {\n        \"dtype\": \"number\",\n        \"std\": 0.4518880849052343,\n        \"min\": -0.04086870957898735,\n        \"max\": 1.0,\n        \"num_unique_values\": 5,\n        \"samples\": [\n          0.009323643175487794,\n          -0.04086870957898735,\n          0.004104912960574437\n        ],\n        \"semantic_type\": \"\",\n        \"description\": \"\"\n      }\n    },\n    {\n      \"column\": \"Item_Outlet_Sales\",\n      \"properties\": {\n        \"dtype\": \"number\",\n        \"std\": 0.4810865217491988,\n        \"min\": -0.04086870957898735,\n        \"max\": 1.0,\n        \"num_unique_values\": 5,\n        \"samples\": [\n          -0.009644435672518254,\n          1.0,\n          0.6795938191187427\n        ],\n        \"semantic_type\": \"\",\n        \"description\": \"\"\n      }\n    }\n  ]\n}"
            }
          },
          "metadata": {},
          "execution_count": 21
        }
      ]
    },
    {
      "cell_type": "code",
      "source": [
        "plt.figure(figsize=(8,8))\n",
        "sns.heatmap(mat_corr,annot=True,cmap = 'jet_r')"
      ],
      "metadata": {
        "colab": {
          "base_uri": "https://localhost:8080/",
          "height": 870
        },
        "id": "eQUgSCQTb2my",
        "outputId": "237fb86b-e82f-4ccc-c215-cb9089240b38"
      },
      "execution_count": null,
      "outputs": [
        {
          "output_type": "execute_result",
          "data": {
            "text/plain": [
              "<Axes: >"
            ]
          },
          "metadata": {},
          "execution_count": 47
        },
        {
          "output_type": "display_data",
          "data": {
            "text/plain": [
              "<Figure size 800x800 with 2 Axes>"
            ],
            "image/png": "[encoded data removed]"
          },
          "metadata": {}
        }
      ]
    },
    {
      "cell_type": "markdown",
      "source": [
        "# Project 1 - Part 4 (Core)"
      ],
      "metadata": {
        "id": "PzcpgQzeM00C"
      }
    },
    {
      "cell_type": "markdown",
      "source": [
        "## Inspecting Each Featur"
      ],
      "metadata": {
        "id": "EXtlIIqrMrQx"
      }
    },
    {
      "cell_type": "markdown",
      "source": [
        "![DIc.png](data:image/png;base64,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)"
      ],
      "metadata": {
        "id": "GfqI0XdKMkcs"
      }
    },
    {
      "cell_type": "markdown",
      "source": [
        "Create a univariate visualization showing the distribution of values/categories"
      ],
      "metadata": {
        "id": "kPVhhr2fM-WY"
      }
    },
    {
      "cell_type": "code",
      "source": [
        "# Confirming the dtype to select correct EDA function\n",
        "feature = \"Item_Outlet_Sales\"\n",
        "df[feature].dtype"
      ],
      "metadata": {
        "id": "BADCCjkUNTkd",
        "outputId": "ae471622-812b-4d7b-9898-6c3bd9cb1ce1",
        "colab": {
          "base_uri": "https://localhost:8080/"
        }
      },
      "execution_count": 22,
      "outputs": [
        {
          "output_type": "execute_result",
          "data": {
            "text/plain": [
              "dtype('float64')"
            ]
          },
          "metadata": {},
          "execution_count": 22
        }
      ]
    },
    {
      "cell_type": "code",
      "source": [
        "# run the appropriate explore function (based on feature's dtype)\n",
        "explore_numeric(df,feature);"
      ],
      "metadata": {
        "id": "atIs-MhCNY0o",
        "outputId": "fe245f92-5677-401f-cb9a-e64acb2ff447",
        "colab": {
          "base_uri": "https://localhost:8080/",
          "height": 159
        }
      },
      "execution_count": 23,
      "outputs": [
        {
          "output_type": "error",
          "ename": "NameError",
          "evalue": "name 'explore_numeric' is not defined",
          "traceback": [
            "\u001b[0;31m---------------------------------------------------------------------------\u001b[0m",
            "\u001b[0;31mNameError\u001b[0m                                 Traceback (most recent call last)",
            "\u001b[0;32m<ipython-input-23-9048a5c90c35>\u001b[0m in \u001b[0;36m<cell line: 2>\u001b[0;34m()\u001b[0m\n\u001b[1;32m      1\u001b[0m \u001b[0;31m# run the appropriate explore function (based on feature's dtype)\u001b[0m\u001b[0;34m\u001b[0m\u001b[0;34m\u001b[0m\u001b[0m\n\u001b[0;32m----> 2\u001b[0;31m \u001b[0mexplore_numeric\u001b[0m\u001b[0;34m(\u001b[0m\u001b[0mdf\u001b[0m\u001b[0;34m,\u001b[0m\u001b[0mfeature\u001b[0m\u001b[0;34m)\u001b[0m\u001b[0;34m;\u001b[0m\u001b[0;34m\u001b[0m\u001b[0;34m\u001b[0m\u001b[0m\n\u001b[0m",
            "\u001b[0;31mNameError\u001b[0m: name 'explore_numeric' is not defined"
          ]
        }
      ]
    },
    {
      "cell_type": "markdown",
      "source": [
        "# Project 1 - Part 5 (Core):"
      ],
      "metadata": {
        "id": "nRpehGfwqSR-"
      }
    },
    {
      "cell_type": "markdown",
      "source": [
        "![projet5.JPG](data:image/jpeg;base64,/9j/4AAQSkZJRgABAQEAYABgAAD/4RDQRXhpZgAATU0AKgAAAAgABAE7AAIAAAADcGMAAIdpAAQAAAABAAAISpydAAEAAAAGAAAQwuocAAcAAAgMAAAAPgAAAAAc6gAAAAgAAAAAAAAAAAAAAAAAAAAAAAAAAAAAAAAAAAAAAAAAAAAAAAAAAAAAAAAAAAAAAAAAAAAAAAAAAAAAAAAAAAAAAAAAAAAAAAAAAAAAAAAAAAAAAAAAAAAAAAAAAAAAAAAAAAAAAAAAAAAAAAAAAAAAAAAAAAAAAAAAAAAAAAAAAAAAAAAAAAAAAAAAAAAAAAAAAAAAAAAAAAAAAAAAAAAAAAAAAAAAAAAAAAAAAAAAAAAAAAAAAAAAAAAAAAAAAAAAAAAAAAAAAAAAAAAAAAAAAAAAAAAAAAAAAAAAAAAAAAAAAAAAAAAAAAAAAAAAAAAAAAAAAAAAAAAAAAAAAAAAAAAAAAAAAAAAAAAAAAAAAAAAAAAAAAAAAAAAAAAAAAAAAAAAAAAAAAAAAAAAAAAAAAAAAAAAAAAAAAAAAAAAAAAAAAAAAAAAAAAAAAAAAAAAAAAAAAAAAAAAAAAAAAAAAAAAAAAAAAAAAAAAAAAAAAAAAAAAAAAAAAAAAAAAAAAAAAAAAAAAAAAAAAAAAAAAAAAAAAAAAAAAAAAAAAAAAAAAAAAAAAAAAAAAAAAAAAAAAAAAAAAAAAAAAAAAAAAAAAAAAAAAAAAAAAAAAAAAAAAAAAAAAAAAAAAAAAAAAAAAAAAAAAAAAAAAAAAAAAAAAAAAAAAAAAAAAAAAAAAAAAAAAAAAAAAAAAAAAAAAAAAAAAAAAAAAAAAAAAAAAAAAAAAAAAAAAAAAAAAAAAAAAAAAAAAAAAAAAAAAAAAAAAAAAAAAAAAAAAAAAAAAAAAAAAAAAAAAAAAAAAAAAAAAAAAAAAAAAAAAAAAAAAAAAAAAAAAAAAAAAAAAAAAAAAAAAAAAAAAAAAAAAAAAAAAAAAAAAAAAAAAAAAAAAAAAAAAAAAAAAAAAAAAAAAAAAAAAAAAAAAAAAAAAAAAAAAAAAAAAAAAAAAAAAAAAAAAAAAAAAAAAAAAAAAAAAAAAAAAAAAAAAAAAAAAAAAAAAAAAAAAAAAAAAAAAAAAAAAAAAAAAAAAAAAAAAAAAAAAAAAAAAAAAAAAAAAAAAAAAAAAAAAAAAAAAAAAAAAAAAAAAAAAAAAAAAAAAAAAAAAAAAAAAAAAAAAAAAAAAAAAAAAAAAAAAAAAAAAAAAAAAAAAAAAAAAAAAAAAAAAAAAAAAAAAAAAAAAAAAAAAAAAAAAAAAAAAAAAAAAAAAAAAAAAAAAAAAAAAAAAAAAAAAAAAAAAAAAAAAAAAAAAAAAAAAAAAAAAAAAAAAAAAAAAAAAAAAAAAAAAAAAAAAAAAAAAAAAAAAAAAAAAAAAAAAAAAAAAAAAAAAAAAAAAAAAAAAAAAAAAAAAAAAAAAAAAAAAAAAAAAAAAAAAAAAAAAAAAAAAAAAAAAAAAAAAAAAAAAAAAAAAAAAAAAAAAAAAAAAAAAAAAAAAAAAAAAAAAAAAAAAAAAAAAAAAAAAAAAAAAAAAAAAAAAAAAAAAAAAAAAAAAAAAAAAAAAAAAAAAAAAAAAAAAAAAAAAAAAAAAAAAAAAAAAAAAAAAAAAAAAAAAAAAAAAAAAAAAAAAAAAAAAAAAAAAAAAAAAAAAAAAAAAAAAAAAAAAAAAAAAAAAAAAAAAAAAAAAAAAAAAAAAAAAAAAAAAAAAAAAAAAAAAAAAAAAAAAAAAAAAAAAAAAAAAAAAAAAAAAAAAAAAAAAAAAAAAAAAAAAAAAAAAAAAAAAAAAAAAAAAAAAAAAAAAAAAAAAAAAAAAAAAAAAAAAAAAAAAAAAAAAAAAAAAAAAAAAAAAAAAAAAAAAAAAAAAAAAAAAAAAAAAAAAAAAAAAAAAAAAAAAAAAAAAAAAAAAAAAAAAAAAAAAAAAAAAAAAAAAAAAAAAAAAAAAAAAAAAAAAAAAAAAAAAAAAAAAAAAAAAAAAAAAAAAAAAAAAAAAAAAAAAAAAAAAAAAAAAAAAAAAAAAAAAAAAAAAAAAAAAAAAAAAAAAAAAAAAAAAAAAAAAAAAAAAAAAAAAAAAAAAAAAAAAAAAAAAAAAAAAAAAAAAAAAAAAAAAAAAAAAAAAAAAAAAAAAAAAAAAAAAAAAAAAAAAAAAAAAAAAAAAAAAAAAAAAAAAAAAAAAAAAAAAAAAAAAAAAAAAAAAAAAAAAAAAAAAAAAAAAAAAAAAAAAAAAAAAAAAAAAAAAAAAAAAAAAAAAAAAAAAAAAAAAAAAAAAAAAAAAAAAAAAAAAAAAAAAAAAAAAAAAAAAAAAAAAAAAAAAAAAAAAAAAAAAAAAAAAAAAAAAAAAAAAAAAAAAAAAAAAAAAAAAAAAAAAAAAAAAAAAAAAAAAAAAAAAAAAAAAAAAAAAAAAAAAAAAAAAAAAAAAAAAAAAAAAAAAAAAAAAAAAAAAAAAAAAAAAAAAAAAAAAAAAAAAAAAAAAAAAAAAAAAAAAAAAAAAAAAAAAAAAAAAAAAAAAAAAAAAAAAAAAAAAAAAAAAAAAAAAAAAAAAAAAAAAAAAAAAAAAAAAAAAAAAAAAAAAAAAAAAAAAAAAAAAAAAAAAAAAAAAAAAAAAAAAAAAAAAAAAAAAAAAAAAAAAAAAAAAAAAAAAAAAAAAAAAAAAAAAAAAAAAAAAAAAAAAAAAAAAAAAAAAAAAAAAAAAAAAAAAAAAAAAAAAAAAAAAAAAAAAAAAAAAAAAAAAAAAAAAAAAAAAAAAAAAAAAAAAAAAAAAAAAAAAAAAAAAAAAAAAAAAAAAAAAAAAAAAAAAAAAAAAAAAAAAAAFkAMAAgAAABQAABCYkAQAAgAAABQAABCskpEAAgAAAAM5NAAAkpIAAgAAAAM5NAAA6hwABwAACAwAAAiMAAAAABzqAAAACAAAAAAAAAAAAAAAAAAAAAAAAAAAAAAAAAAAAAAAAAAAAAAAAAAAAAAAAAAAAAAAAAAAAAAAAAAAAAAAAAAAAAAAAAAAAAAAAAAAAAAAAAAAAAAAAAAAAAAAAAAAAAAAAAAAAAAAAAAAAAAAAAAAAAAAAAAAAAAAAAAAAAAAAAAAAAAAAAAAAAAAAAAAAAAAAAAAAAAAAAAAAAAAAAAAAAAAAAAAAAAAAAAAAAAAAAAAAAAAAAAAAAAAAAAAAAAAAAAAAAAAAAAAAAAAAAAAAAAAAAAAAAAAAAAAAAAAAAAAAAAAAAAAAAAAAAAAAAAAAAAAAAAAAAAAAAAAAAAAAAAAAAAAAAAAAAAAAAAAAAAAAAAAAAAAAAAAAAAAAAAAAAAAAAAAAAAAAAAAAAAAAAAAAAAAAAAAAAAAAAAAAAAAAAAAAAAAAAAAAAAAAAAAAAAAAAAAAAAAAAAAAAAAAAAAAAAAAAAAAAAAAAAAAAAAAAAAAAAAAAAAAAAAAAAAAAAAAAAAAAAAAAAAAAAAAAAAAAAAAAAAAAAAAAAAAAAAAAAAAAAAAAAAAAAAAAAAAAAAAAAAAAAAAAAAAAAAAAAAAAAAAAAAAAAAAAAAAAAAAAAAAAAAAAAAAAAAAAAAAAAAAAAAAAAAAAAAAAAAAAAAAAAAAAAAAAAAAAAAAAAAAAAAAAAAAAAAAAAAAAAAAAAAAAAAAAAAAAAAAAAAAAAAAAAAAAAAAAAAAAAAAAAAAAAAAAAAAAAAAAAAAAAAAAAAAAAAAAAAAAAAAAAAAAAAAAAAAAAAAAAAAAAAAAAAAAAAAAAAAAAAAAAAAAAAAAAAAAAAAAAAAAAAAAAAAAAAAAAAAAAAAAAAAAAAAAAAAAAAAAAAAAAAAAAAAAAAAAAAAAAAAAAAAAAAAAAAAAAAAAAAAAAAAAAAAAAAAAAAAAAAAAAAAAAAAAAAAAAAAAAAAAAAAAAAAAAAAAAAAAAAAAAAAAAAAAAAAAAAAAAAAAAAAAAAAAAAAAAAAAAAAAAAAAAAAAAAAAAAAAAAAAAAAAAAAAAAAAAAAAAAAAAAAAAAAAAAAAAAAAAAAAAAAAAAAAAAAAAAAAAAAAAAAAAAAAAAAAAAAAAAAAAAAAAAAAAAAAAAAAAAAAAAAAAAAAAAAAAAAAAAAAAAAAAAAAAAAAAAAAAAAAAAAAAAAAAAAAAAAAAAAAAAAAAAAAAAAAAAAAAAAAAAAAAAAAAAAAAAAAAAAAAAAAAAAAAAAAAAAAAAAAAAAAAAAAAAAAAAAAAAAAAAAAAAAAAAAAAAAAAAAAAAAAAAAAAAAAAAAAAAAAAAAAAAAAAAAAAAAAAAAAAAAAAAAAAAAAAAAAAAAAAAAAAAAAAAAAAAAAAAAAAAAAAAAAAAAAAAAAAAAAAAAAAAAAAAAAAAAAAAAAAAAAAAAAAAAAAAAAAAAAAAAAAAAAAAAAAAAAAAAAAAAAAAAAAAAAAAAAAAAAAAAAAAAAAAAAAAAAAAAAAAAAAAAAAAAAAAAAAAAAAAAAAAAAAAAAAAAAAAAAAAAAAAAAAAAAAAAAAAAAAAAAAAAAAAAAAAAAAAAAAAAAAAAAAAAAAAAAAAAAAAAAAAAAAAAAAAAAAAAAAAAAAAAAAAAAAAAAAAAAAAAAAAAAAAAAAAAAAAAAAAAAAAAAAAAAAAAAAAAAAAAAAAAAAAAAAAAAAAAAAAAAAAAAAAAAAAAAAAAAAAAAAAAAAAAAAAAAAAAAAAAAAAAAAAAAAAAAAAAAAAAAAAAAAAAAAAAAAAAAAAAAAAAAAAAAAAAAAAAAAAAAAAAAAAAAAAAAAAAAAAAAAAAAAAAAAAAAAAAAAAAAAAAAAAAAAAAAAAAAAAAAAAAAAAAAAAAAAAAAAAAAAAAAAAAAAAAAAAAAAAAAAAAAAAAAAAAAAAAAAAAAAAAAAAAAAAAAAAAAAAAAAAAAAAAAAAAAAAAAAAAAAAAAAAAAAAAAAAAAAAAAAAAAAAAAAAAAAAAAAAAAAAAAAAAAAAAAAAAAAAAAAAAAAAAAAAAAAAAAAAAAAAAAAAAAAAAAAAAAAAAAAAAAAAAAAAAAAAAAAAAAAAAAAAAAAAAAAAAAAAAAAAAAAAAAAAAAAAAAAAAAAAAAAAAAAAAAAAAAAAAAAAAAAAAAAAAAAAAAAAAAAAAAAAAAAAAAAAAAAAAAAAAAAAAAAAAAAAAAAAAAAAAAAAAAAAAAAAAAAAAAAAAAAAAAAAAAAAAAAAAAAAAAAAAAAAAAAAAAAAAAAAAAAAAAAAAAAAAAAAAAAAAAAAAAAAAAAAAAAAAAAAAAAAAAAAAAAAAAAAAAAAAAAAAAAAAAAAAAAAAAAAAAAAAAAAAAAAAAAAAAAAAAAAAAAAAAAAAAAAAAAAAAAAAAAAAAAAAAAAAAAAAAAAAAAAAAAAAAAAAAAAAAAAAAAAAAAAAAAAAAAAAAAAAAAAAAAAAAAAAAAAAAAAAAAAAAAAAAAAAAAAAAAAAAAAAAAAAAAAAAAAAAAAAAAAAAAAAAAAAAAAAAAAAAAAAAAAAAAAAAAAAAAAAAAAAAAAAAAAAAAAAAAAAAAAAAAAAAAAAAAAAAAAAAAAAAAAAAAAAAAAAAAAAAAAAAAAAAAAAAAAAAAAAAAAAAAAAAAAAAAAAAAAAAAAAAAAAAAAAAAAAAAAAAAAAAAAAAAAAAAAAAAAAAAAAAAAAAAAAAAAAAAAAAAAAAAAAAAAAAAAAAAAAAAAMjAyNDowNDoxMSAxMjoxNDowOAAyMDI0OjA0OjExIDEyOjE0OjA4AAAAcABjAAAA/+ELFWh0dHA6Ly9ucy5hZG9iZS5jb20veGFwLzEuMC8APD94cGFja2V0IGJlZ2luPSfvu78nIGlkPSdXNU0wTXBDZWhpSHpyZVN6TlRjemtjOWQnPz4NCjx4OnhtcG1ldGEgeG1sbnM6eD0iYWRvYmU6bnM6bWV0YS8iPjxyZGY6UkRGIHhtbG5zOnJkZj0iaHR0cDovL3d3dy53My5vcmcvMTk5OS8wMi8yMi1yZGYtc3ludGF4LW5zIyI+PHJkZjpEZXNjcmlwdGlvbiByZGY6YWJvdXQ9InV1aWQ6ZmFmNWJkZDUtYmEzZC0xMWRhLWFkMzEtZDMzZDc1MTgyZjFiIiB4bWxuczpkYz0iaHR0cDovL3B1cmwub3JnL2RjL2VsZW1lbnRzLzEuMS8iLz48cmRmOkRlc2NyaXB0aW9uIHJkZjphYm91dD0idXVpZDpmYWY1YmRkNS1iYTNkLTExZGEtYWQzMS1kMzNkNzUxODJmMWIiIHhtbG5zOnhtcD0iaHR0cDovL25zLmFkb2JlLmNvbS94YXAvMS4wLyI+PHhtcDpDcmVhdGVEYXRlPjIwMjQtMDQtMTFUMTI6MTQ6MDguOTM4PC94bXA6Q3JlYXRlRGF0ZT48L3JkZjpEZXNjcmlwdGlvbj48cmRmOkRlc2NyaXB0aW9uIHJkZjphYm91dD0idXVpZDpmYWY1YmRkNS1iYTNkLTExZGEtYWQzMS1kMzNkNzUxODJmMWIiIHhtbG5zOmRjPSJodHRwOi8vcHVybC5vcmcvZGMvZWxlbWVudHMvMS4xLyI+PGRjOmNyZWF0b3I+PHJkZjpTZXEgeG1sbnM6cmRmPSJodHRwOi8vd3d3LnczLm9yZy8xOTk5LzAyLzIyLXJkZi1zeW50YXgtbnMjIj48cmRmOmxpPnBjPC9yZGY6bGk+PC9yZGY6U2VxPg0KCQkJPC9kYzpjcmVhdG9yPjwvcmRmOkRlc2NyaXB0aW9uPjwvcmRmOlJERj48L3g6eG1wbWV0YT4NCiAgICAgICAgICAgICAgICAgICAgICAgICAgICAgICAgICAgICAgICAgICAgICAgICAgICAgICAgICAgICAgICAgICAgICAgICAgICAgICAgICAgICAgICAgICAgICAgICAgICAKICAgICAgICAgICAgICAgICAgICAgICAgICAgICAgICAgICAgICAgICAgICAgICAgICAgICAgICAgICAgICAgICAgICAgICAgICAgICAgICAgICAgICAgICAgICAgICAgICAgIAogICAgICAgICAgICAgICAgICAgICAgICAgICAgICAgICAgICAgICAgICAgICAgICAgICAgICAgICAgICAgICAgICAgICAgICAgICAgICAgICAgICAgICAgICAgICAgICAgICAgCiAgICAgICAgICAgICAgICAgICAgICAgICAgICAgICAgICAgICAgICAgICAgICAgICAgICAgICAgICAgICAgICAgICAgICAgICAgICAgICAgICAgICAgICAgICAgICAgICAgICAKICAgICAgICAgICAgICAgICAgICAgICAgICAgICAgICAgICAgICAgICAgICAgICAgICAgICAgICAgICAgICAgICAgICAgICAgICAgICAgICAgICAgICAgICAgICAgICAgICAgIAogICAgICAgICAgICAgICAgICAgICAgICAgICAgICAgICAgICAgICAgICAgICAgICAgICAgICAgICAgICAgICAgICAgICAgICAgICAgICAgICAgICAgICAgICAgICAgICAgICAgCiAgICAgICAgICAgICAgICAgICAgICAgICAgICAgICAgICAgICAgICAgICAgICAgICAgICAgICAgICAgICAgICAgICAgICAgICAgICAgICAgICAgICAgICAgICAgICAgICAgICAKICAgICAgICAgICAgICAgICAgICAgICAgICAgICAgICAgICAgICAgICAgICAgICAgICAgICAgICAgICAgICAgICAgICAgICAgICAgICAgICAgICAgICAgICAgICAgICAgICAgIAogICAgICAgICAgICAgICAgICAgICAgICAgICAgICAgICAgICAgICAgICAgICAgICAgICAgICAgICAgICAgICAgICAgICAgICAgICAgICAgICAgICAgICAgICAgICAgICAgICAgCiAgICAgICAgICAgICAgICAgICAgICAgICAgICAgICAgICAgICAgICAgICAgICAgICAgICAgICAgICAgICAgICAgICAgICAgICAgICAgICAgICAgICAgICAgICAgICAgICAgICAKICAgICAgICAgICAgICAgICAgICAgICAgICAgICAgICAgICAgICAgICAgICAgICAgICAgICAgICAgICAgICAgICAgICAgICAgICAgICAgICAgICAgICAgICAgICAgICAgICAgIAogICAgICAgICAgICAgICAgICAgICAgICAgICAgICAgICAgICAgICAgICAgICAgICAgICAgICAgICAgICAgICAgICAgICAgICAgICAgICAgICAgICAgICAgICAgICAgICAgICAgCiAgICAgICAgICAgICAgICAgICAgICAgICAgICAgICAgICAgICAgICAgICAgICAgICAgICAgICAgICAgICAgICAgICAgICAgICAgICAgICAgICAgICAgICAgICAgICAgICAgICAKICAgICAgICAgICAgICAgICAgICAgICAgICAgICAgICAgICAgICAgICAgICAgICAgICAgICAgICAgICAgICAgICAgICAgICAgICAgICAgICAgICAgICAgICAgICAgICAgICAgIAogICAgICAgICAgICAgICAgICAgICAgICAgICAgICAgICAgICAgICAgICAgICAgICAgICAgICAgICAgICAgICAgICAgICAgICAgICAgICAgICAgICAgICAgICAgICAgICAgICAgCiAgICAgICAgICAgICAgICAgICAgICAgICAgICAgICAgICAgICAgICAgICAgICAgICAgICAgICAgICAgICAgICAgICAgICAgICAgICAgICAgICAgICAgICAgICAgICAgICAgICAKICAgICAgICAgICAgICAgICAgICAgICAgICAgICAgICAgICAgICAgICAgICAgICAgICAgICAgICAgICAgICAgICAgICAgICAgICAgICAgICAgICAgICAgICAgICAgICAgICAgIAogICAgICAgICAgICAgICAgICAgICAgICAgICAgICAgICAgICAgICAgICAgICAgICAgICAgICAgICAgICAgICAgICAgICAgICAgICAgICAgICAgICAgICAgICAgICAgICAgICAgCiAgICAgICAgICAgICAgICAgICAgICAgICAgICAgICAgICAgICAgICAgICAgICAgICAgICAgICAgICAgICAgICAgICAgICAgICAgICAgICAgICAgICAgICAgICAgICAgICAgICAKICAgICAgICAgICAgICAgICAgICAgICAgICAgICAgICAgICAgICAgICAgICAgICAgICAgICAgICAgICAgICAgICAgICAgICAgICAgICAgICAgICAgICAgICAgICAgICAgICAgIAogICAgICAgICAgICAgICAgICAgICAgICAgICAgPD94cGFja2V0IGVuZD0ndyc/Pv/bAEMABwUFBgUEBwYFBggHBwgKEQsKCQkKFQ8QDBEYFRoZGBUYFxseJyEbHSUdFxgiLiIlKCkrLCsaIC8zLyoyJyorKv/bAEMBBwgICgkKFAsLFCocGBwqKioqKioqKioqKioqKioqKioqKioqKioqKioqKioqKioqKioqKioqKioqKioqKioqKv/AABEIAdUDJAMBIgACEQEDEQH/xAAfAAABBQEBAQEBAQAAAAAAAAAAAQIDBAUGBwgJCgv/xAC1EAACAQMDAgQDBQUEBAAAAX0BAgMABBEFEiExQQYTUWEHInEUMoGRoQgjQrHBFVLR8CQzYnKCCQoWFxgZGiUmJygpKjQ1Njc4OTpDREVGR0hJSlNUVVZXWFlaY2RlZmdoaWpzdHV2d3h5eoOEhYaHiImKkpOUlZaXmJmaoqOkpaanqKmqsrO0tba3uLm6wsPExcbHyMnK0tPU1dbX2Nna4eLj5OXm5+jp6vHy8/T19vf4+fr/xAAfAQADAQEBAQEBAQEBAAAAAAAAAQIDBAUGBwgJCgv/xAC1EQACAQIEBAMEBwUEBAABAncAAQIDEQQFITEGEkFRB2FxEyIygQgUQpGhscEJIzNS8BVictEKFiQ04SXxFxgZGiYnKCkqNTY3ODk6Q0RFRkdISUpTVFVWV1hZWmNkZWZnaGlqc3R1dnd4eXqCg4SFhoeIiYqSk5SVlpeYmZqio6Slpqeoqaqys7S1tre4ubrCw8TFxsfIycrS09TV1tfY2dri4+Tl5ufo6ery8/T19vf4+fr/2gAMAwEAAhEDEQA/APpGiiigAooooACcDJoyAMkjFI6LJGyOoZWGGBHBFchY2s82rxeHLlS1no7LciQnPnRknyE/4CQ2f+uanvVJXE3Y7CiuatX1nWbafUbXVFs1WWVLa2ECPGQjFQZSfmJJUn5SuAcds0/Qden1jU4yw8uCXTIbkQ4B2uzOG56n7op8jC50VFZWjXs93d6slw+5ba9MUQwBtXy0OPfljWPe6pqUGtXC3OotpwSdVtI5rX/RJ4zt+9NtOHJLADcpBx8p7pRbdgudWkscjuiSKzRnDqDkqcZwfTgg06uWt7TUbzxDrotdSewiW4jKmGJHZ28lPvbwRt6cAA9eabaa1qWsRabZQzx2lzPHO11cRxhiPKcRny1bIBLEHnIA9afIK51dFcjqWrapo9vqlnJdi5mt7aO5t7polD7WfaVcAbSQRwQBwenGTs6xfXFpqGjxQPtS6vDFKMA7l8qRse3KilysdzTjljmj3wyLIhJG5TkcHB/Wk86Lz/J8xPNC7/L3DdtzjOPTPeuR0y6vZbbT9J0+4FoZzdzy3ARXdUSYjCBuMkuOSCAAeOatadDe2/j2eK9uhdqumJ5cxQK5HmtncBhc57gD6cctwtcVzpfNj84Q+YvmFdwTPzEdM49ORTq5rXdQOla3LfrGJGt9JmdUJwGIkTAJ7c0t1JrGiW8GoXeqC+Rpoo7m2MCIih2CZiIG4YLA/MWyBjjrRyjudJRXOWT6vrQuL+31MWcUc8sVvbLCjowRimZCfmOSpOFK4GO9UtM1fV9X07RbT7Ultd3ltJcXV0iKxUIwXCAjGSWHJBGAeOaORiudb50Xn+T5ieaF3+XuG7bnGceme9PrmNOhvbfx7PFe3Qu1XTE8uYoFcjzWzuAwuc9wB9OObd5Nf6h4gk0uyvTp8NtbpNLNHGjyuzswVV3ggAbDkkHORjGKHHUdzcqCS+tIbyG0muoY7mcExQtIA8gHXavU49qytButSk1fWLPU7iOcWkkSwukezKtGDkj1z17emOgoRWtyvxC1e6Goz7Y7CAiApHtwTLxnbuwCM9ep5yMCjl3uFzq6K41da1ay8J6dfX12ZrzVDCi+VZmRbfcpYkIgLOcA+2ewGansNX1Eai1pbPqGppJbyOkt9pslt5UqgbVLeWilWz6ZGOp7HIxcyOqZgqlmIAAySegpEdJY1kjZXRwGVlOQQehBrkdN1K8nDw3mpySTSWkjXFje2v2eSNwBzF8o3oCSCct2+b1ZZSavpXhXR9Tl1ESIUtY5bLyVEQRyqfKwG/cNwOSxBweBnh8gcx2dFZuv3N1ZaS97ZE5tWWWVAoPmRA/Ov125Ix3ArM1bxDNaTX11aES2em2BnlRRnzZH5Rc4zwoJOP7wqVFvYbdjpaK4631rUIbq0cXOp6i08yR3FvJos0ESBjgsjGMbQuc/OzcA855qe0u/EE+g6hqMc63Fwsk8drarCuAFlZQx6FmwOBkDoOvNNwaFzHTXFxBaW73F1NHBDGNzySMFVR6kngVICCAQcg9CK406rcDRdXKaqb7ybTzBHfWohuIm5+9GUUFDjglex5NabS6hq+r3lraag2nW1jsQtDGjySSMoY53ggKAR2yTnmhwsFzforkjrGsXMlnYR3EMN0uoyWd1OsWVdViZw6qc4JG3jJwc9RwdLTJ7211640m+vGvkFulzDNJGqyAFmVlbYAp6AggDrQ4tDubdR3FxDa27z3U0cMMalnkkYKqgdyTwBWPeTX+oa/LpdlemwhtrdJpZo40eV2dmChd4KgDYc5U5yMYxWBr8l/faZLpl1fvHNZaraRm4giQeejuhUsrKwBGeccErnGDihQuxNncQzRXECTQSJLFIoZHRsqwPQgjqKV5Y43RHkVWkOEUnBY4zgevAJrO1m3mbwveQC8lWUWrA3AVN5wvJxt28/TvxiueNpqEVn4Xhi1KSaaSbPnzxpmJDbvkKFVQcds56856UKN+o2ztKK5W51m+8OnVYr25bU1tbAXsDyRqsh5ZSjbAARkDBAB5PWoLfWtQhurRxc6nqLTzJHcW8mizQRIGOCyMYxtC5z87NwDznmjkYuZHY0VheKNUvLCKxtNMaOO61G5Fuk0i7liBBJbHc4HArN/tLWdE1h9L1LUE1EXFlLcW9x5CxvGyDkEDgj0NdFPCznBSTWt7Lq0t3tb8TOVVRdmjqbq8trGJZLy4igRmCBpHCgseg571NXnZv9am8GadqmrXltdm9ubXZCbRMRgvgnnOWPBzgY7VrQ3eva9qupvpmpw6dbafcG2jha3WTzmUAkuTyBz2raeBcU25LRtN620t5X3ZCrpvZ6/13OonvLa1khjubiKJ532RK7gF29B6mpq8+sNcv9R03wxcagYJp7jU5I5GMKHAG/G3j5TwORzUsd94nv7TW7+21mKCPTbqdIoDaI3mKnO1m7DHHHPvVSy+UdHJK2j3tu1pZeQliE9Un/Sud5Uc9xDawNNczRwxL955GCqPqTXHw65q/iXULOz0q8TSlOnx3s8whErMX4CKG4A681kavqOq3PhrxXZazcxXDWMsEcbRRhBgkHOPU8EjJwaVPL5uajKST0uuqTaXa3XuEsQkrpd/wVz0vORkVHNcQW4Q3E0cXmOETewXcx6AZ6n2rL8R6vJoXhe41CCNZJY0URq3TcxCjPtk1y2v2mu2jaE2q6vFqEUupwFl+zrEY2ySNpHUdevPSssPhPa2bkkm2vN2V3b/g2LqVuTZXPQaK4y2vvEWuLqOp6fqcFlb2k8sMFm1uriTy+CXY8jPt0rGkuNU1y18GXsmpGG5uJZMyLAh2vhvmxjHQYx0rWOXyb96aVt99HZvt5dLkvEJbJ/00v1PTKK5JbnXda16/s9O1WPT4NLKRMxtlka4kK5JbP3V9hVvwXqeoarpFzLq0sclxFeywkxqAoCkDA9vrzWFTCyhBzclpa61vrqulvxLjVUpWt3/A6KiuDn1zXLfxDIl9qK6aPtYjt7W5sz9nnizwROASGI9xzxim3fiTVb7VtSWyv7ixisZjBFDDpT3QmZRyXcKcZPGAQcVssuqu2qta99f8tfldeZDxMV0/L/M76o57iC1j8y5mjhTIXdIwUZPAGTXASyarrPinwzdvcSaXcz2kxaJrcExMv3uGGcN79BWz8RPM/wCET/clfM+1wbN3TPmDGaX1K1WnTlL4t/LVr57D9veEpJbf5XOqorkP7R1nQPEVva6vqKanbXlvNIuLdYmiaNdxAx1BHrWLb+KtemsYtXhuLm5aVg/9lx6RIY9hPRZgvJA5znFOOX1Jq8WmtLPXW9/LTZ72XmJ4iK0ad/l/n5npNFchFqes3PizV1W+SHTdMEcrQGAF5AY9xTd29c8msW38Va9NYxavDcXNy0rB/wCy49IkMewnoswXkgc5ziiOX1JbNdO/VXS27fLzB4iK6d/w/r1PSaKyfEN/PY6H9ptG8uQzQLkqDgNKqkYPsTS6pez22s6Nbwvtjup5ElGAdwETMPpyBXBys6LmrUVvcwXcXm2s8c8e4rvjcMMg4IyO4IIrl9O1TUm1eGPUdRa3upJ2STT7q18uFk+bHkSbfnbAB+83GcheyW99ql1JptrZ3SWq3M16J5FhUkKkmFKjGN3uQeuSDT5GLmOuorlZtZ1DR01WznuFv57ZYGtZpkCE+cxRRJtwDhgTkAcds8l2pHXNGSxl/tj7Ws97BDcLLbou1WcA+XtAwO2G3HnrxycjC51FFZHia9vbDSY5dNaNbh7qCJTIPlw8iqc/gfrVaeXU9F1Gxa51Jr+1vZ/IkjlhRDExUlShUDjK4IbJ568cpRuh3N9mCqWYgADJJ6CkjkSaJZYXWSNwGV1OQwPQg1y0T6zq3h+XWItSWETwu8Nl5KGHZzgO2N+4jqQwAPY45dHd3dj8MdPuNOZVuVtLVYy4yMsUXn86fIK51NFcrquqX2m3djpMmoXRknjknmvLbTzPIApUBUREYLy3Vg3AxyTmoU8RalFZ3UEazzyCaCG0vb6xktgxlbb86sqbivU7cA5A4o5HYOZHYUEgAkkADqTXM3ba1pGpaPGdWN7b3d55Vx58MauB5bsApRQMZUcEZ9+1Ntn1nWNIl1aLUlgWVZDBZeSjRbASBvbG8sQOSGAGehxycnW47nTRSxzwpLDIskbgMrochgehB706sfwhn/hCtGz1+ww/+gCpte1CbTtLMtqENxLLHBEZBlVZ3CBiMjIGc4zzjFK2tgvpc0qKybez1mzvEZtSGoW7q3mrcRpG0bY+UoUUcZ4IbJ5znjBxtI1HVLi6hgvdUe3vpkdZ7K6tBEI22k5t22/vApx/E4I7jpQo36hc6+s9tTd9Zk06zgEzQw+ZPIz7VjJ+4vQ5JwT7DnuBWTFrV7daZplsjiPU57jyLkhQdnlH982D2IXA/wB9at+G/nl1iZh+8fUpQx9lCqv/AI6BT5bLUL3L2lakuqWXnCNoZUdopoWOTFIpwy+/se4IPertYulgR+KNcjQ/IxglIx0coQf0VaZNLqOq69d2Vnftp9tYrGHeGNHkldhux84ICgY7ZJJ5GOU46hc3aK4z+19eW1v4TdW7XcOsQ2ccgh+Ty2EecrnPRievXvV+W/vdA1Mw319JqNtLZzXKmWNEkRotpIBQAFSG7jII6nNPkYuY6GWaOCF5Z5EjjQbmd2ACj1JPSng5GRXD6/DrcvgG/wBQuNUSR57Jnks/JUQopXJCMBvyB3LEH0GeOsvpLuLRJ5NNiWW8WAmCN+jPt4B5Hf3ocbdR3LlFcYt3d32m6jbf25cMzWUjvHdWiwXMLD+6hjAMZ5GSD2wxzVi2bUrXTNF0u21OSSe+j3m7njjLQxrGCQiqoBOSAMg9STnGKOTzFzHV0VzDXOr6d4iWwn1D7Xatp086O8SLJvVkA3bQAcbjjAHXkHGazr6DV7/wVp11f6xLHcXNxZSsLeGIKm6ROBuVs8nOfUdhxQoeYcx3FFRW0UkNskcs73DqMNLIFDP7kKAPyAqWoKCiiigAooooAKKKKACiiigAooooAKqRadDFq1xqKs5muIo4nUkbQELEY46/Oe/pVuii4GJP4ZV5JhaarqFla3Dl5rW3aMIxb7xBZC6Z77WHqMHmpLnw7C720mnXdzpcttD5CPabDmLshV1ZSBjIOMj15Odeiq5mKyM/SNGh0aO5WCaedrmc3ErzuGYuQAew446du2BgVVvfDSXs0wk1O+WzuG3T2SshikPcZZC6g45CsB+ZztUUczvcLIrW1jFa3V3PGzlrqQSOCRgEKF4/BRWcfDFslpDFa3V1bTW8kkkN1Ey+YnmMWYcqVKnPQqeg7jNbVFLmYWRkQ+G7UWt5Ffz3GoSXyeXcT3DKHZBnCjYFCgZONoHJz15qGLwuPttlc32sajfPYSGS3Wdowqkqy8hEXdw3U5PHXrndop8zCyMaXw1btaW8dtd3VrPaySPDdQsvmJvYlhypUqc9CD0HcZp+neH4rDVZdTe8u7y8mhEEktwy/MoYkfKqgDr2AH481rUUczCyKV1pNre3TTXSmQPbPbPGfusjEE57549aow+Ggs8Bu9V1C+t7Zw8NrcNHsRh90kqgZ8dtzHnBOTzW3RS5mFkYr+G1F3PJaapf2cFy5ee1gaPy3Y/eILIWTPfaw554PNNTwpaQaVYWdjdXVo+nArbXMTL5iA9QdylWB9CpHAPUA1uUU+ZhZGTp3h+Kw1WXU3vLu8vJoRBJLcMvzKGJHyqoA69gB+PNP1HRFvb2O9tr66067RPLM1rsJdM52srqykA8g4yMnB5NadFHM73CyMzSdCt9InvJ4p7iea9dZJ5J3DFmVdueAMcDoOPQAcVONLhGpXV8Gk826hSFxkbQqlsY46/Of0q5RSuwsZz6JavotvpheUR2yoIZVbEiFMbWBA68emD6Y4qK20BY53nv9QvNSmaJoVe4KJ5aNjcFEaoATgc4zx1rWoo5mFkYsHhtUuElvNTvr7yo3jgW4MeIQwwSCqAsccZYn88mrM2i20+iQaW7yiCERBWBG4+WVK5OMfwjPFaNFPmYWQjKHUqwBVhgg9xWVpnhuw0vR5tMQSXFvOW8zz2DFlI2hcgDgKAo9gPrWtRSux2MaDw5suIGutV1C9htmDw29w0exGH3SSqBnx23E+vJ5qyujW6aTJp6yzrHI7vvV9rqzOXyCMYwTx+ua0KKfMxWRhjwxHLHdDUNRvb6W5tzbGaby1ZIzyQoRFXrzkgmp73QvtF413Y6leabcSIEle18s+aBnGVkRhkZPIAP4cVq0UczCyMy20C0tVsxE0xa1mecOz7mlkdWDM5I5zuJ4x27cVZGnxDWDqW5/OMAg25G3aGLZ6Zzk+tWqKV2FjN1DRRe3a3dte3Wn3ap5ZntthLpnO1ldWUjPIOMjJweTUK+GrQWH2aSa4ldrqO7luHYGSaRGVgWOMY+UDAAAAwMVsUU+ZhZDJokuIJIZRlJFKsM9QRg1mWWgLaR2SS6heXn2GQvA0/l5UFCgU7UXIAJ68+pNa1FJNodihcaPaXV9Nc3KtJ59r9lkiYjYyZJ6dc8nvVWDw5suIGutV1C9htmDw29w0exGH3SSqBnx23E+vJ5rZoo5mKyMXxNpU2sWUdtDawy7X8wStdtbvC4+6yFY3569cfjWPZeHdXtZ7i4uLeC+uriEwG4utWdmRD1VcW4A9eldlRXVTxU6dP2aWnz/wAzKVKMpcxyD6Bqj6BZaQbC0+z2TxvGw1Rt5KHIyfs+PrwKoaxBbWviHUXnt9esRcAE/wBmZkivuO+FOx+x5H15rvqK0hjZRd2u+zfWz637EyoJrRnDaN4Z1C38N6Gv2OPz7Kd7oRTXZi8ssTtU4jfdwxz0wR3rQtdI1e0sdQtY9PsimoSyyyltTfKmQYO3/R+npnNdTRSnjZzbcktXfr3v37jjQjFJJ/l6HESeFdU8uxNpbxWdxZQC3S5t9WZXeMfwtm2IPr0pkfg2+j03UbIWkLJqTI87vq7s5Zecgm37nk5z+Fd1RVf2hVtay/Hvfv3F9Xh/Vv8AIwb631jUdOlsb3R9Mlt5U2Op1KTkf9+KwF8G6s0tnJdFrs2MqyW4n1lmCbTnGPs3P1PPHUV3tFRTxk6StBJff/mOVFSd2/y/yOHuPCmqTXd1JDClpDeNuubW31h1ilJ6kj7PkZ74IzTn8KakdF0/TorWGAacxe3uItWZZVJznn7Pjv6V21FX9fq6Ky09e1u/bQX1eP8AVv8AI4u78NazcX7XtuiWVxLGsc72usOvngDALZtzz7jFXNB0nVvDtg9nYabYmJ5Wl/e6o7EFu2fs/TjvzXUUVEsZOUOSSVvn0269Bqik+ZPX5f5HDTeEdSnuZSbeJbSaf7RLYrq7+S75znH2fOCRnANS3vhrWLm9uLi2ijsPtf8Ax8x2mruqSnGMkG3ODjjIxXaUVX1+p2X4/wCfkhfV4/1b/I4+98O6pd/YDDZ29lJp6lIJLbV5A20gAgk25znH1q5q9hrOtWAtLrTrFYxKkuY9TcHKsGHW3PcV0lFR9bleL5Vptv69yvYrXXf0/wAjmrvT9YvdWstQm02w82zEioo1N9rBxg7h9n56etZcXhLVIWSNIU+wxyealh/bL+SpznH/AB77tuecZxXc0U44ycFaKVvn5+fm/vE6MW7t/l/kc1a6frFpqd/fJptg0l/s81X1Jyo2rtGB9n9PXNZcXhLVIWSNIU+wxyealh/bL+SpznH/AB77tuecZxXc0URxk43sl079NF16IHQi93+X+RVvLGPVNLe0v48LMgEixuflPX5W4PB6HjpWdB4a26jZ319q+oX81kWMPnmNVG5SpyERQeD1PPv1B26K5OZrY2sYsfhpFu4Xl1O+uLa3l86GzlZDGjjod2zecZOAWP6DFi10O2tJ7eWN5S1u0xTcRg+a25s8evT+taVFHMwsjI1PRreVNTumt5byS7tVhe2EgXeE3FQp7Nljzn06VzX2ZtVuNMgiu9evpIbuKfGo2ZgS2VGyxZvLQO2PlGSx5yO5rvKKam0JoxfFVl/aGkxWxieVWvLcuEzkKJVJORyMdc9sU638P7NRiu77U73UWtyTbx3PlhISQQWARFycEjLZ4+prYopcztYdtTBfwpEUnt4tU1CHT5yxewjePy/mzuAYpvUEknAYD8OKnXw7AunpYm7u2tkhgiSMsuF8pshh8vU4Ge3HAFa9FHMwsihqWkpqDwzJcz2d1BkRXNuV3qDjcuGBUg4HBB6A9RVZfDVq9jdW97Pc3kt2VaW5lcCQlfuFdgAXaRkbQOeeua2KKXMwsjCXwusl5ZXWo6tqGoS2Mvm25nMShTtKnIRFByG6nn0I5yP4WjzPFBqmoW9jcMzSWMTRiMlslsMULqCSThWA9Mc1u0U+ZhZGSllfaVptlYaIttJBbQrFm7kYNhQAPurg8D2pxsrrVLCe016K2EcmNv2WR8gg5ByQCCCAQR3FalFHMFjItdA8u8jub/U73UnhUrCLkxqI8jBIEaLk44yckc4xk0y18NpBeW0s+p315FZsWtoLhkKxEqVzuCB2wCR8zHr3PNbVFHMwsjMt9BtLXX7nV42lM9wgUoWGxDwGZRjgttXPP8I98x29pdafr95LDCZbK+UTNtYAxzKApGCRkMAv0IOeta9FLmYWMvQrK4t4bm7v1CXd9MZpYwQfLGAqpkcHCqAcd80l9oX2rUPt1nqN5ptyyCOV7XyyJVGcBlkRhxk4IAPPXHFatFHM73Cxi2nhaytI5UjmuX869S+dpJAzNIu3vjodoyPc4wMYvXGmQXWpW97KWLwRyRKnG1lfbnIx/sj9auUUczCyObn8FwXOmy6ZNq+ptpjoUSz3x7Yx2AbZvIHYMxHrkcVvXFrHc2UlrIXEciFCUcqwGMcEcg+4qaim5NhZGNb+HES5ae/1C81KTyHt0Nz5Y8tGxuA8tFyTgcnJ4+tMHhhP7MgtJNUv5JLV99rdkxCW3wNoCkIFYYyPmDZzzmtyijmYWRiQeGYY9R/tC6v729uzbPbGWZkGUYg42qoUYxxgDrzmrVxokFxoMeledPHHCsaxzIw8xDGQVYZGMgqDyMe1aNFHMwsiK1he3tY4pbmW6dFw00oUO59TtAXP0AqWiipGFFFFABRRRQAUUUUAFFFFABRRRQAUVHcJJJbSpBKYpGQhJAAdhxwcHg1z1trl5f2GkwRkRahcTmO7woPleUf3xwexICj/AHwaaTYmzpaK5i2l1rVNKbWbbU1t9wd7ez8lGiKAnaJCRvJIHJVhjPQ45saJrk2rauSMpayaZbXUcRAyrSF889+FH5VTiwub9FcnPq2rSrJFZ3MaSnWjZq7xBgsWzPTjOOvWtvULt9F8OXF3M7Xclpbs5Z9qmQqM84AAz7Ck4tBc0abHLHKGMUiuFYq205wR1H1rHt7PXYZLe4fVUuy7L9ptpIVSJVPUxlRuBHbcWz04zkYb6xNp6fY7d5YWvNUuw08Nq9w8aKxJ2ooPJyBkggck56U1C+wrnbUVxyeJL+xt78AXl/HDAr29zfWD2p8xnCBHJRFIyQcqBxn61Y1Q67o1taXA1j7X517bxTpJbooVXkVT5e0ZA5xhtxx3yOTkYcx1NRG5gW6W1aeMXDoXWIuN7KCASB1wCRz71z8I1vVLvVjHqxs47S6MVsscEbBgEQ/vNwJIyTwNp9+mK39v3VzY21/GI4pJdEnuuEB2yLs6EjOMk8fTNHIFzrqK5drjWNOtdO1O81P7QLiWGK4tDAgjXzCFyhA3AgsOpIPPA7T2z6rrVxd3Ntqf2GC3uHgghSFHDlDtLSFgTgsDwpXjvnocvmO50NFY/ha+vNR8PxXGpMjXJllRygwvyyMoA9sAVn6Z/bus6fNdjVxaPHczxwRpAjo4SRlXzMjJ6dFKnHcmly7hc6iiuUtNW1XXLzSRbXCWMNzYNcXISMOwdXRcKW+p5IPHbPIntm1jW47i+tNUFiiTyxW1usCOjbGKZlJ+Y5Kk4Urge/NNwa3Fc6SiuXstYvvEbWkFpOdMDWS3VxJGqu+5mKhU3gjGVbJKnt0pNU1TVdEs7e1u5xLNdXfkQ3kNq8riPYXLNEg5f5SOOOhwBkUcjvYOY6miuStNX1UXFza2P27U82kksE1/pz2pWZcYRmKIrBs8YAI2nOc8P0jUr+WaWNNSe7uPszubPULb7NMkoxjYNq5jzkE/N2wxo5GHMdVRXL+H9SvJ9QhhvNTkkmkhZrixvbX7PJG4xzF8o3oCSCct2+b1v6pc3s+s2uk6fciz82GSea4CK7qqlVAQNkZJbqQQAOnPCcWnYd9DZorlLvU9W0x721a5+1vp6Q3vm+UoeaAswkRgBjcArEFQM8cdczat4hmtJr66tCJbPTbAzyooz5sj8oucZ4UEnH94U+RhzI6WiuOt9a1CG6tHFzqeotPMkdxbyaLNBEgY4LIxjG0LnPzs3APOea1dAl1K9nvLq+vAYI7qeCG3SJR8qyEBmbqTxgYxx1yaHBrUE7m5RXN3dlcy/EC3lj1S5gQWLMYUSIqQJEyuWQnB7859MUy2l1rVNKbWbbU1t9wd7ez8lGiKAnaJCRvJIHJVhjPQ45OXzC509FZi63G3hQa55TeWbP7V5eecbN2K5uHX9SSK2vFuNSvJpXj82x/sSaOEKxAOx/LBBUHOWYg4PTPAoNg2jt6K5qEa3ql3qxj1Y2cdpdGK2WOCNgwCIf3m4EkZJ4G0+/TFSXXNRvbLS7x57nTrK5tBLJcWVp5+2bj5WyrbUxk5I/4EO5yMXMdhRXP6dqt3caxpsEt1bXEU+nPO72vMcjh0AZT1xhjxnvVXUdZ1OJNcWzmQS215bQ2+9AVUOI859fvH3o5Hew+Y6qiuT1PVL2x1G20eTULzcYGuJ7y104zyHLYVVVEZUHXlgeABycmtHw5qV3e/a4btbmRLd1EV1cWb2zTKRnlWVeQcgkDHTp0ocGlcL6m2SACSQAOpNNjkSWJZInV0cBlZTkMD0INcxa2VyvijXZzqly0QWMm3KRbCDGcDOzdx25+uapafJq+l+DdK1Z9RDokNuJLLyU8ry2Krw2N+4A5zuIJHQU+TzFc7aiuOn165vNSv1jvtQso7SdoIktNIkuVkK4yXcRsCM9lKkAdcniaDU9a1a80iFHbSxc2cs10rW/zhkdFG1XGVzk/eB4PTPIXIw5kdXQSACScAdSa4yTX7q9vb0xX2oWS207wQx22jy3COUOCZHEbZyQeEK4HfPTpdJvZ9Q0O2u7q2e1nliDSQyIVKN3GGAI/EZpOLS1GnctW9xBd26XFrNHPDINySRsGVh6gjg1JXFrqeonS9IeS5uLCymsw8l1ZWSy4l4+VhsYImMnO0D3HfqdJnkutItp5p7e4eSMEzWpzHJ/tL7GiUbAnct0Vxkd9rqeEF8RT6oC8MRme08hPKkjB5BONwYr3BABxwe+msuo61ql9Haai2nW1lIsK+TEjvK5RXJYuCAvzAYAB4PNNw8xXOgorM0HUJ9Q09zeiP7TbzyW8rRAhHZGI3AHOAeDjJxnGTWdZvrGswT6jBqYtIxLLHb2ghR4yqMUzIT8xJKk/KVxkDnHK5R3OhimiuIVlgkSWNxlXRgQw9QRT64jw3caheaJomlWd0LDGmrc3E8aq78naFTcCOoOSQeMcc8M1uTVpbHxRpd5qRMdtpqSwzRRIrsGEm7cCCMnaAcAeoxVcmtri5tDuqK5yRtSiubDRLfVJTLPFJPLfSxRmRUUqNqKFC5y45KnAB4JNP06fVIPFs2mX16t3apYrNE5jVZCxcg7sADPHbA9u5nlHc3vNj84Q+YvmFdwTPzEdM49ORTq5nX9S/sfWJtREZlNtpE0gTn5iHTA45qpb61qEN1aOLnU9RaeZI7i3k0WaCJAxwWRjGNoXOfnZuAec801BtXFzHY00yxiYRGRRIylgmeSB1OPTkfnXO2UmsaxDNqUGpi0QSyx29oIUeMhGK5kJ+YklSflK4yBzjnDh8RXofw5dTIk2qalpzxpn5YvNZozliAAAMH3OMDk01BsOY9AornXbVZtSh0WPVGieG1E91erDH5khZiFCKQVUfK2cg8YHvVGbWtZ0281W0muILqSL7JFZu8YUAzOybnAxkjjIBAOOMZwEoNhc7CiuYvjrWj3elD+1jew3V8kNwJ4EVlBVjhCoHGR0OT7+ucPEd7fC5u4LzULZoppY7e1h0aaaFwjFRvcRktkqT8jLjOOcZIoN7BzHcZGcZ5orntOma98S2t7NbPbTTaQrNFICGjJcEqc88GuhqWrDTCiiikMKKKKACiiigAooooAKKKKACiiigAooooAKKKKACiiigAooooAKKKKACiiigAooooAKKKKACiiigAooooAKKKKACiiigAooooAK5/RdMA8S6zqxhkiE0ohiV8gEKoDuAem5gB77Aa6CimnZCsYUvhZH82GDVNQtrGdmaWxheMRtuJLAMULqCSchWHtip7zQI57mG4sL250ueKIQb7QRndGOilXVlwOxxkevJrWop8zCyMay8M2llEqJPdSFb03xeWQMzSFSDk46ck4/pxWrPBFdW0lvcRrJFKpR0YZDKRgg1JRSbbCxiQeGljlg+06rqF5bWzB4bWdo9iEfdJKoGfHbcx9Tk81LL4etpICsdxcQTC5e5juImXfE7k5xkEEckYII9c1rUU+ZhZGRD4ctzDdrqNzcalJdx+TLLclQdnOFARVVRyTwM+9Vn8JrcLAmoazqd7HbTRzwJM8YCMjBhkqgLdMfMTx7810FFHMwsita2EVm100bOftUxmfcRwSoHHHT5RWfF4YsorGK1WWcpFZSWSksuSj4yTx97ge3tWzRS5mFkUrzSoL2wgtJXkEcEkUilSMkxsGXPHqozXO34istavT52vackrCRo7C1NxDdcDLAiJyjdiAVPGfeuvopqVgaMbwlp8ml+GLW1miaFgXfymOWjDOzBScnJAIB5PNZmk+HJpNMlC6lqWmrPdXDTQQbAJMytz86FlyMcqR1z15rrKKfO9QsUbbR7SzubeW1UxLbW32WOJT8qpkH65+Ud6pz+Gw80xs9V1CwguHLzW9s0ex2P3iCyFkz32kdzwea2qKnmYWRkz+HbcranTrifTJbWLyIpbXZny+PkIdWUjgdRkdjyaaPDVr9haF7m6e4aYXBvS487zQMBwQNo442hduOMYJrYop8zCyMiDw+itPJf395qE80Jg86dlRkQ9QojVQvPOcZ4HPAptt4cVLrz77Ur3UXWFoIvtBjXykbG7BjRSScDk5PH1zs0UczCyMiy8Pi2vobq51O9vzbKy26XJjxCCMHBVFLHHGWJ/PJqfUtITUZIZkuZ7O6gyIrm3K71BxuXDAqQcDgg9AeozWhRS5ne4WM7TtGisPtEktxPfXNzgTXFyVLOAMBcKAoAyeAB1J6kmotM8N2Gl6PNpiCS4t5y3meewYspG0LkAcBQFHsB9a1qKOZhZGNB4c2XEDXWq6hew2zB4be4aPYjD7pJVAz47bifXk81oWNjFp8MkcLOwkmeY7yCcuxY/hk1ZoobbCxn3ukC71O2v4r25tJrcFD5GwiVCQSjB1bjKjkYPvVKXwsj+bDBqmoW1jOzNLYwvGI23ElgGKF1BJOQrD2xW7RTUmgsiMW8ItfswjXyQnl+XjjbjGMemKx4vDCI0McuqahcWUDK0VlKyeWu0gqCwQOwBAwGY++a3KKSbQWK1rYRWbXTRs5+1TGZ9xHBKgccdPlFZq+GVt7O0g03VdQsTbQ+SJImjYunbcroy59wAfw4rboo5mFjFfwxbpbWaWF3dWM1krJFcwsjOVY5cMHVlYEgE8demKS38K2sEN4j3d5O97cRXM0srqWZ49uMYUAA7BwBjrjFbdFPmYWRn6jpC380VxDd3FjdxKVS4ttu7acEqQ6spBwOo47Yp+maXHpscp8+a6nnffNcTkF5DgAZ2gKAAAMAAVdopXdrBYzX0ZTrEl/FfXUImjCT2ybDHLgEAnKlgRn+Fh2zmll0S2l8Px6Qzyi3jSNAwI34QgjnGP4R2rRoo5mFjIudAMl3NPY6rfacLg7p47YxlZGwBu+dGKnAAypH581YtdGtLOe1ktg6C1t2t403ZG0lSSc8k/KOc+tX6KOZhZGPceHjJdTS2Wq3+npcNunhtjHtkbABPzoxUkDnaR69ea0rW0hs7KK0tk2QxIERc5wAMdTU1FDbYWMU+HBFbWsWn6rf2LW0IgDwmNi6DpuV0Zc+4AP4cVo6dYQ6Zp8VnahvKiGAWOScnJJPqSSas0UNthYzG0K1fw0+iGSb7M8BgL5G/aRjOcYz+FR3Wgebdvc2Gp3umSyqBMbXyyJcDAJEiMAQOMjB6ZzgVr0U+ZhZFbT9Pg0uxS1tQwjUkkuxZmYnLMSepJJJPvWa/hlftE5tdUv7S1uXLzWcLR+WzN94glC6Z77WHPIwc1t0UuZhZGEnhO1ttP0+3068u7GTT4vIguYShfy+MqwZSrA4HVe3GKWHwrZodRa4ubu6k1O3WC6kmkGXADDI2gBThj0AHAwBzncop8zCyMWTw4ZbS2STV9Qa8tWYw3/7oTKD1UgRhGXGOCp6A9RmpNO8PxWGqyam95dXd5NAIJJbhl+ZQxI+VVAHXsAPxya1qKOZhZFK60m1vbtp7lTIHtntnjJ+VkYgnPfPHrVODw5suIGutV1C9htmDw29w0exGH3SSqBnx23E+vJ5rZopczCyMR/DSi4nNrql/aWty5eazhaPy2ZvvEEoXTPfaw55GDmkh8I6XFp9rYssk1va2hs0SRgcoSpycAfMCowRjFblFPmYWRjz+HhKlo8WqX8F5ax+UL1GjMkiHqrhkKt0H8OfTHNU7nwzbWlhqk5W91S4vIk85WmVZJWjztZCAArc8YwMgYxXSUUKTCyOGitjquq6R5d3reoPaXIuGfUbM26W6BWB/wCWUYZiSB/Eep4Gc70/hpZJJlttUv7O1uGZ5rSBowjFvvYJQuue+1h1JGDzW3RTc30EkVobJYJ43hllSGOEQpbAjywAeDjGc4469Ks0UVBQUUUUAFFFFABRRRQAUUUUAFFFFABRRRQAUUUUAFFFFABRRRQAUUUUAFFFFABRRRQAUUUUAFFFFABRRRQAUUUUAFFFFABRRRQAUUUUAFFFFABRRRQAUUUUAFFFFABRRRQAUUUUAFFFFABRRRQAUUUUAFFFFABRRRQAUUUUAFFFFABRRRQAUUUUAFFFFABRRRQAUUUUAFFFFABRRRQAUUUUAFFFFABRRRQAUUUUAFFFFABRRRQAUUUUAFFFFABRRRQAUUUUAFFFFABRRRQAUUUUAFFFFABRRRQAUUUUAFFFFABRRRQAUUUUAFFFFABRRRQAUUUUAFFFFABRRRQAUUUUAFFFFABRRRQAUUUUAFFFFABRRRQAUUUUAFFFFABRRXHfE/xrdeBPCA1Sxs0uriS4W3QS52ISGO5sYJHy46jkiqjFyaSE2krs7GiuP+GHjO68deDxqt/aR2twlw0DiLOxyoU7lySQPmx1PINde33G+lEouL5WCd1dAHVjhWBPsaWvNbTT7SHw7o11D4eisZBJA8msKkStGNwy2VO87vunIxhjniteXX7q+vb0xX2oWS21w8EMdto8twjlDgmRxG2QSDwhUgd89LdPsLmOsub60s2iW7uoYDO4jiEsgUyOeirnqfYVPXFW5vtX8XaDf3Fxdae76bLI9oYUAVg8QYYdNwzn2OAOnNXraXWtU0ptZttTW33B3t7PyUaIoCdokJG8kgclWGM9DjlOFuocx09FcxZanqGuaxbNaXP2Owk0+C8dPLVnJdm+UE9BgYPH0x1rLTxNf3tlLqVvdaikgLm3sY9GmkgdQSFDSCMkk4+8rADPQ45ORhzI7uiqU1zdyaC91ZW2LxrYyRW83GJCuQrdMc8GubttYvUtL1v7WkmmjsZZmtr60FvPDIo4KLsXdHnIyd3b5jmpUWxt2OxqCW+tICRPdQx4dYzvkAw7Y2rz3ORgd81zlzca3YeHl1+bUlkaKBZ57EQp5JTGWCsBv3Y6NnGf4cU24uHh1LU5Itvz6lZKdyhuGEYPXvg9e1NQFc6yopbmCGWKKaeOOSdisSO4BkIGSFHc4BPHpXJ2mm3huvFDDW7xVM7AII4MAmCMg/6vPA4+nqeal0dbmx03wxFLeyXguNuWnjjyi/Z2IVdqjHI69fenyeYXOsorjlu9ebwzda4+qBXtWndLUQJ5UkcbsAHON2SF6qRjjg850ftOoa3q9xb2V+2nWtpHEWaKNHkld13Y+cEBQCO2SSeRjlcnmO50FFYfhy81C5m1aDVZo5pLS98mNok2jZ5aMOP+BE9T1qtJrl3Y22sW1wRNfWsoFpkAeaspxDwPRiVP+7mlyu9gudLRXOxtqmpajc2UWqPaR6escck0UUbSTylAxJ3KVVcEcAZznkVBa65qD6lYWVw8fmpfzWl00aYWYLCXVgDkr/CSM9cinyMLnU0Vzmr6ve2l/rEdvIAtrpIuYhtBxJmTn/x0cdK1dIjvVsFfUrsXM8oDnbGEWPIHyqBzj6kn+VJxsrhcvUyKaK4hWWCRJY3GVdGBDD1BFc9ZvrGswT6jBqYtIxLLHb2ghR4yqMUzIT8xJKk/KVxkDnHOb4eutQuNB8PaTZ3C2TS6ebie4RVdlClV2oGGMkt1IPA6c8Pk8xXO2orh9ZfVzH4g0m61MvBFpAmhnSJFkJJkDbhtK5O0DIAGOgB5rTZtSt10zR7fU5Hnu1eR72eOMvHGgXIVVUKWywwSDgZzmjk8w5jpaK560m1W08XRaZd34vLRrJ5kd4lWQsHQfNtAHGTjAHXpxk3vENzd2Ojve2JJa1ZZpYwoPmRKfnUe+3OMdwKXLrYdzTornNS8QSwTXtzZFZbTT7HznHGJZX5Rd3bCjJ/3xSXUmsaJbwahd6oL5GmijubYwIiKHYJmIgbhgsD8xbIGOOtPkYXOkorF0rUbm60jUZ5pA0kF1cxxnaBhUdgo/AAVJp+qSf8ACG22q3mZZPsK3Eu0Abjs3H2pOLC5rUVz9pBr8tta6gNTjlklCPLZNEqwBGwSEYDfkA8EkgkdBnggfVNZvb2a21I2Fva3DW8MUcKP5hThmkLAnGc4ClTgdeeDl8wudBRXG2Wq67fWWkxm7iiuLq+uoLmVIgQEjMmNoPcbRjP456HY0q4vbfXLvSb68N6I4I7iKeSNVkwxZSrbQFOCvBAHX2zTcGgTubVMSaKSSSOORGeMgOqsCUJGQCO3BzWLdTahqXiCfTbK+bT4LSCOSWWKNHlkZy2AN4ICgKc8EnPUY5wVudYsJte8m4gN62q2kKzeX8rKyxLllz1wTkA/THYULicju6K5+RtTm1SPRoNUeIw2wuLi8EUZlcsxCqqkbQPlOSVPGO/NUb7WdXsYbqwSeKa9trq1SO4dAokjmcL84HG4YYHGM8YxngUGx3Ouorn5pNT0bUrA3GpG/tr24+zyRywohiYqSpQqBxlcENk89eObWuXl3FJYWOnyJDPfzmPz3Xd5SqjMxC92wuBnjnJzjBXKFzTaaJZkhaRBI4JRCw3MB1IHfGR+dPrj7qLUbDxdp4uL83sa2F20cssarKGHl8HaApHpwPxq5Nq96ngTT9SWUC6mS0LvtHO90DcYxyGNPk2sK50lNeWON0R5FVpDhFJwWOM4HrwCa59H1bVNc1a1j1I2VraSxrG0MSNISY1Yg71I28+mTnqMc1IL+5vNT0yG/Mb3Nlqc1vJJGu1ZMQMQwGTjKsMj1zRyBc6i3uYLuETWk8c8RJAeJwykg4PI9CCKlrk7HUL+/Flp1rcrZtMLmaa4jiQsFSYoFRSNoJyMkg9OmTkW7261nR9MlSS4gu5ZbiKCzuZU2kGRguZFXAO0nPy4z0wOtDhrYLnQ0VzF6da0nUdIi/tdry3vLzyZzNBGrqPLdhtKqBjKjgjPv2rPsLi78O+GNU1FtQub5lvJo44ZokKh2nKhsRoGPJyQM+wo5NNw5jt6K5Gz1i/i1SzjjuNT1JLmTy51udHlt1h+UkOr+WoCgjBDEnnrxyujanqUmp20epai0V3KzC4066tfKQYBP+jvt/eY4/iYYz0NHIw5kdbRWTrl5dxSWFjp8iQz385j8913eUqozMQvdsLgZ45yc4wc559Y0zxJZ2M2pfbLSa0uJS8sSLLvTZjO0BSPmPQD3zSUbjudPRXHQXuuW/hnT9fvNTErOkDXFn5CCIq5UHBA3BhuznOMjoK0YH1TWb29mttSNhb2tw1vDFHCj+YU4ZpCwJxnOApU4HXnhuHmFzdiminTfBIkigldyMCMg4I49CCKrS6vpsE80M2oWscsAUyo8yhowxwu4Z4yeBnrWX4J80+Gv9I2CX7Xdb9n3c+e+cZ7Vi6fFdafpGt3LahLdFtWKbJ4oio/fIpbhBk4456YGMU+RXaFfQ7qop7mC2VDczxwiRxGhkcLuY9FGepPpXNyavqKeKD4c+0J50rfa47n5MrbZ+Zdvds/KDjoc9Qa1tdneCCzMe3576BDuUNwXAPXofep5dUO5p0Vy8J1zUYdSuYtX+y/ZbqaO2jW3RkcIePMyMkdvlKnHc0631a98QSWUFjcnTklsI72aWNFeT5+FVd4IA4bJIPanyBc6aiudubnWrGO20+S5t5Lm8u/JgvCnIiCFyzJwN+FIGODwcdqGutR0fUlsrq+a/iubaaSKaWNFkjeMAkHYApUhuOARjvnhcoXOiorkIrzW7TQNM1y91MTNN9n+0WnkIItshVTtIG4MN2ckkHB4GeHXOqalDrUy3Wotp5W5VLaGe1xaTxEgDM20/OckAbhg4+Ujq+Ri5jqIbmC4eVIJ45WhfZKqOCUbAODjocEHB9alrl7u/1JLfVTYK2YtRWN3gtxJJHD5aFmVMfOwz3BPscYrO1F7nU9AKRa/JKsOpWoWVYUSdcyJ8sqNHhWBOR8q8YyOuWoXDmO5orktR1a6t9XGjHUNQjW3tkllu7bTjcTSszMAPkjZEHynOV5zxjBpi63rNxYwRQl4pjqa2q3NzZPD58RQtv8twDkdOMAleMA4pcjDmR2FFctd6rfeG7m6ivLx9TiFhLeRGZESRWjIBUlAFKncuOMjB5Pa/b2euwyW9w+qpdl2X7TbSQqkSqepjKjcCO24tnpxnIXL5juasFzBcq5tp45hG5jcxuG2sOqnHQj0qWuNudfubYJaxu8L3Wo3MZnt7Jp3jjjJ6IinLHgbiCOpOelSQaxrHk6jbael5qEkVr51rcXunvbMXzgxkMqKx6EYx6H1quRi5jrqiFzAbs2onjNwE8wxbxvCk43Y64zxmsPw9fy3F7NC2qyXqLEHaK8tvs9zE2ccpsX5D2OOo6nsms6hc2d5qrWxRXt9JM8Z2AkPl++OnA46UuV3sO+lzoqK5qSbV9MXTr681P7SlzNFDcWpgRUTzOAYyBuGGI+8WyM9K0dcvri0htYLFkS4vbhbdJJF3LHkFi2MjJwpwPXFLlC5qUVz91Lqvh6yvL24vf7Us4bZ5f36pHKsi8gAooUqeeoBGOpzxT1Y+IdJ0I6iNYSecvF50LW6CJAzqG8vA3Dr/EWz7dQ1G/ULnWUVyix3Fj4q13Un1K6eC3topmtQkW1gFkO3OzdxjjnPrmqMPiLUvslvqCz6ldzylGk08aLMsO1iMhH8rcCAfvMxBx0GeHyN7C5juaK5+B9U1m9vZrbUjYW9rcNbwxRwo/mFOGaQsCcZzgKVOB154z9N1nWNRsrCye5ihvbqe7E1ykYPlxwyFcIp4zyoBIPGSc0uRjudhUUtzBDLFFNPHHJOxWJHcAyEDJCjucAnj0rl9T1TVdEt9Ss2vPtkyae93aXMkaq4KnBVwoCnkqQQB344ybs0l7YT6SL66W6kmuJDK3kqoUCF22oOoGR1yT6mjkFc6CiuasP7e1LSrbWLfUo1kuEWZLBol8jY3IUsAX3bT94HGeduOKljk1PWdVvxb6idPtrGYQIkUSO0r7VZi5YH5fmAAGDwTnkYXL5jubzyxxsiySKhkbagY43HGcD1OAfyp1cbZXt/fRaW+qvG9xFrc8JMS7VwizKMD6Adc/U12VEo8oJ3CiiipGFFFFABRRRQAUUUUAFFFFABUN5Z2uoWj2t/bQ3VvIMPFNGHRvqDwamooAhs7O10+0S1sLaG1t4xhIYYwiKPYDgVMRkEetFFAHO23hAQwRWtxrep3lhEV22UwgWPCkFQSkSuQCBwW575q1ceHjJdTS2Wq3+npcNunhtjHtkbABPzoxUkDnaR69ea2KKrmYrIz4NEtLW8s7i3Dx/Y7ZraKMNldjFTznkn5Bzn1qlL4WR/Nhg1TULaxnZmlsYXjEbbiSwDFC6gknIVh7Yrdoo5mFkVINNt7a/a6hDITAluEGNqohYjAx/tH9KzpfC8cnmwxanfwWEzM0tjE0YjbcSWAYoXUEk5CsPbFblFJSYWRDNaxTWT2rArE6GMhGKkDGOCOR+FYN94deLTr65m1C+1O4Sxmht1nEeUDLyAERdxOFGTk8fXPSUU1JoGrnO2/hZJLK1guNRv2sEVG/s5mTyuMEKTs8wqCPulsdunFaE2h20808rvKDPcQ3DAEYDR7doHHT5Rn+laVFHMwsjMTREj1W6vEvLpYrsfv7T5DE7bQu/7u8HAA4YD2qOw8PJZRWUb6heXa2Mha388x5RdhQJlUGQAe+T6k1r0UczCyM7+xbb+wZ9J3y+ROkqM2RuAkLE4OMfxHHFY2rwR2OrxSRzaxp5a3WM3mn24uFmC5wkieW+COobA6kZ7V1VFCk0DRz3hCxa1t9RuPLuI4728aeMXQIlZdiruYHkElScHGARwOgW700X/jqyuTDIsdhbM7ychJXY4RfRtuHPtuHrXQUUczvcLaGVfaH9pvWvLLUrzTLiRQkr2vlkSgZxlZEYZGTyAD+HFRv4ZtDpsNrBPcwSwTG4ju0cGYSnO5yWBBJ3EEEEYOMdK2aKOZhZGFH4Vg8y/mur+9u57+1FpNLMyA7BuxtVVCqfnPQfXJrbjQRxqi5woAGadRSbb3BKxiP4ZX7RObXVL+0tbly81nC0flszfeIJQume+1hzyMHNIvhS1g0zTrSxu7uzk02Pyra6hZPMVMAFTuUqwOBkFewPBGa3KKfMwsjEg8K2iT309zdXd5Pf2wtbiSd1y6DdjAVQF+8egA9s5JVvDnmafbwTarfyXNq5e3viYhNFkYwMIEIxxhlOe+TW1RRzMLI5y48LyiSS8g1O9m1KWD7K11NIqlY2dSSAigAgA4wByec9a35mWK1kZ1Z0RCSoBYsAOmO5qSik5N7hY57wvoMVp4RWyvYCftas88MpyVVxgRk/7KbU/wCA1ND4aCzwG71XUL63tnDw2tw0exGH3SSqBnx23MecE5PNbdFNyd7hZGHceGEmnujDql/a214S1xawMgR2IwxBKF1J77WHr1znTs7CGy0qDT0zJDDCsI8zBLKBjn8Ks0UnJsLGFF4WjQRQSanfzafCytFYO0flrtIKjcEDkAgYBY++aln8PbtQmurHVL7TxcENcQ25jKSsABu+dGKnAAypH581sUU+ZhZGRp3hqy0uCyhtXn2WUsssQdwxJk3ZBOMkfOcd+mSauLp0SaxJqQZ/OkgWArkbdqszA9M5yx71bopNthYy9Q0MXl8t9a393p12E8tpbXYfMTOQrK6spwSSDjIyeeTVe28KWVstxi4upXubuK7lkkkBZpE24PTodgyPywMY3KKfMwsjO1HR1vriO6gvLmwu4lKLcWxXcUJyVIdWUjI7jI7YrI1bw7Emi/Z83N9Lc31vJczyHMsmJF+Y7AAoAH8IAGM11FFCk0DSZj2/h/ZqMV3fane6i1uSbeO58sJCSCCwCIuTgkZbPH1NW9U0uHVbZI5ZJYJInEkM8DASROONykgjoSMEEEEgg1dopczvcLGLbeGoo9Wh1O81C8v7uGF4Ve4KAbH25G1EVf4RyBn1zxis3gyCS1jspNV1JrCGSOSCz3xhIijBlAYJvKgjGGY8fhjo6KfOwsjmYtFnuNe1m5gvr3TJJJ4wJbdUIlQRJ2kRlODnkDPUZ7VpWvh+ztEsxE8xa1mefe75aWR1YMznHJO4njHbtxWpRQ5NhZGM/hq3+z262t3dWk9s0jRXURQyKHYsyncpUqT2IPQdxmlXw1aNY3UF5Pc3kt2ytNcyuBKWXGwqVAC7cAjaBzz1JrYoo5mFkYS+F1kvLK61HVtQ1CWxl823M5iUKdpU5CIoOQ3U8+hHOZk8OwKL6KS6uprO9LM1m5TZGzHLMjBQ4JPPLHHbFa9FHMwsjIt/D5S7invtVvtR8gkwR3JjCxkgjPyIpY4JGWJ/PmmW/hpIby3lm1O+uobRy9tbTshSJsFQdwQO2ASBuY9e/FbVFHMwsilqmlw6rbJHLJLBJE4khngYCSJxxuUkEdCRggggkEGqMHhmJdUi1G81G9vryKGSBZJ2QDY+MjaiKo+6OQM+ueMbdFJSaCyM6XRLaXw/HpDPKLeNI0DAjfhCCOcY/hHaoJ/D26/murHVL7T/ALQQ1xFbGMpK2AN3zoxU4AGVI/PmtiinzMLIo6NpFtoemLYWRkMKO7jzG3N8zFjz35J9/rUR0G1Njc2vmTbLm6+1OdwyG3h8DjpkCtOild3uFjJk8OWkkhmaWf7SboXQudw8xWHAUHGNu3K4x0J7nNXb2xiv0hWZnURTJMu0jlkORn24qzRRdhYqW2nRWkFxFGzlbiWSVixGQXJJxx05qh/wjMEVrYx2F9d2U1jALeO5hKF2jAHysGUqegP3eD0xk1tUUczCyMYeGbX7C0L3F09w0wuDelwJvNAwHBACjjjAXbjjGCada+H1inkuL3ULvUbl4jCs1z5YMaHqFVEVRnAJOMnA5wMVr0U+ZhZGdNottPokGlu8oghEQVgRuPllSuTjH8IzxVa78NJdzyCTUr4Wc0gklsQyGJznPUoXAJA4DAfrnaooUmgsjMm0KGSO5EV1dW8txcC586FwGjcKF4yCCML0YEcmq/8Awi8MlldRXN/eT3F08cj3jFFlDRkFCAqBBtI4G3nvmtuijmYWRkTaA8phmj1a+hvoovKe8jEW+Zc5w6mPYeeeFGMnGMmnQeH7aCKBTNcSyRXP2pppGBeaTaVy3GMYPQAAYGMCtWijmYWRQu9HtL6/W6ulaQi2ktjEcbGRypbIx/sjv3NU4PDSxywfadV1C8trZg8NrO0exCPuklUDPjtuY+pyea26KXMwsjJl8PW0kBWO4uIJhcvcx3ETLvidyc4yCCOSMEEeuaSHw9EIrr7XfXl5cXSCN7mR1R1UEkBfLVQuCc8DJ75rXop8zCyMvT9E+x3xvbrULvUbny/KSS5EY2JkEgCNFHJAySCeKkvdGt76W6eV5Qbq0+yPtI4TLHI46/Ma0KKV3e4WKd7pkN9awQTNIFgmjmUqRklGBGeOmRzS6lp0OqWnkTl0wwkjkjba8bg5DKfUfl2ORVuii7HYyIPD0Qlkl1O9utVkeFoAbsRgLG33lCxqq84GSRn3xVSXwdHc2a2V5rGp3NnGyNFBJJHiMqwK/MEDNjH8Rb88Guiop8zFZGbJoyvrTail5cxebGI57ZdhinAzjcGUsMbj90jPfNVY/C8aeVC+p38thCytHYO0flrtIKjcE3kAgcFj75FblFHMwsjkdREdlrt43n65pqzESOLC1+0RXXygFuInKPxtIBUnAPPUTaJ4aA8MWcEpudPuYZpZ7eSNx5tv5jswB3bgTtbBDBhn1rqKKfO7WFYxV8MwPbXqXt7d3s97F5MtzMUDhOcKoVQqgZPRee+a0Liwiubm0mkZw1o5dACMElCvPHoxq1RU8zHZGD/wicIj+yjUr8aZuz/ZwaPysZzs3bN+3P8ADuxjjpxU9z4f8zUJLyw1O9015wPPS28spKQMAkOjYOABlcHAGegxr0U+ZhZGPYeGLHTra3gtnn2W93JdpvfcS77s5JGSPnPv71sUUUm29xpWCiiikAUUUUAFFFFABRRRQAUUUUAFFFFABRRTJpBDBJKwJCKWIHsKAFkkSGJpZnWONAWZ2OAoHUk0qsGUMpBBGQR0NcTqY1u+8A32rNqabrnT3mFj5K+SqMhIUMBv3YP3t2M/w44rStpdR1W9ays79tPtrGCEO8MaPJK7Jux84ICgY7ZJJ5GOb5NNybnS0VwmoSatqOj6pb32pGKWz1e3hSS1iQBkzCRwwbu2fr3xxWyx1O51c6Pb6rLClpbJLPd+VE00zOzBQAV2KAEOfl5yMY5o5PMOY6KmiSMymIOpkUBimeQDnBx+B/KsXQbrUpNX1iz1O4jnFpJEsLpHsyrRg5I9c9e3pjoIrbw7dQ+J5NTe/Z4mwfJy+3q/AXdxjcOSSM7sKM0uVLdjubOoX0Gm6fNeXRIihQs2Bkn2A7k9AKS2uXaxhmv40tJZAMxGQNtY9Fzxk9vr61m+J/ni0yFhmOXUoA49QCWH/jyrSeItBuNaa3MF69qInUt5bMpYbgTyDjoOOM56MKaSsrhdm0XRThmUH3NIJojKIhIhkK7gm4ZIBxnHpzXMeI/D+mTWumvf6dY3VyLu2heZ7ZSWXeARlsnHsSadc6dJH4ssrLR5I9Mtl06XcbeFMoPMTARSCoye5B+nOQKKfUV2dRRXH3PiHUNMsry0nm+03cF/HZxXQtmdiroHDtHGMswBPCgAkDgDNPs9Zvor/wCzxz6lfwSQSOZ7zS3tzA6rkfN5aKVPIxjOe5o5GHMjraK4w61q1j4c0me+vGlvNWaNS0NkZRbAxl2KxoCzHA75GTnAAxV7RNUu31r7C0moX1q8LSC6vNNe2aJwQNpJjRWBByMDI2nOc8Dg7XDmOgNzAt0tq08YuHQusRcb2UEAkDrgEjn3qWsPVbq9h1oR6fFHLP8A2dPJEjqPmkDJtG7qBz0zVbw/qNzPqAhn1WS4ZoS8trfWv2eeJwQMou1d0fJGfm7YY0culx31sdLRWLqtzfT61a6Tp9yLPzYXuJrgIruFUqoVA2RklupBAA6c5EOl3GqReK7vTL+8W6torOKWF/LCOSzuDuwMZ+UdMD2HdculwudBRXP6jrF1pt5qcTsJD9mSaxUgDLk7Cnv8+z/vuq9jrGoyW+mWlzMpvo5ZV1B1QDcsIIYgdtxMZ+jU+R2uF0dRRXIG51+fwnN4gg1RI5pLRrmGzMKGFF2llBbG4tjHzbsZ/hxxVy01qe1vQNWmBtrjTlvIZCoG0oB5q8D3Vh9T6UcjC50dFZ2kte3Wgxy30jRXVwhk4VcwhslVxjBKggcg5xzXN6O+oaV4Sslg1GS6uL64FvCbqOPZAS7ZbCKpPAJwT1x0oUQudrRWCsuoaPrNja3moPqNvfs8YaaJEkikCFxgoACpCkYIyDjk1NrF3eHUbHS9PnW2kuxI73BUM0aIBnaDxuJYdQQOeDS5dQuapmiE4hMiCUqWEe4bio4Jx6cj86fXFX1xe6D4lkur25GoJa6PPLE7qqSNh0JD7QF6gcgDr04yb91JrOi2UWqXeqC8HmRi5tfIRIwHYKfKIG4EFs/MWzjHGch8m2ouY6am+bH5wh8xfMK7gmfmI6Zx6cisLxnbzXGgosF5NaEXdvlolQk/vVH8Ske/4VWubPUD4rsbWHU5VI06XzrsxxmVv3iYwNuwH32ngdOc0KN1e42zo57mC1RXup44VZwitI4UFicADPcngCpa5Q6lfRwXFndzR3M1nqltAJ2iUGRHMbAsuMBsMRkAdMjFN/tTUk1pkvdQaxl+1+XFa3FtttZoS2F2zbeZCvIG/rxto5GLmOtorM1+/uNP0wNZCP7TPNHbxNKMojOwUMRkZAznGRnGKy7061pOo6RF/a7XlveXnkzmaCNXUeW7DaVUDGVHBGfftSUbjbOgivrSe7mtYLqGS4gx50SSAvHnpuA5Gfep686i028/4QXV2OtXhL6jNk+VDni4IP8Ayz78E/QYwOK2dS1S6stTh0Y6lqHyW/nzXsGn/aJnyxCqBHGUXockrzxjuapw7MSkdZRXHHXNZk0t47ZpFnTUILeG7u7F4fOjcrkmNwvIyQcYBxxjt04tp10s273srT7CDc7ED59cY2/pUuNtxp3LEkscQUyyKgZgq7jjJPQfWnVwVta39v4B0XytQkuZpLmzMRuY02w/OOgRVyO/Jzx1rWudSvvDl+yX19JqVs9lPdDzY0SRGi2kqCgAKkN3GRjqapw7MXMdPRXEQ6/qSRW14txqV5NK8fm2P9iTRwhWIB2P5YIKg5yzEHB6Z46PxDPf22kmTTFcyeYgkaOLzHSMsN7Kn8TAZIHP0PQpwadh3NSiuPk1q+h8PXs1hqkd/LFcQRxNcRCKZN7qCkybV2nnj5QcHpxk37qTVNFubO4uNSN9b3NykE8LwIgjLnAaMqAQA2OGLcd+OTkYrm19utPMiT7VDvmZliXzBmQrncF9SMHOOmKnrktLlkWLS4InCCe+vlL7FLLgykEZBwcirfgq0uLbQ90+o3F2HllCrKkYCYlfJGxQeffPtihxsgTOgeWONkWSRUMjbUDHG44zgepwD+VOrA8Um587RRZNGszagFVpBlVzFJk474GeO9RXFzqWiahBBcag1/BeJKEaaJFkhkVC4xsABUgHgjIOOTQo3Q7nSUVzc2r3qeBNP1JZQLqZLQu+0c73QNxjHIY0aXZXK+M9YnOqXLRAxE25SLYQUOBnZu47c/XNHLowubt3fWlhGsl9dQ2yO4jVppAgZj0UZ6k+lT1zGvWc9z400AxahPbKqztsjSNhkKOfmUnkEj6dMU+2bWNbjuL601QWKJPLFbW6wI6NsYpmUn5jkqThSuB780cuidxX1OkorlLXVtU1y90oWlwthBc2DXFwFjV2DK6DClh7nkg8ds8i54zt5rjQUWC8mtCLu3y0SoSf3qj+JSPf8KOXVJjvpc3fNj84w+YvmBdxTPzAdM49ODTJ7mC2VDczxwiRxGhkcLuY9FGepPpXNvZag3i37NDqs0e3TU8278qMzMfNfGBt2Dvn5e340iane/ZmtruWOeez1eG0abygPMRijAlegbDgEjuMjHSjkFc6qiuS/tTUk1pkvdQaxl+1+XFa3FtttZoS2F2zbeZCvIG/rxtrW8TXt7YaTHLprRrcPdQRKZB8uHkVTn8D9aXK7pDua9Fc/NJqejalYG41I39te3H2eSOWFEMTFSVKFQOMrghsnnrxzRt9V1mPw/LqU91FLNPdG0tYTEFjjzOY1dyOWIGMgEDAx15p8jFc66o4LiG6i822mjmjyV3xsGGQcEZHoQRWG8mp6LqFgLrUm1G3vZ/s8iywojRMVJVkKAfL8uCGyec545xo/Ed19lsLMSzW7XMl28lxaWDTuqRzFQFRFIBO4fMykcHqTQoN7BzHc0Vx8fiLUYLW8hUXFwVeCO0vb6wkttzSvsw6sqBip5+UDIIHB5rYisNZt7lVOrtd28qsJTLFGkkLY+Vo9q4Iz/CwPrnjBHFrcdzYornvBVpcW3h2Fp9QuLsPu2rKkYEeHbpsUdffNW9avbjTZ9Pukf8A0M3Ahuk2jgP8qvnqMPt/Bj6UnHWwX0ua1Fcxd61qDXF19heNUkvI9PtTIoKB+TJIcYJxyoGeqe9TmbUdG1Wzt7vUH1GC+LxhpokSSKRULjGwAFSFIwRkHHJp8rC50FFcv/bN9/wrSHV/OH21rSOUybB944ycYx3rU8S3lzYeGb+7sGVbmKEtEWGRu7ZpcrvYLmpRXMX7a5pt9p0a6qtwNSmNvIJbdALc7GfdHtAP8JGHLdQc8YMd1q+o6BLqFrNc/wBpNHapPbSzqqNueQx7X2AArnByADjNPkb2Fc6uiuW1Q67o1taXA1j7X517bxTpJbooVXkVT5e0ZA5xhtxx3yOXvrl7Z2OrWszCXUba4EVqSoHmiU/uTgdgTtP+4aOR9AudNRWTr11daX4SvrqCUPdW1qzrIwA3OF6njHX2qhfy6xo9pHqs+pC5QSRi4szCojCswU+WQNwI3Z+YtnHQZ4SjcbZ0tFcZLr91fXt6Yr7ULJba4eCGO20eW4RyhwTI4jbIJB4QqQO+elq31LWdWv8ASokdtLS4sGuLqNoP3iuHQYAcZXOT1HTtnkPkYuZHRJfWkl9JZJdQtdRoHeASAuinoSvUA+tT1xGnSXei2niK/W9lvJW1Iwxx3CRqnmN5aKxKqDxkDr0Fa076poc9nPd6mdQgubhLeaOSFE8sucK0e0A4DYyG3cd+ORw7AmdDRXH/ANo64vhTVtXa9QzRG4S1hEShV2SsqljjJPHsMdieas37a5pt9p0a6qtwNSmNvIJbdALc7GfdHtAP8JGHLdQc8YJyeYcx09FYmmz3tr4gn0m9vGvkFstzFPIirIMsVKtsAU9AQQB3zmq13ZXMvxAt5Y9UuYEFizGFEiKkCRMrlkJwe/OfTFLl1Hc6KOWOZS0UiuAxUlTnBBwR9QaYLmBrprVZ4zcIgdog43qpJAJHXBIPPtXJ6fb6u2mandWeqfZPIvbpoIRCjpJiRj+8yNxyc/dK4HrU/wDbGoXkdzdaVBG9xJpEFzBEUBO9y5xngnpwCQPpmq5Bcx1VFc94ev5bi9mhbVZL1FiDtFeW32e5ibOOU2L8h7HHUdT26Goas7DTuFFFFIYUUUUAFFFFABRRRQAUUUUAFFFFABQQCMEZBoooA5yfwZBPp0+mNqupLpcyMn2FXjCIp/hVtm/A7AsR2xjirdz4eWS5S5sdRvNOnESwySW3lnzUX7oZXRlyMnBAB59OK2KKrmYrIw4vCllDpt9ZpcXf+nTi5kmMgMiyjbhgSPVAcEEe2OKfN4eaVoJ01i/hvoo/Ke9jEO+ZM5w6mPYeemFGOcdTnZoo5mFkY1n4ahsWupLe/vhPeTRzTzGRSzsmB/dwAwGCAOnTFbNFFJtvcdjP1zT31PSZIIHEdwpWWB26LIjBlJ9sgZ9s1atJJprOKS5gNvMygvEWDbD3GRwamoovpYCte2MV+kKzM6iKZJl2kcshyM+3FBsYjqiX5Z/NSFoQMjbtLAn8cqKs0UXYGXN4fs52vmkabdeSpMzK+DE6KoVkIHBG0HnP5cUy20AJO09/qV7qM3lNFG9x5a+Urfe2iNFGTgckE/hWvRT5mKyM6bRLabSbaw8yaMWgTyJ0YCSNlGAwOMZx1yMHJBGDik0/Rvsd213dX91qF0U8tZbnYNiZyVVUVVGTjJxk4HPArSopczCxSu9Kt727+0TNKG+zvb4R9vyuQScjkH5Rgg1WsdB+y6gl5daleahLFG0UJufLAiVsbsbEXJO0ctk8fXOtRRzO1gsjO1TR01KSCdLq4sru3J8q5tiu9QcblIZWUg4HBB6A9RmotN8Pw6dqk+pNd3V3eXEKQyy3DL8wUsRwqgD7x4AA9s5J1qKOZ2sFkZ+oaLa6lqFjeXDSCSycugQgB844bjkZCt25UUW+i2ttrd3qkZkM10io6EjYuOCQMcE4XPP8IrQoou9gsc7L4Pgls59P/tTUU0ydWU2CvGI1DZyFbZvA5+7ux2xjim6/oyXw0TS0ilaOGcM8wzhYkQhlYjj5shcd8n0rpKKrndwsgrFi8MQR2M9lJe3k1s8glgjdkH2VgxYGNlUN1OfmLdMdOK2qKlNodjJstC+z36Xl7qV5qc8SlIWuvLAiB64WNFGTjqQT6YBqfVdJj1RISZ57W4t33wXNuQHjJGDjcCpBHBBBHtV+ijmd7isYkHhe2W/e9vru61G4ltmtZWuSmHjYg42qqgdOwHU5yeaSLwwolhW61XULy0t3V4bSdozGpU5XJCB3xgY3MfU5NblFPmYWRU1PT49U0+S0mkkiVypEkRAZGUhlYZBGQQDyCKjttLEF1DdTXdxdXEUDQGWbYC4LBiSEVRngdAB7VfopXdrDsZcmgWsk9zK0k265uYrlwGGA0e3aBx0+QZ/GoJvDST3B83U75rMzic2JZDGXDbh8xXeBuAOA2O3TituinzMVkVtR0+31SwktLsMY3wcoxVlIOQykdCCAQfastfC6yXlldajq2oahLYy+bbmcxKFO0qchEUHIbqefQjnO7RSUmtgsjL/4R+1/sa60zzJvJupJJWcMA6s7lyQcdieOO3eo5NAeSOB/7Xv1voEKfblEIkkUnO1l8vyyOn8OR26nOxRT5mFkZMPh63jtxHJcXM8puUupLiVl3yyKRjOAABwBhQBjpitY8jBoopNtjsY1p4bitbOO0N/eT28M8c0Ecpj/AHOw5CAhASv+8Sfert1pdveahBdz7maGKSIJxtZZNu7Ix/sj9auUUczFZGHF4YRGhjl1TULiygZWispWTy12kFQWCB2AIGAzH3zWlqFiNQtPJM89swYOk0DBXRh0IyCD9CCD3FWqKOZhZHLav4dCaLdLJNdanc3k9sJ5ZQu9kWVeAI1UAAFjwPUk1ow+HQL6G4vdUvr9bZt9vBcGPZE2CA3yopYgEgFifXrzWxRT5nYLIzYNDtrdrVkeUm1mlmTJHLSbt2eOnznH4VUg0C4sryFbPU7s2P2lrh7d2Tamdx2KVUMQWbJDMemK3aKOZhZFDVtHt9Yjt0unlT7PMJo2ifaQ4BAOfbOfwFQWegLBfi8vtQu9TnRDHE115YEStjdtWNFGTgZJBP4VrUUuZ2sFkc43gyCS1jspNV1JrCGSOSCz3xhIijBlAYJvKgjGGY8fhjTGkBNdbU4b25i8xAs1suwxS4BCk5UsCM/wsPfNaFFNybCyKs+nxXGpWl67OJLQOEAI2neADnj2rPn8Nh5pjZ6rqFhBcOXmt7Zo9jsfvEFkLJnvtI7ng81tUUlJoLFG30i0tLm3mtlMYt7b7LHGp+UJkH65+Ud6fqenx6pp8lpNJJErlSJIiAyMpDKwyCMggHkEVboou73HYoWeli1uhdS3dxd3HkLA0s2wFwGLZIRVGfmPQAe1RHQLUyzyeZNme9S9b5hw6BQAOOnyD3681qUUXYrGJN4aSe4Pm6nfNZmcTmxLIYy4bcPmK7wNwBwGx26cUviqy/tDSYrYxPKrXluXCZyFEqknI5GOue2K2qKfM7phYx7fw/s1GK7vtTvdRa3JNvHc+WEhJBBYBEXJwSMtnj6mpxodmdFbS5BJJbszNkthgS5fIIxggnII6YFaNFLmYWRiJoy2U66hqep6hqf2RWeFZkRvKOCCypFGpZsEjnJ546mqWi6I134dtJZHu9Ou0mnlhmRQksaySM2CrqRggjKsvpwCOOoop8zsFjHTw3atZ3UN9Pc30t3t824nYCT5fubdgULtPI2gc89eadaaCYb6K7vtTvdSkgBEAufLCxZGCQI0UE44yc98Yyc61FHMwsjCt9AuLG4t4rTU7trFbgzNBIyYjGGIjUqoYqWYE7i33cVa8SL5nhq/iFs9y0sLRpEgOWZuB06ckc9utadFHM73CxkweH7dfDdvpNw8j+SqnzlYh/NB3eYG/vbuc0WWg/Z75by+1K81OeNSkLXXlgRA/ewsaKMnHUgn0wDWtRRzMLI5ybwZBPZSWDarqS6azBksleMJHhgwAbZvwCOhYjt0wK2tQsYtS06aznZ1jmXaxQgED2zVmihybCyKl5p0N9cWc0rOGs5vOjCkYLbGXnjphj+lQ3eh2d/dzz3avILi1+yyRk/KUyT9c89c1o0UrsLHPv4TW4WBNQ1nU72O2mjngSZ4wEZGDDJVAW6Y+Ynj35ouNMF949t7wwyLHY2hLOQQkrsSEHoSo3n23iugop8zCyMrxRA114U1OCOJpWktnURqu4tkdMd6gTwyjSwfatTv7m0gZXispWj8tWXlckIHbBGQGY89c4FblFCk0rBYx7jw8ZLqaWy1W/09Lht08NsY9sjYAJ+dGKkgc7SPXrzVq20e1s7m3ltg6C3tjbRpuyoTIPfkn5Rzmr1FLmYWRnDQ7M2l/ayh5Yb+VpZlZsYLAA4IwR0GO49ar2/h4peQ3F9qt/qItm3QRXJjCxtgjd8iKWOCRlifXrzWzRT5mFkZp0O2OiT6WXl8idpCzZG4b2LHBxjqfSp7zTob64s5pWcNZzedGFIwW2MvPHTDH9Kt0UrsLFUafENYOpbn84wCDbkbdoYtnpnOT61De6QLvU7a/ivbm0mtwUPkbCJUJBKMHVuMqORg+9aFFF2OxTttNhtbOe2jaQpPJJIxYjILsScce/FVIfDdnDbGBJbnb9jjswwk2sEjztYEAENz1/SteijmYrIy9P0T7HfG9utQu9RufL8pJLkRjYmQSAI0UckDJIJ4rUooobuMKKKKQBRRRQAUUUUAFFFFABRRRQAUUUUAFFFI24ISoBbHAPrQAtFcjo+o6lcXkEF/qkkF5MrC4sbm1EPlttzm3bZ+8wcdWcY546VUsLu88O+CTd/b7i9kmujBEs1uriJmuGXcEiQM3XOOc4wMVpyMnmO5orkrPWL6LUoYI7jU9QhnV/Me70mS3+zsFLBg3lou0kYwcnJHNNt7jxBJ4Pg199UT7QtmLlrPyUMMgC7iC2N24juCAD/D2pcjDmOtkkSKJpJXVEQFmZjgKB1JNOBBAIIIPQisfXZxceCdQuEGFksJHAPvGTWdcy6zpOhprMuorKIY0knsfJXytnG4IwG/cB0JJBI6DPCUbjudTUF1fWll5X2y6ht/OcRx+bIF3ueijPUn0rlJtfub3Ub5Y77ULKO0naCFLXSJLlZCuMl3EbAjPZSpAHXJ4jia/wBY8U+Hb64uLrT5Gsbh3tfJVQGV4weJE3ANnvggY6c5rkfUXMdtRXNWr6zrNtPqNrqi2arLKltbCBHjIRioMpPzEkqT8pXAOO2ajsNW1LXtSsWtrgWVpLp8V3KgjV33FyNoJHQ4wTjoOME5pcjHc6miuHHiO9vhc3cF5qFs0U0sdvaw6NNNC4Rio3uIyWyVJ+RlxnHOMnqYpZ9S8PJMwm0+e4twxXaPMgYrkjDDGR7j8KHBrcE7l15Y42RZJFQyNtQMcbjjOB6nAP5U6uBsbS/h8LeFFi1GSeWWaEo9xGmIV8h8gBVXPGcZzzWrd6ve+G5r6O+u31OKPT5L2FpI1SQFCAyHYACDuXHGRz1puHRMXMdTRXGQa3qMM1pKLnU9QkmljSe1fRJoYlViAWRzGCu3OfnZsgHp1re8RXF/baWH00SbvNQTPDF5skcRPzMifxMPTB+h6UnFp2Hc1aK4+TWdQj0OV9P1SG/lF9bwRyTxeXKgd0DLMm1dp+Y9ApwR0PNaE0mp6NqVgbjUjf217cfZ5I5YUQxMVJUoVA4yuCGyeevHJyMVzZW+tGliiW6hMk27y0Egy+372B3x39Kh1W/bTNPe8EBmihIaYK2GWP8AiYDHOBzj0z9K5zS3maDTbWGXyfOF/wDvFRS6ES8EFgcdT7HvV/wXZyw+ELJbq+mvFlt0wsyRgRjHQbVGR9c03FLUL3N9HWSNXjYMrAFSOhBp1Y/hIk+EtOBYsEh2KxHVVJAP5AVsVDVnYpbBRRRSAKKKKACiiigAooooAKKKKACiiigAooooAKKKKACiiigAooooAKKKKACiiigAooooAKKKKACiiigAooooAKKKKACiiigAooooAKKKKACiiigAooooAKKKKACiiigAooooAKKKKACiiigAooooAKKKKACiiigAooooAKKKKACiiigAooooAKKKKACiiigAooooAKKKKACiiigApGAZSp6EYNLRQBi2vhtILy2ln1O+vIrNi1tBcMhWIlSudwQO2ASPmY9e55pYvDVvHaXVnJeXc1pPIZI4HZALZtxfMbKoYHccjLHGBjFbNFVzMVkYsehNDI11eale6lNFE6wC58sCPIwSBGigkjjJyfTGTWbpHhTzfDWn2lzqGow2ZtoxNpuUEZ+UbkJKeYAT1UMB26cV1lFPnYWRXvbKK+02exlysM8TRNswCFIxxWUPCsR8mCbU7+bT4WUpYO0flfLgqCQm8gEA4LEfhxW7RUqTQWMi50AyXc09jqt9pwuDunjtjGVkbAG750YqcADKkfnzU0Gh2drdWM1uJE+w2728SbsjaxUnOeSfkHOe5rRoo5mFkYk/hlXkmFpquoWVrcOXmtbdowjFvvEFkLpnvtYeoweavW2lWtndrPbKY9lslskYxsVFJIwPx9au0UOTCyMSfw0skky22qX9na3DM81pA0YRi33sEoXXPfaw6kjB5rYigjht0giQJEihFUdAAMAU+ihtsLGNY+G4rKC1hN/eXEVnMJbZJjH+6AQoEBVASoDH7xJ96t3OkWt5qH2u4DOfsz2rRnGxkcgnIxn+Ed6vUUcz3CyMWDw2Emg+06rqF5bWzB4bWdo9ilfukkIHfHbcx9Tk81oajYDULYRfaJ7V1YPHNbsA6MO/IIP0II9qtUUczCxyureHFGlskkt1qM93e2zXE0m0OVWRcf6tVChRk5AGOua0rfw/s1GK7vtTvdRa3JNvHc+WEhJBBYBEXJwSMtnj6mtiinzO1gsjNttDtrWS1eN5SbXztm4jnzW3Nnj16f1qn/ZN7o+hT2Wj3VzdtJiO2W5Me20U8ZBCqWVeuCWY4AzW9RRzMLFews4tO063soAfKt41jXPoBirFFFSMKKKKACiiigAooooAKKKKACiiigAooooAKKKKACiiigAooooAKKKKACiiigAooooAKKKKACiiigAooooAKKKKACiiigAooooAKKKKACiiigAooooAKKKKACiiigAooooAKKKKACiiigAooooAKKKKACiiigAooooAKKKKACiiigAooooAKKKKACiiigAooooAKKKKACiiigAooqG7vLawtXub65itreMZeWZwiKPcngUATUVDZ3lrqFol1YXMN1byDKTQyB0YexHBqUnCk+goAWiseLxLZLotjf3zGBr1A0cEatK7HGSFVQWbHsKjsPElvfatqESTQizs7aKYytlShYvuD5+7jYOCARzmq5WK6Nyis2x8QabqNyLe1nbzGUsgkhePzVHUoWADj3XI5qH/AISzRd4UXhK+YYmlEL+Wj527WfbtU57MR29RRyvsF0bFFYy+JbZvE8+ieRciWKONhL9mlKEtu4LbNoA2jnODnHUGsy58VTwtoloksUlxqGXkuIrCeSLYv91RyCeBy3HU8U1BhdHWUVTTVrF9KfUluB9kjDs8hBG3aSGyMZyCCMY7VBrutxaHoU2pyRSzJGoISONyWz0ztUkfUjips72C5p0VhXHii2gvLHcXS1uopW/e28iylkKgKsZAYk7jxtyccVdt9d0250+e9S7RILckTtMDEYSBkh1YAqcEHkDrT5X2C6NCis+w13T9SnMFrM4mC7xHNC8TMv8AeUOAWHI5GRzWf4o8Qvo0un2tsCJ76fyxIbOW4WNQpYnbHyTxgDI656A0KLbsF1a50FFZl54i0ywuDb3Nw3mooaQRwvIIgehcqCEHu2Kkvdb06whhkuLjIuBmFYUaV5RjOVVASwwc5ApWfYLov0Vg33i/TLbR7++tZGu2sYvMkhijcsCc4UgKSpypByPlxzir1nrdlfNAkTSpLcI7xxzQSRMQpAY4dQeNw+ueKfK+wXRoUVSuNZ0+0+1fablYxabDOWBxHvOFycd6ifxDpkdhHeNcN5UzlIcROXmIz9xANz8AngHI56UrPsF0aVFZ6a9pj6bJfC7VYIm2yF1KsjcYVlI3BuR8pGeR61Jp2rWeqLIbORy0RAkjlieJ0z0yjgMM9uOaLMLouUVhXi/2p4sgsZPmtbGEXcsZ6PIzER59QNrNj12ntRP4l+zLfQTWv/Ewt5Vjhtg//Hxv/wBWynHQ85OPl2t1xmnysLm7RWFehtN8RafephFv2+yXSKflZtpZG+oKlc9ww9BWvd3dvY2slzeTJBBGMvJI2AopNBcmorKtvEulXVzDbR3DpPOxWOGaCSJ2wCchXUHGFPPTjrTP+Es0XeFF4SvmGJpRC/lo+du1n27VOezEdvUU+WXYLo2KKz7/AFzT9NuEgupnM7ruEUMLyuF6biqAkL7niotC1kayb94mikgt7oxQyRHIddiNnOfVjS5Xa4XRq0Vjad4ltdQ1q+01IblJLSXy97W0oR/lDE7igUdcDnnGR1pG8X6GiyO99tiTP74xP5T46hH27XPB4Uk8Gnyy7BdG1RVD+29P/tT+zRcbrzIBhVGJXK7snA4GCOTx261Vl8W6JC03m322ODcHn8pzECvVRJjaW4xtBznjFLlfYLo2aKz73XNPsBD9omYvOu+OKGJ5ZGXjLBEBbAyMnGBmqWoeLtPsk06WMTXUN9MY1e3gkl2YVichFPIK42nB6+hpqLfQLo3aKhkuo4rF7tsiJIzKdykEADPIPIrG0GSKy020u9Sk23+sOJGZgTl2UsseewVRgD29TSS0C5v0VQ1FLLUhJpFyxMksXmbVB3IAcBwexDYI75HHSquiayk+l2SajcIL2SSS2I6ebLEWD4H/AAAmi2lwubNFVtRvotM0y5vp8+XbxtIwHU4HQVS0rXo73w//AGnqEa6cYt63UUsgIt2QkMC3GQMde4xRZ2uFzWorNtfEGmXkc7x3JjFunmSi4ieEonPz4cA7eD83Tg1CPEVld2V21hciOaCBph9qt5EAUA4faQCye6/nT5X2C6NiisufXrKwjtkvrjfcTRhxHbQSSMR3YIoLBc9z+dA8S6O1lLeLqEJtoZVhkmydqu2MDP8AwIc9OaXK+wXRqUVn2GuWGpXL29rK4mRd5imheJivTcA4BK+4yKr6x4kttG1KxtLiC5kN2WG6G2ll2AKT/ApyeOn40crvawXRsUVgL4ssoLzUIb+Qp9ln2AQwSSFU2K259oO0ZJ5OBx7GtG71nT7K0huZ7lTHPjyfKBkabIz8iqCW454B4puL7BdF6iqthqVpqcBlspfMVW2upUqyN6MpAKnkcEA81l3d1qulHUdQunSeyiRmhgGFP8OMnGf71JRd7Bc3qKxrfxLbXHiS60cQXKywBMSfZpdjEhifm2bQBt4OcHPFSL4m0h7wWy3eWMnlCXyn8ovnGwS42bs8YznPFPlfYLo1aKybnxPpNpcTQTXLGS3bbOI4ZH8ngHL7VO1cH7xwOvPFO/4STSftccAuwTIwRJRGxiLHovm42bj6ZzRyvsF0alFFUdW1MaZBEUha4uLiQQ28CEAyOQT1PQAAknsAevSklcZeorBfWdV06SF9c021itJZFjM9pdNL5LMcLuVo1+XJA3DuRxjmte3vbe68/wAiTf8AZ5DFJwRtYAEj9RQ00K5PRWBL4w0+PUdPt40uZ4r+Bp454rWZxjK4+6h67vUYxz1qzFrkMUWoTalJFbw2t2bdW5+b5VIGO7EtgAdeOKfK+wXRrUVkP4m0/wDsu8vIGmkNnHvkgNvIko64zGV3gHHXb6+lWdH1WHWdNjvLeOaNXAys0LxkEgHjeoJHPUDBpOLWoXReoqK6uEtLOa5lz5cMbSNgZOAMmsnT9V1e5aznuNKgWzvBuDwXXmPCCMqXUqAQeh2k4JHUc0JN6hc26KypvE2kQXclvLd4aI7ZZBE5ijb+60gGxT7Eg8iiDWo7rU7ZLd42srixa7WYggkblAPPQYbPIp8rC6NWisuz8SaVf3KQWt0WaX/VM0Tok3Gf3bsAr8c/KTxSr4i0ttQ+xLckymTyg3lP5Zf+55mNm7/Zzn2pcr7BdGnRWbpMWqxvOdWnSUMf3QQAbRlvQDtt/KkvfEOmafctBc3DeYgDSCKF5BED0LlQQg92xRZ3sguadFUbzWtPsbeGa4uQVn/1IiUytLxn5FUEtxzwDVW61+BtH+3aZIk+LiKFg4IKFpFUhlOCrAN0OO1CiwujYoqC3vbe68/yJN/2eQxScEbWABI/UVRk8S6THDaym6LC7i823VInZ5V4+6oBJPI4AzRZhdGrRWOfFWjiBZVunkBzuWK3kd48cHeiqWTHfcBip7nX9LtY7d5btSt0he38tTIZgMfcCg7jyOByaOV9gujRoqpp+qWeqwNLYylwjbHVkZHjb0ZWAKnkHBA61Ff65p+m3CQXUzmd13CKGF5XC9NxVASF9zxRZ3sO5oUVljxLpDWT3cd8ksKSiHdEpcs5AIVQASxwRwuatWGo2up25mspS6qxRgyFGRh1DKwBU9OCB1os0K6LVFV7e/trpJ2hlDC3kaOXII2MvUHP51Tm8SaVBDbyNcO/2mMSxRwwSSSMh/i2KpYL7kYoswujUoqkmsafLFaSxXSSR3j+XAyfMHYAkjjpwrdfSnXOqWdnLJHczhHiga5cbScRqcFuB/8AXosx3LdFVbDUrTVIWmsJfOiVtvmBSFY/7JIww9xkVapbAFFFFABRRRQAUUUUAFFFFABRRRQAUUUUAFcd8UPBd1478IDS7C8jtbiO5S4Qy52PgMNrYyQPmz0PIFdjRVRk4tNCaTVmcf8ADDwZdeBfBw0q/u47q4e4edzFnYhYKNq5AJHy56Dkmuvb7h+lLRRKTk+ZglZWRxemrNog0e/v7G6eEaaLV/Ktnlktn3BuUUFsN0JA42jNV72yvNdu/EU1jYXVqlza2nkvJD5TXOx3ZgA44OPlw49MjBrvKKrn1uLlONto31PWNOxea/di1n85xe2UdtHCQrDljApfOcYU985x1spp8qfDnUbRbRxNJHeEQ+WdzMzyEfL1JOQffNdTRScwsc5aTPZ+KV+1W91i8sLeOOVLZ3QOhkLB2UEJ94fewOaq6TZ3UcnhcyW0yeRbziXdGR5ZKrgN6Z9662ijmHY465tJV8UPoKRt9hv5V1J2HRFUjzE/4E4jPvvet3xNDLceGNQit4nmlaFtsaDLMfQD1qzFp8UWq3GobneaeNI/mPCKuSAPxYk1boctUJIwFkXVPEOk6jBbXIhS3uBuntpIWRiYxyrqCpODjI55xWXr2lX95qOrm0juEX/QZ1aJFzL5bsXC7wVZgAODntXZ0UKdnoO1zkNPjfUfENhOt5rt4lmXkZ760S1SMlCuMGBGcnPQHAxk9gdbWoJpda0F4ondIrx2kZVJCDyJBk+gyQPxrZooctQscS8VzpOqamtxqGuwfarpp4RYWCXEcqsBgbvJcqRjbhiOmRx0fptu/hmewubyyvZLdrAW+UiNzJbPvLlWES9DuAyq4GwDpiuzop84uU4mWG51J/Fk9tplzCt7YRpb+bCY2uCEkGcHBB5AweRxnFXLjUFOo6TrqWmoNZxQzW0y/YZhLGzFCCYiu8rlCMhT1B6c11VFLn8gscRcJPq7a/KunXiwXD2SxCa3ZDMqsNxCkZAHOQQCMcitDxJa3Ka7YamlzqEFtFBLBI+n26zyIWKEEoUckHaRlRkcZ4rp6KOfULHEx2C3Fpql9cR63exzNAFlmjSKc+W2RIkSxoRtJzyCW28AjGdXw3PdXF9eNJ59xbrHGsV9d2Rtp5T82UYFV3AcEEKB8xHrXQ0UOd0CRhpi18dymQ4F/YoIj6tE7bh+UgP4GsvUbO9u9d/4SWK1cnSWMNvbND89xEeJmGRnJ/g9dvo9dRdWNtetC1zHvaCQSxMCQUYdwRz0JB9QSDxVihStqFjE1mT7TqeiWcWd8lz9pYEYKxxoSSQenzMg/GneJreaWwtpoLdroWl3HcSW6DLSKp5wO5GQwHcqK0ksrdL+S9WP/SJEEbOWJ+UZIAzwByenWp6XNa1h2OTu74a14j8PzWOm3xhtrmRpbmezkg8rMLgDDqDySOcYyAM54p6afKnw51G0W0cTSR3hEPlnczM8hHy9STkH3zXU0U+fawrHLWt02havdTalZ3siX0cLRz29pJOQVjCmNggYrggkZAB3HvVjwnHMp1iWaxlshcai8sccqbSylE+b8eT9c966Gihyuh2OYkSWTUPEGliO5hn1BN1tP9nkMRHkqmTIBtUgg8Eg+lZ2sagb7wNPpFtoeofbVt1jNqbKQJEVxyrldjYxkbSScce3cUUKfkKxiWNnJ/a2uyeW0TXBiVJSpG4CIDg98Emucvr9bb4bXmiTaRefbLfTngkhNo4hJVCC4lI8srxu+9n2zxXfVgv4VV4XtDq+o/2dIxLWW6MoVPJTfs37T6bunGccU4yV9Qa7GRc29xZayuoPe6ra2tzYQRLJp1otxhk3Eqy+VIwzuBBAA655xSRW8un2VvqckGqTxnVTdSmWASTlDEYw/lRRgjJwdoUtzk9wO1ACqAoAAGAB2paOcOUq3sI1HR7iBNyi5gZBuUqRuUjkHkdehrEjhOveALdYCI7qOFDHn/llcRY4P0dcH8a6WqMmkW5tr6G3Mlqb7cZXhbBDEYLKDkA++OvNSnYbRmeGLg6haXHiK6jMBvwpRJDzFCgwAfx3t/wKneG7kxaRavJFOx1K4mnjKxEhFdmkXcQPlG3HXucVqSaXZy6UNNkhzaCMR+UGKgqMYXjtxgjuOKtABVAUAADAA7U3JMEjC8TwX2oNYadp8a4knE88sqMY1SMhgpI7ltvGeQD6VmtYX8NzrNtq1n9utdSgE+2wVkG9QEYAk8MRsI552muwooU7KwWONtTNqC38EsF9q9ibFkMl7ZG1uWYnmIMVTcCO4AwQMkk8RI95dQX1vbrf39uNNnUTahp7QzxOQNsSsUTeD7An5RknIrt6KfP5C5Tlbec6DrE9xqFnePFe28Ajnt7SScoUXBjYICV55GRg7j3rNtIW1CLWNunyRhvEFvKYSmWCjyW3MB04G4+neuqvtHa6vlvLTUruwnCeW5t9jLIvJAZXVhwSeQAffFTaXpkWl2rRRySzvI5klnmILyuerNgAegwAAAAAAKfMt+oWKeoQSt4r0eeOJ2RI7hZJAuQoITAJ7ZI/So9fmNnqGk3z29zNBBO/mm2t3mZA0bKDsQFiMkDgcZrcoqFIdjH0S2MV9rUrwNH9ovd4ZkI8xfKjGeeo4I/A1zFvp19Z2Og3ssmp2UVtaS28osrVZZYizqVzG0bnbhcfKuRx2rv6KanYVjnfDNs5v9Q1BpNSmW4EcazahGkLSBAeRGsaFR82MsMnHoBm94mhluPDF/FBG8sjxEKiKSSfYCtSilza3HbSxz5dofFeoW7w3Sfb7aJYJ0t3ePKh87nUFUIyPvEZzxmuaisLo+HYdAnu/EL3IiW3e0WziSHjAJE/kFQvfO4t/wAC4r0WiqU7CcTG0a0aC81t3hZPPvNwZlI8wCGMZHqOCPwNY6afcR/CaGySzlW4S2TEAiIdWDA/dxnPeuxopc7HYhku7aF9ktxEjD+FnANZWtRyTtp2p6en2z7BcGRoomBaRGRkbbzjcN2cZ5xitC40rTruYy3VhazSEYLyQqxP4kVNb20FpD5VrBHBGDkJGgUfkKSaQHO6nf8A/CSWX9l6bZ3w890E81zZy26QxhgWOZFXc2BgBc8kE8Ulvetot7q1pc2N9JJc3TXFsbe0kkSUMijG9QVU5BHzEevSuoop8yta2gWOL0kz6VYeFZ76yvFWOwa3mWO1klaKRhHgMqAkD5TzjAxzik1HTb5p3vIzewR22sPO5tYVeUxmAJvRWVg2CewJ645rtaKfPrcXKcdaWkuo3t5dxT6veBdPkt0l1C3S2DM5B2qnlIx+6PmPAzxnnG3oepQSaFbNKs1qYkWF1vIHgIcKMgBwMj3GQexrWqG5s7a9jCXlvFcIDkLKgYA+vNJyTGlYabuKWKQWjw3EoQlYxIPmPoTzj61ylgI11Sw/sCx1TTpDKPttpLDKlrHHg7gA48vOcYMfJPqM11VtplhZyGSzsreByMFoolUkemQKs0KSWwWuchYXh0vQptDudLvpr1BKgSO0keK53FiH83Gwbs5O5gQSc9s0Y9F1C78NWdjHBLbzP4cNt8yldkh2fISRweDwfyrvaKfPbYXKcRHHLqdzYWxu/EU7Q3EcskN1ZRW8cOw5yZPIAbBGMIxznrjJp2ZbXUvsum2+oEvfB5NOu7IyWygybmlSbbhT1cZc4PG0Gu1oo5/IOUK5m2vhoN3qUF/ZXsj3F088MltZyTrMrAYBZFIUjG3DY4APSumoqE7DaOWG7StRsdTudJlgtTY/ZzBaRGc2bFg23bGCSDwCVGAVHbmq08FxqTalqVtZ3MUFzPZLFHJAySSeXKC0hQjcowcfMAcJnpiuyoqucVjl7e9bRb3VrS5sb6SS5umuLY29pJIkoZFGN6gqpyCPmI9elQeGbC4iPhyS6s5Yng0do38xCDE5MXyn0PB49jXX0Uc+gWMTRrV4fEGvzPbtGs9xEVcpgSAQoMg98HIrL0DT7iKfQmuLSVPs8N4CXjI8vdKu0e2V6e1dfRRzMdjHsYZo/F2rSNE6wywW5VypCuw3g4Pcgbc/hVM3Q0PxJqM99aXckV95bw3FtaSXGNq7TGwjDFcEEjIAO4966SilzBY4WG2Y2eo3N3pupWIOsNcQyWsO6aDMagShMNvzkggK33jkcGt/wzNc3EV5JcxsUM+IbmW1NvLcKFUbnQgHIORnAyAMDFbdFNzuhJWOP162nh19rC0RvJ8RIIpmXjymT/WN/wACi4z6qPWrjTJ4f8QX1xdWd09tdxxCGa1tZJ9mxSDGVjDMPUHGDuPetltOibWE1F2dpY4TDGpI2oCQWI9zhfyFW6ObSwWOKNpdxRx6y1jcrANXa9NqsRaVIjEY92wc5JO8qBu5PGeKTUppta1DUprPT777O2iTQpJLavF5khb7gVgGz+HOeM121FPn6hykVpGIrKCMLsCRqoXGMYHSpaKKzKCiiigAooooAKKKKACiiigAooooAKKKKACiiigAoopssiwwvI+7ailjtUscD0A5P0FADqKw9J8V2Gp6K+pS+ZZRRDMpuYpIlUZIGGdVDdO3rip7bxLpV1cw20dw6TzsVjhmgkidsAnIV1BxhTz0461XLLsK6NWisyDxFpNytw0N6hjtVZp5CCEi2kghmIwCMdM5xz0pkHijSLiaKJbp0kncJCk0EkZlJ7qGUbh/tDj3o5X2C6Naisu78SaTZXT29xdENEcTMsTukPGf3jgFU45+YjiopfE1rF4kXR2huWd4VkEqW0rpknAG4IVx/tZwKOV9gujZoqC9vrXTrRrm+nSCFcAsx7k4AHqSeAByap2niLS726jtYbhluZAzLBLC8UmB1JVgCB7kc9qVnuO5p0Vjw+K9FnkhWK8LLOwVJfJcRFj0XzNu0NnjaTnPap73X9N0+7FrczsZ9oZo4oXlManoz7Adg4PLYHBp8r7CujRorL0DVjrNhNcgxMi3UsUbRHKsiuQpznnIFZ6+MIbmz1lrS3nWfThLt862lVH2IDksygDk9M5xzRyu9gujpKKybPxLpl5cQ2yXP76YfuyYnWOU4yQjkbX78KT0NOufEuk2l29vPd4aI7ZXWJ2jhPXDuAVQ4IPzEdaOV9gujUopryIkTSM2EVdxPtWbD4l0ifT5L6K9Q2se0GbawQlugUkfMc8YGTnjrSSbHc1KKz7TXdOvY53iuDH9nXfMtxG0Lxrz8zK4BA4POMcGqw8U6XJa3EsEk0jQRGbyzbSq0i/3kUrl1zjlQRzRyvsK6Nmis/Q9Yh13Sob2COaISIrMksLxlSQDgb1G4c9QMGmXviPS9PuWt7m5PmRgGXy4nkEIPOXKghBjnLY4o5XewXRp0Vzuq+JvI8QaXpdi2ftimZp/sks6GMFQApTABO77xOFHJHIq7r2vwaBDbSXEM8ouJ0hAhhkkK7iAT8it0z079BT5Xp5hdGrRWFJ4otrfVmgn3iFrWOeJVt5GmcszA/uwC3AUZ+XjPNXRrumHShqX22P7ITtEnq2cbcdd2eNuM54xmjlfYLo0KKpafq9lqnmCzlYvFjfFLE8UiZ6Eo4DAHBwcc4pt9rWn6ddRW15cbJ5huiiCMzOMgHAAJPUdPr0pWd7BdF+isu78SaTZXT29xdENEcTMsTukPGf3jgFU45+YjinnU9utzWsjRLbR2a3JlJxjLMDk5xjC5o5WF0aNFZln4i0u/nENtcMXZS0e+F0EoHJMZZQHHuuam/tex/scap9oH2NkEgl2nkHpxjOfbGaLPsF0XaKzLvxFpdldtbXFyRKgBk2RO6wg8gyMoIQY5+Yjimt4m0hbaCf7arR3BcQlEZjKUOGCgDJOew69s0cr7BdGrRWHe+K9Pt/Dt9q1t5tytkp8yAQyLIrgZCsm3cnbkrwDnpWlZajBf2Iu4VmWPB4lgeNuOvysA36c0OLSuF0WqKpnVrEaSmp/aAbORVdJQpO4NgLgYzk5HGM1XuPEelWt69rNdESR/wCtKxOyQ8Z/eOAVTjn5iKLMLo1KKypPE2kRWdtdPer5V0rNAQjEy4xkKAMk8jjqe1OXVooG1Ga/vLZLW1dQDsZDGCinDljySW4x6gdaOVhdGnRWXa+JNKu7qK2iuHS4mJEcM0EkUjYBOdrqDjAPOMcVStPGGn/YhJqM4ikEkiytHE7RwhXIBdwCE4APzEdafLLsF0dDRWd/agGtS2ztEttHZrc+aT6swJJzjGFzTbLxDpmoXKwWtwxkcFo/MheMSgdShYAOPdSaXKwujTorMh8R6VPqAs4rotKzmNW8pxG7jOVWTG1mGDwCTwfSrl7fWunWjXN9OkEK4BZj3JwAPUk8ADk0WYXRPRWZaeItLvbqO1huGW5kDMsEsLxSYHUlWAIHuRz2otPEWl314LW2uS0j58tjE6pLjrscja+P9kmjlfYLo06Kge9t4r6Gzkk2zzIzxoQfmC43c9OMjiop9WsLY3P2i6SIWgUzM/ATd90Z6ZPp15HqKLMdy5RWdZ69p1+ZVgmdZIk8x4poXicL/e2uASPcDFTNqtkumRag04FrMEKSbT828gLxjPJI/OizFdFuiqEet6fNqj6dFcb7uM4kiVGJTgH5jjAGDwTweg5rO1/xDJpusaZplsCst45Z5Ws5Z1VF6gBMckkDJOB1Pu1Ft2C6OgorLu/Emk2V09vcXRDRHEzLE7pDxn944BVOOfmI4qW/1qw0wxLdTHfMCY4oY2lkcDqQiAsQMjJxgZpcr7BdF+isG/8AGOl2ulXN7ayNei2dEkSCN2Ks3Y7VJHvxweDg1o2ur2d5LFFC8iyzRtKkcsLxsVUhSSGAI5I6+tPle9gui7RVC51zTbNLl7q7SJbWRIpmcECNmAKgnH+0OenNMm8QabBaQXEk0m24z5MawSNLJjqVjC7yPfHTmlyvsF0aVFZ/9vaZ/Zn9ofa1+z7/AC8hTu35xs2Y3bs8bcZz2qXT9TtNUheSykLCNtjq8bRujYzhlYBlOCDyOhosx3LdFZd14k0uzuZbea4czQECWOKCSQxggHLBVOFwR8x496afE+jiaNBehlkKhZkRmhy2NoMoGwE5GATk5HrT5X2FdGtRWff65p+m3CQXUzmd13CKGF5XC9NxVASF9zxWffeMtLtbSK5tnkvo3uktma2hkkCk7cn5FOcBgffoOaFFvZBdHQUVmt4g0xLmC3e4Zbi4RXjgMLiRlYkA7cZHQ5yOO+KbpurRzlLe5uoJLqQysnlRuisqOVON3ccA8+/SlysLo1KKhtLyC/tVubSTzIXztfBAbBxkZ6j36GpqQwooooAKKKKACiiigAooooAKKKKACiiigAooooAKKKKACiiigAooooAKKKKACiiigAooooAKKKKACiiigAooooAKKKKAOKiE8vhy2t1sLx59JvVmuLZ7Z081Q7H92zALJjIYbSeQB1qzd3w1rxH4fmsdNvjDbXMjS3M9nJB5WYXAGHUHkkc4xkAZzxXWUVfOTY5H+y7k+BvIhs2aWO9a5a2I2tMFuTIVwccsBxng5FM1jV4NVv8AQRbWF4BHqcbNLdWkkHlHY4wPMUFieny59z0z1V7ZxX9jLa3G/wAuVdrFGKsPcEcg+9Z1voDpeW9xf6tfaj9lJaFLgRKqtgjediLuOCRzkc9M81Skt2DRzaQXelC+s7m+19ZZbmaSKKysI5op1kcsMSGFgOuDvYYwe2K0rCJtC1PSYJ7a8MR05LRXWJrjY4YfK7IuBx/EQq8dq6qik53DlMTxJFKG02+jt5LqKxu/OmhiUs5Uoy7lUfeKlgcdeDjnFZ73X9r+MdJu7PTrwW8EFwr3U9q8OCwXCYdQ3brjHpnnHV0UlKyHY5J7CdPhT9jitZRcrZDbAIzvD9fu9c55qe2vBoOsamt/Z3r/AG2cXEM9taSzhx5artJRTtIKnrgYIx3x01FHN3FY5/wZBNBo1wLixewaS/uZBA64Kq0rEHjjkHPHHPeqVwZDZ+KNMNpeG4nE00OLaQxyq0SqNsgG0nII253e1dbRRzatjtpYwdatZTpGlx20Ds0F5anaiElFDgE+wAzn2rn0t7vTLe90+4vdfE0k87xwWlhFLFOJHZhiQwMBkNg72GOc8YrvqKFOysJozbayaz8LxWQVy0NmIgGbe2QmMEgDJ98DPpWDe6XdL4W8Om2F3bDTvKeaO1iVpkXyShwjqwJUtnGCeDjnFdhRSUmhtHF29mNTvbm6k/trVYEsJYCL6BLXzN5GY1Xyo2J+X7xOBn1ziTTJLq4vTbW/268tls5V83UrAwS27HaFjVyibwec8H7oJY5FdhRVc4uUyPDF0Ljw9aRmC5gktoUhlS5t3hIdVAONwG4f7QyD2NZ9pfr4fmv7a/sb6SSe7kniktrOSdZ1c5GWQEKRwuGI+7npXT0VPMrsdjkdF0u8sdS0IXFu6CKyut4AysBeSNljJHHA4H+6cVreJt6abBOkE0y295BNIsEZkfYrgsQqglsDnABNbFFNyu7hbQxLJPtHiubUEglWKXT4VSSWFoz99yVwwBB5GQeRxmsG90y/+1T3Uf223htdZe4JtYVaQxtAF3orKwfDMc4BPXHNdzRQp2YrHL6FC114ibUPtGr3UcVsYRPqFuluCWYEqqeUjHG3O48DOBnnGlJbM3jO3ujCxRLCRBLt4UmRDjPqcdPataik5ajscGkF3pQvrO5vtfWWW5mkiisrCOaKdZHLDEhhYDrg72GMHtipLrw9etpc2m2sc6sujQQKWZWJZHYlN+0KTjjpjnpiu4oqvaMXKcZAkmp6ppyC88QXX2a4E0i3llHbRw7QereQu70wjc564qVNPuv7fGim2kGlx3R1ETFD5ZU/MIs9MiUlsegFddRS5w5TmLC+GhXV/Z31jfPLPdyTxS29nJMk6ucjLqCFI+7hiOFz0ql4a064jGhNc6dJbGA3zGNk4gLSfKM9BwTj1HSu0oo5wscpq9jdz3fiZYLaRhc6VGkWFwJJMSggHoTyv5iug0y+j1CwjnhjuI1Py7bm3eFwR1+VwD+OMGrdFJyuhpHI2+n3Y15dGe2kGmWty1+kxU+WwPKRA9MiQscdgq+tS6bff2Il3pt7p19JcPdTSxtDaSSR3Ikcsp8wAqpwQp3EYx6YNdTRT577iscb4b064htfC4uLCS3NrbXAdGQgQMdoAPHHGQKk1Cyuhf3t4tnNPFb6pDcmFUJMyLCqkoP4ipOceq4HNddRT53e4cuhylxejWfFGhXFlp16YbaWYy3M9nJD5eYmAXDqGwTjnGMgDrUGjaiNG0KayvNG1AXD3FwyRQWUkiz75XIJYLtXOed5Hr05rsqKXMrWsFjg38O6mdEfTQjiddFgh3JjaXWRiYwxG0nHHPHPIxVmBJNT1TTkF54guvs1wJpFvLKO2jh2g9W8hd3phG5z1xXZ0U/aMOU4u2MttqcFnp0GoFPtm6XT72yLQQKWJaSOfaAOTuHzt6ADts+JIpQ2m30dvJdRWN3500MSlnKlGXcqj7xUsDjrwcc4rbopOWtx2OVe6/tfxjpF3aabd/Z4ILhXuri1eHBYLhMOobnHXGPTPOKukmWDUtPsrCDUGt4pD5lpqFiQtioRuYp9oB5wB8z5DHBAFdpRRz6WsKxieKo2i0pdUiGZtKkF2oHVlUESL+KFh9cVmf2fdHRbTU3tXnmkv11G6t1GXKkEKoGeSi7OO5Tjmuj1PT4tUsGs7h3WJ2UuEI+cBgSp9jjB9iat9qFKyC2py80p8R6zZyafbXcMVpHN5txdWklvnem0RgSKrHkhjgYG0d6y5ryd/Bthosel6k1/bPaRTx/Y5AiBJE3MJCNjLgZ+Unj6HHeUU1O3QLGRots0Goa1I8LR+ffbwzKRvHlRjI9RwR+FJqMEr+KtGmSJ2jjS4DuFJVMquMntmtiip5tbjscGkF3pQvrO5vtfWWW5mkiisrCOaKdZHLDEhhYDrg72GMHtirtjC3ha+tpLy0vZbZ9NgtVliia6eFoy2Vby1zg7h8wUDK844rr6KpzuLlOHaG6uoPFN1FpVzCtzJBJCjQlXnCouWC9c8dOvQHB4rRutQVNc0/XRa372L2stuxWxm82Ni6EFotu8A7Tzt9Oxrp6KXOFjh/JuNTl1Sc6bdpDNq9lJEJoGUyRqIsvtIyAMHrgjHOKva9bXNv4mj1M3epW1q9p5Bk0+2W4ZGDk/MpjdsHI5Ufw89q6qinzhynEx2CnTL2+uU1uYT3kcyXBiRblNiBRMsKxqRjGNpVmI6jHFbPhqa6uGvZJ1kki3qIbu4szbTTgLzvUhc4PAO1Qew4yd2ik5XQJGRpNs0Wt63M8LJ59xGVdlI3gQoOD3AOR+dYq6dcR/Cm8so7ORbgwXGyBYiHJLuRhcZyeCK7GijmY7HMrdf2F4gv5r+0vJIr5YniuLa0knxtTaY2CBiuCCRkAHce9ZkMdzFp2o3j6VdwINdju/JWAtIYh5ZLhVBLdCSBk5yOtdzRQpisYlkn2jxVNqCQSrFLp8KpJLC0Z++5KkMAQeRkHkcZrAvtIv9U0GDS7S3kt7sXVzci5lR0WJfNf5cjB/eBtvB+6SewruqKFNp3Cxm6VqCXEFvCLC5s2+zhzHJAyrFg7SmcYyMdO45HFaVFFSygooopAFFFFABRRRQAUUUUAFFFFABRRRQAUUUUAFFFFABRRRQAUUUUAFFFFABRRRQAUUUUAFFFFABRRRQAUUUUAFFFFABRRkYznj1qIXMDXTWyzxmdEDtEHG8KSQGI64JB59qAJaKKKACijIHU9aMjOM80AFFGRnr0ooAKKKKACiiigAooooAKKKKACiiigAooooAKKYJojOYRIhlChjHuG4KeAcenB/Kn0AFFFFABRRRQAUUwzRCdYTIglZSyxlhuIGMkD05H50+gAooooAKKKa0saSIjyKryEhFJwWwMnHrxQA6iiigAoqpfapZ6aYxezeWZThPlJyeB2HuKt5B6UWAKKKKACiiigAooo6igAopizRPK8aSIzx43qGBK5GRkduKfQAUUUjMqIXdgqqMkk4AFAC0VVbVdPSG2le+tlju2C27mZcTE9Ahz82e2Klt7mC7i821njnj3Fd8bhhkHBGR3BBFOzAlooqpPqlnbX0NnPNtuJseWm0nOc45Ax2NKwFuiobu9tdPtmub+5htoFxulmkCKM9Mk8VMCGAIOQeQRQAUUUUAFFFFABRRRQAUU1ZY2leJZFMiAFlB5XPTI7ZwadQAUUUUAFFFFABRRRQAUUVFJcwQzRQyzxpLMSIkZwGkIGTtHfA54oAloopqyxvI6JIrPGQHUHJXIyM+nFADqKKKACiiigAooooAKKKKACimxyxyhjFIrhWKttOcEdR9aYbmAXYtTPGLgp5gi3jeVBxux1xnjNAEtFFNSWOR3RJFZozh1ByVOM4PpwQaAHUUUUAFFFFABRRRQAUUUUAFFFFABRRRQAUUUUAFFFFABXHfE/xrdeBPCA1Sxs0uriS4W3QS52ISGO5sYJHy46jkiuxqG8s7XULR7W/tobq3kGHimjDo31B4NVFpSTauhNNrQ5X4YeM7rx14PGq39pHa3CXDQOIs7HKhTuXJJA+bHU8g117fcb6VFZ2drp9olrYW0NrbxjCQwxhEUewHAqYjII9aJNOTaVkCTS1ODt9Wv0+HBhXw9fvGNOZROstvtI2H5sGXdjv0z7Vd1HU7yxtNQexMazW+jwywlkH3yXHJxkjgcV0MekQRaB/ZCvJ9n+zm33EjftK4znGM/hUNz4ftLpLhZJJgJ7VLVtrDhFJII46/MavmjcmzKUr6ppWp6d9q1M3cV/MbeWJoUURMUZg0ZUZxlcYYt168c1vDOn6jHp16Ytamd2vpwv2iCJlXEx3HCqpyQCOuBnpW/e6dFfTWkkzOptJxPHtI5bay4PHTDGqcWgG3kuvs2q38MVzL5ohUx7YmLbmKkpu+Y5yCSME4xS5lYdtRnipSmjrfIPn06eO6B77VPz/APjhYfjWNKxbxkniEOfIiuBpWd3ymNlyT/39Kj8K7CeFLm3kgmXdHKhRh6gjBrIXwtZJ4S/4R8TXP2fy9nnlx527O7fuxjdu5zjrRGSS1Bowhqs1hpsV1AXjm17UZH8+O2e4aOIKdpCICSdka44wM5OcYOnoWqXcmsNYvJqF7amAyrdXmnPbMjAgbCTGitkHIwMjBzmtO40S1n0y2s0eW3Fpt+zTQsA8JUYBBII6ZGCCCCcg0mn6OLK6e7ub661C6dPL8652Aqmc7VVFVRzyTjJ4yeBTcotAkyrdS6lceLVsbW8FtZpapPLiJWdm8xhgE9AQOeD04weaxT4ivL97u4hvdQtTDPLFBbwaNLPE+xiuZHEZ3ZIJ+RlwDjqK60WMQ1R78M/mvCsJGRt2hiR+OWNZ0/hsSTTm11W/sre5YvNbW7R7HJ+8QWQsme+1h3PB5pJx6g0yna6hqfiC4SCOaXRRHZwzzqIlMwkkz8mJFIUDac5XJz2xzLdXWs20Vlp0k9t9su7polu1TgRKpfdsPG/AxjkZ56cVauPDsJlhl028udLlihEG+12HfGv3VYSKwOOcHGRk88mk/wCEatP7OW2E1yJlmNwLzzB5wmPWTOMZwSMY244xjii8QszPvb/U9DkntJr9r4S2E9xbzyxIskbxgZDbQFYHcMfKMYOc54iurjX9P07T786nHNLdyQwy28sCiKMyYUMm0BsqSDyxBwemeNSLw3GVuWv7+8v7i4ga2M85jDRxt1VAiKo9c4ycDOcCrl3pUF5Z21tK8gS3lilQqRkmMgjPHTjmnzILMyTc6jpWsGxuNQe+juLOa4jkmiRXieMqCPkABU7x1GRjqc8Z7XviG08M6drT6lHNcXIt1ltJIFEI80quVKjfkFgeWIOCMDPHTXWlQXeoRXkjyCSKCWBQpGCsm3J6dflGPxqObRbafRrfTHeUQ25hKMCNx8plZc8Y6qM8flSUloFmZ/2m/wBG1uC3vL99Qt7uCaT95EiNE0YBwu0AFSCeDk8DmsOHxPqU2lxavFNqU88iLKNNTRZvIZTzsEnl7t2ON+7bnnGOK7K406G51G1vZGfzLVZFRQRtIcAHPHtWaPCsQRbb+0786arAjT90flAA5C7tnmbc/wAO7GOOnFNSj1BpleD+2tW1DVlj1VrGK1uRHbrHBGxP7tGO/cDkZboMHrz0xFbazqOuRaTbWs6WEt3aPc3M8aB2XaVUrGGyOWbqQcAdOcjobSxis5rqSJnJupvOfcRgHaq8e2FFZp8L2yWNlBaXl3aTWIYQXUTJ5gDHLKdylWB44K9geozS5kFmU9KivYPHl9FfXK3QXToPLm2BXYeZJ94DjOe4AHsKvTanLp/iSWC/lAsp7UzwMQB5bR/6xSfoVYZ9Gp+m+H4dO1SfUmu7q7vLiFIZZbhl+YKWI4VQB948AAe2ck1fFWmjWDplj5UjBrsSSSpkCONVO8E+jA7Md93tRdOQapFa3v8AWNQOn2f2n7FLewy3ssvlKZIYtwCRqCMbsOuSQeh454iv9Y1PSftlhLdi4mgNrJFdGJQzRyTBGVwBtzweQBwRwCOd7UtIj1B4Zo7ieyurfIiubYrvUHGVwwKkHA4IPQHqM1Xj8NWhsryG9nub6W9AE9zO4EjBfu42BQu3qNoHPPXJpqUQsx+qXs9trOjW8L7Y7qeRJRgHcBEzD6cgU3Wru8F7Yabp0y28t6zlrhlDGNEGTtB4LHIAzkDk4OMVHB4a26jZ319q+oX81kWMPnmNVG5SpyERQeD1PPv1Bu6rpMWqxRBppraeB/MgubcgSRNgjIyCDwSCCCD6VOiaDU56SPULHxnALm9+2KmlXLRTPGqyZ3xZDBQFPbBAH9afa3+tjRNIM99E9/rBjG8wqI7YeUXYqo5Y4U9TjJzgDitG38MRR6l/aF1qF7e3ZtntjLOyD5GIOAqqFGMdh35zVmbQ7abSLawMkyC0CeROjASRsgwGBxjOOvGDkgjBxVOSFZme11qOj6ktldXzX8VzbTSRTSxoskbxgEg7AFKkNxwCMd88UkutfTwhD4hl1NGnSzW5kshChhdQu4jdjduIz8wOM/w44rVTQvsy3N3c313qd4bd4o5LnYCikZKqsaqvJAycZOBz0rP0vwosnh7T7S51DUEsRbxeZppKCM/KMoSU8zbnqu7HbpxQnELMv+Jw154J1FoJ5LcvZu4dApONpOPmBHPTpWbeWeoRTeHbeLUpJpnmk3XM8abkQwNnAVVXPpkHrznpXT3VpFeWM1pOpMM0ZjcKcfKRg4qla6IIBZG41C7vZLJ2aKSfywxDKV2nYiggA8cZ9SaSkkhtamLe65qHh4apb3NwdRaCCGa2lkhG/MjmPa6xgBsEA/KASDjGeaLLWL6LVbONbnU9SjuZPLnW50eW3WHgner+WoCgjGGJPPXjncutDs727uZ7kO/2q2W2kTdgbVZmBGOQcsec9hUNtoBivIbi91W+1D7OS0EdyYwsZIIz8iKWOCRlifz5p3jYLM0biztrsobmFJSn3dwzjp/gK4qS0uLoaaLfUbiy/wCJ5dDMKRtk5m5+dW9CPxPtXd1kXHhyCWyEEN3dWsiXT3cdxCU3xyMWJxuUqR8xGCDwamMrA0ZF9rVw+tXOnC+1G1jsVjQy2emNcvM5UMSzCNkUYI4ABznoMUR6vrV/DpMMbNZS3F3NBPLLaNGXjRGIkWOQZUnAIzwPcddi50Fpbj7Taare2Ny0axzSwCI+eF6FldGXPJ5AH5cVJb6FaWv2LymmJtJHkVmfcZHcEMzE9SdxPb8uKrmjYLMyof7al1260V9ZcRQQR3C3iwR/aG3lhsIK7MAoTkLzkDjGTp+H765vbCZb1kee1uZLZ5EXaJNjYDY7ZGMj1zVlNOhj1ibUgz+dNCkLKSNoVCxGOM5+c9/Sq4sLnTYJho4ikkuLl55PtTkAFuTjaPWpbTBKxcvv+Qdc/wDXJv5Gua0ua/1CKx0uyvTp8NtplvNLNHGjyuzghVXeCABsOSQc5GMYrbt01WfzYtUjs0heMrm2kYtk/wC8oHrVeXw3Fi0axv7ywuLWBbcTwFC0kY6K4dWU+ucZGTjGTQmlowZzzanf6FceIpZ3jnujdWkEUqQM/wB9VUM0a8kjOSF644xni/p2r3qaxbWyz6nqMFxvEr3elSW/2chSwYP5aLtOMYOTkjmtCDwpYxQ36STXVw2oOkk8ssnz+YgAV1IA2ngHjgYGABxUtpoRhvUur7U73UZYlKw/afLURZ4JAjRQSRxk5PXGMmqcoiszCivtci8IweIrnVN7pEs0tp5CCJ4888gbg+O4OM9sVbsrS6TxTrlz/aly0arG32do4thzGcAnZu4+v1zWq+hWr+Gjohkm+zGDyN4I37cdc4xn8KG0Vf7Xkv4r66hE0Yjnt02GOXAIBOVLAjP8JHbOaOZajszm7KG6vvEvhq6OoTQg6O0phiiiCE5i3AZQkA55wR0GMc05vENykdnYpLNbNcy3byT2lg07qkcxUBURWAJ3D5mUjg9Sa6O10O2s7ixmieUtY2htIwxGCh28njr8g9O/FQv4ct/s0SW11dWs8EkkkVzEy+YnmMWYcqVKnPQg9B3GaOaL3/rcVmYja9q0el6klu1zK9v5Btb29sHtzIXkClGVlUMR6qBww6EZrpbbTQqxyahIt7doc/aGjVSOSQAB0AycdT6k1VTw5B9luI7q7urqa5eNpbmVl3tsYMqgKoUAY6BR1Pc5rYqZNdBpdzmPF1pPdan4eWG/ntAdQIPlJG2T5UhB+dW5GP19cYqTa9dXeo3yJf6jZpZzmCJbXSJLhZCoGWkcRsCCf4VKkDvk8dPeadDfXFnNKzhrObzowpGC2xl546YY/pVO50AyXc09jqt9pwuDunjtjGVkbAG750YqcADKkfnzTUlazBpmbbarquuPY2cbPpEr2n2m6cw/vQd+wKiyD5QSCcspOMDGTms7W5NWlsfFGl3mpEx22mpLDNFEiuwYSbtwIIydoBwB6jFdFP4btjFZjT7m506azj8qGe2ZS2w4yrb1YMDgHkE55yDUcPhWzQ6i1xc3d1JqdusF1JNIMuAGGRtACnDHoAOBgDnLUorUVmMhlvbDWtJ06S/lu454J5JHmSMMxXZt+4oAxuPQfWq2s6zqNq/iFbSVQ1lZQy2wZRhXbfnPHP3RV6Tw60tnbRyavftd2jlob/8AdCVQRgqQIwhGOMFT2PXmmR+FbYJqP2i9vbmXUo0juJZXXcducFQFCr16AY9uuROO7/rUdmUdU1O/0y5sdMnv7hprpZZ5rq208zNGq7RsjRFbHLD5mDYA5ySKueHdTu7q7u7S4+2XEMCo8N5dWL2zSbs5UhlUEjGcqAMMOPXQ1LSk1FoZVuJ7S5gJ8q5tyu9M9RhgVIPHBBHAPUA0abpKac00r3VxeXM5Hm3FwV3MB0GFAUAZPAA6k9aTceXzCzuY5gv7vxnq0NpemxhFtbM0sSK8pb95gAOCoH1BzntVS68S6hYo+m3Em+8W/Fp9rhtHlJjMXm7/ACkyS23jjjPOMcVtXfh1J9Vm1K11C8sbyaNInltyhyi5wNrqwP3j1GfTHOUTwxZppxtvPuTOZvtJvS488zdPMzjGccYxtxxjHFPmj1FZmOniS700XhY6hqVrDZSXInvdOe1ZHTHyFjGikNnjAyNpzntr29nrsMlvcPqqXZdl+020kKpEqnqYyo3AjtuLZ6cZyJLfw/ErzSald3OqyTQmBmu9mBGeqhUVVAPc4yeOeBUUHhpY5YPtOq6heW1sweG1naPYhH3SSqBnx23MfU5PNDceg7Mr2T6vrQuL+31MWcUc8sVvbLCjowRimZCfmOSpOFK4GO9V/D+t6leyaCt7Kpa7sbiW4CqMF0dAMHHQbjWi/htRdzyWmqX9nBcuXntYGj8t2P3iCyFkz32sOeeDzTE8KWtvpdhZ2F3d2b6cpW2uYmQyKp6qdylWB44K9geozReIWZW1DU9WW71qHTgZGtRbGNVjDMivnzGUfxMFBIB7j8KqN4juLDRb2eLUTqRSSGKL7RaslzC8jbf3sKopIGQQAoJ5HvWrD4WgiW9ZtQ1CS4vTG8ly0qhw8f3WXChR9MbT6cnLo/DNu0d3/aF3dahNdokbzzFEdVQkoF8tVC4JJBAznv0ovEVmZ2naveprNpbrcanqMFyzLMbvSZLcW5Ckhg/lqu3Ixhsn5hzxzrarLIuraVBE4QTySqX2KWXETEEZBwciktNCMN9HdXuqXuoyQA+QLnywsWRgkCNFyccZOe+MZNXbixiuby0uXZw9qzMgBGCWUqc/galtXGk7GN4KtLi20PdPqNxdh5ZQqypGAmJXyRsUHn3z7YqKK01C78Ta4trqT2ESyQkNDEjuz+UvB3gjbjHAGTnqK19L0gaS06xXtzNBK5dLebYVgLMWYKQobBJP3ifbFT29jFbXl3cozl7plZwSMAqoUY/AU3LVsLaI5221rU9TttNsop4ra8uXuEuLlI8hRC2xiitkZY4xnIAz1p0lzr1hrkmnx3aaiP7NlnthLGqO8qsoAcqAO/bb16cZq+/hi1+wxwQXN1byw3ElxDdRMvmRvIzM2MqVI+YjBBGMd+aSLwvbi9kvLu+vby6ltmtXllkVSUYg8BFUKRjgrjrzk807xFZlXw/qNzPqAhn1WS4ZoS8trfWv2eeJwQMou1d0fJGfm7YY1oXF7PZ+JYIZ5B9iu4GEeQB5cqfMRnr8ykn/AIAfWksdB+y6gl5daleahLFG0UJufLAiVsbsbEXJO0ctk8fXM2t6Lb67p32O6kmiXeHWSBgrqR6HBxkEg+xNJuNx62Ocl8SXxt7LM00S6rLNNFJBZtcPDbLjbtRFJLMCpywIG4+wpJNf1SDStYW2e7uDbWomtb29097YlySCjBkVWxgHKgcHkcZPSX2jw3kFukcstnLanNvPbkB4uMcAgqRjjBBHtwKrDw3C9peRXt7d3k14gjluZSgfYM4VQqhQBk9F785pqURWZD5+paVq2nJqN79rt70vDIfKVBHNjcmMchSAy8knOOauaHeT6jDc3kj5t5Z2FquBxGvyhs99xBb6EVX8XWr3/h57KBJWnuZY44nizmFt4PmZHTbjdn2x3rWtreK0tIraBQkUKBEUdgBgVLa5bjW5ytha6tLb6tPZap9jEN9cmCNYEdZCGJ/ebgSRnjCleO9Pk8SutvDq3koUbRHvfKwM7soQNx5A5robbTorSC4ijZytxLJKxYjILkk446c1Ti8PWdrZxRIslytvYGxWKVhiSPjhuOp2gZ6cninzJvULMytWPiHSdCOojWEnnLxedC1ugiQM6hvLwNw6/wARbPt1D7e01G88Q66LXUnsIluIyphiR2dvJT728EbenAAPXmsWezOp6ZBpkc3iGaUyxbLO+tisdrsdSS0ojXeFAOCXbdxjJ5ruraxitbq7uI2cvdyCRwxGAQoXj8FFU3yr+vIS1K3h/UJtT0OC5ugnn5eOXywQpZGKEgHoCVzWlVTTdOi0uyFrbs7IJHky5BOXcsegHdjVusna+hS2CiiikMKKKKACiiigAooooAKKKKACiiigAooooAKKKKACiiigAooooAKKKKACiq7X9mjhHu4FYy+SFMgBMmM7Ov3sc461YoAKKKbJLHCoaWRUBYKCxxkk4A+pNADqKihuYLhpBbzxymJzHIEcNsYdVOOh5HFS0AFFFFABRRRQAUUUUAFFFFABRRRQAUUUUAFFFFABRRRQAUUUUAFFFFABRRRQAUUUUAFFFFABRRRQAUUUUAFFFFABRRRQAUUUUAFFFFABRRRQAUUUUAFFFFABRRRQAUUUUAFFFFABRRRQAUUUUAFFFFABRRRQAUUUUAFFFFABRRRQAUUUUAFFFFABRRRQAUUUUAFFFFABRRRQAUUUUAFFFFABRRRQAUUUUAFFFFABRRRQAUUUUAFMmkEMEkrAkIpYgewp9BAIIIyD1BoA5uxGvX2mWurw6nH5twiTCxaJRAEbB27gC+7afvZIz/DjinwPqms3l7Nb6kbC3tbhreGKOFH8wpwzSFgTjOcBSpwOvPD18KQrGtqdSvzpqsCunFo/KAByF3bN+3P8O7HbpxU0/h7dfzXVjql9p4uCGuIbcxlJWAA3fOjFTgAZUj8+a0uibMxLXVtdvdM0lBdwxXd1qNzb3EoiDKqIZcbR6/IMfrnnOkralqerXVlb6pJZwacI43ljijaWeQqGJbcpULgjgKDnPIFWtP8ADVlpttZQWzz+XZTyTxB3DEmTdkE4yR859+mSade6F9p1A31lqV5ptxIgSVrXyyJQM43LIjDIyeQAfwpuUb6BZnPaVNeW93cJdNC80mv+XIyR/Kw8gHIBztPAPXjkZq5C+u39jqF7Hq32drW5uFt4RboyOqOQBJkbj0x8pU49TWjZ+F7KxAEUtyx+2/biZJAxaQptOTjoev19uKu22mw2tnPbRtIUnkkkYsRkF2JOOPfihyXQEmYttqV/4ju44rG8bTbdbKG5keJEeV2lBIUbwQFAU5+XJz2xzRlu9Sma+tdUnjn+x6xZxwvGm3KExNyPXJOefpjoNg+F4oktDp2oXthNa2623nwGMtLGvQOHRlOOSDgEZOOCRS23hSytluMT3Uj3N3FdyySSAs0ibcHp0OwZH5YGMHNFCszG1dLrUI5FjvpbPyddijBgijyR+7wTuU5IJJz+ea1l1GfSdZmtdVu2mtWs/tEM8iqpzHxKDtAHdW/E9hVm68P29zaXMK3NzA090LsTRMu+KQbcFcqR/COCD3qh4g0htSOi6dKbi5KXAkmumAB8tFO4MVAX58hcYAOTxxQmnoFmjV0SS8n0eCfUci4nBlKEAeWGOVTj0BA/Cr9Qi3YXzXH2iYqYwnkZHljBJ3AYznnHXHHSpqze5aCiiikAUUUUAFFFFABRRRQAUUUUAFFFFABRRRQAUUUUAFFFFABRRRQAUUUUAFFFFABRRRQAUUUUAFFFFABRRRQAUUUUAFFFFABRRRQAUUUUAFFFFABRRRQAUUUUAFFFFABRRRQAUUUUAFFFFABRRRQAUUUUAFFFFABRRRQAUUUUAFFFFABRRRQAUUUUAFFFFABRRRQAUUUUAFFFFABRRRQAUUUUAFFFFABRRRQAUUUUAFFFFABRRRQAUUUUAFFFFABRRRQAUUUUAFFFFABRRRQAUUUUAFFFFABRRRQAUUUUAFFFFABRRRQAUUUUAFFFFABRRRQAUUUUAFFFFABRRRQAUUUUAFFFFABRRRQAUUUUAFFFFABRRRQAUUUUAFFFFABRRRQAUUUUAFFFFABRRRQAUUUUAFFFFABRRRQAUUUUAFFFFABRRRQAUUUUAFFFFABRRRQAUUUUAFFFFABRRRQAUUUUAFFFFABRRRQAUUUUAFFFFABRRRQAVDd3ltYWr3N9cxW1vGMvLM4RFHuTwKmrjvih4LuvHfhAaXYXkdrcR3KXCGXOx8BhtbGSB82eh5AqopOSTdkJtpaHV2d5a6haJdWFzDdW8gyk0MgdGHsRwalJwpPoK5D4YeDLrwL4OGlX93HdXD3DzuYs7ELBRtXIBI+XPQck117fcP0okkpNJ3QJtrU5m28S6p/Z9pqd/pdpHp900a74bxnlTzGCqShjAPJGcNx71p3PiXSbS7e3nu8NEdsrrE7Rwnrh3AKocEH5iOtZfhvwvaR6Pps16l808UaSeRc3czRo4/6ZM20EHpxx2xWSlvd6Zb3un3F7r4mknneOC0sIpYpxI7MMSGBgMhsHewxznjFacsW9P6/Mm7SOvutc06zvksp7nFzIqskKIzswJIBAAORwcnt3xWVoPilNVj1O+upVtbG1ldF861lh2KjFSzSPhWzjOABt6HmnaJpb2GtKrQyhYdKt7dZJDu5Vnyu/ABPTOAO3FUU068fwrOgtJHki1eS6Nuy7WmjW6L4GcZyvI7HilaOwXZv2GvadqVwbe2mcTbS4jmheJnUdWUOBuHI5GRyKij8UaNLay3Md8pt4dvmTbGCIWOAC2MZz1HUd8VQlvBr+taUdPtL2NbKdp5p7mzktwo8tl2DzFUsSWHTIAHPbNddNl/4V5Y2RtJN/mQGSHyzuH75WbI6+pNLlXUd2ay+KdIYuDdMjINwSSCRGkGcAorKC4yQMrnqKuafqlnqkTvZSlvLbZIjxtG8bdcMjAMpwQeR3qhqtq83ifQp1gaRYHnLSBMiPMZAye2TS2cEyeM9UmMTrDJaWwWQqQrMGlyAehIBH5ik0rBd3LWoa3YaZMkN1M/nSDcsMMLyvt/vbUBIHvjFSafqtjqqSvp1ylwkT+W7JyA2AcZ78EVjyXI0PxPf3V7aXcsF8kXlXFtayXG3YCDGwjDFf7wOMHce9L4UjmFxrk81hLZLcaiZY0lTaXUxRjd+JB/HIPOaHFWuF9SxbeJrS41680sw3KPakDzDbS7G+Uk/Ns2jpxzz2qaDxJpFzYS30N8htIQC85BVOegDEYJ7YHIPHWqYma38Tapby211m9iRoJEtneNtqEEFwCqn2YjORjNUzYT2/g7w+Y7KSQacbeWa0VDvKqmDhe7KTux1yvrT5YhdmvbeJNLu7mK2huGS5mJEcM0EkTtgE52soOMA89Dio4fENpb6bZyaneQvPdRs8f2eGTE2DzsTlieRxyazbi9Gs+KNCuLLTr0w20sxluZ7OSHy8xMAuHUNgnHOMZAHWjRbCdJvDrz2sqm3sp1YvGR5bEx4B9CRn9afKrf15hdnQafqlnqsDS2MpcI2x1ZGR429GVgCp5BwQOtUU8S2zeKJ9EMFyJYo42EotpShLbuN2zaANv3s4OcdjS2MM0fi7VpGidYZYLcq5UhXYbwcHuQNufwqCSRrbxlcLJDdBb6ziihnjt3kjDq0hIZlBCcMOWIB7VNldhdlr/hJtI+2fZvtfzeZ5XmeW/lb842ebjZuzxjOc8U688RaXYXZtrq5KyJjzCsTskWem9wCqZ/2iK4yKwu18NroFxd+IXuRCLZ7SOziWFuxInMBUL3yWLf8AAuK0taEljeX39nxakt1OgxbGyNza37bAo3kKdnTacsnTJBFXyK4uZm3b+JbW48SXWjiG5EsATEn2aXYxIYn5tm0D5eDnBzxVzUdWs9LWP7ZI4aUkRxxRNLI+OuEQFjjvxxWbaTNaeLbmO5tbhPtlvB5Tx27vECgfcpdQVXGR94jOeM0niRY0ubO6b+0reSIOqXunwee0eduUaPY+VbA52nG3qOKmyukO7sX38QaUlpb3T3sYhuSRE/OGIzkfXgjHXPHWoH8R2c+mahNp8ha4s7dpjBPE8TjCkglGAbaSOuOea56Sa5H/AAjt3faZvdL+4lKRW5jcp5cmJfKPIcg7ivXk8Z4qxqTya9eXF3p1leLDbaXcwNJPayQtM8gXaio6hmxtJzjGSAMnOHyIV2aV94ibTLW7vLgxyxW9glz9mhhkMu47upAI2nGOnGCTxWrpuow6pZLc26zKjdpoXiYH6OAfxxXPXdhdzLqiR28haXRI4U+XAZ/3nygnjPI4963tIvY7/TIpYoriIAbCtzbvC4IHPyuAce/Q9qUkraDTdy7RRRWZQUUUUAFFFFABRRRQAUUUUAFFFFABRRRQAUUUUAFFFFABRRRQAUUUUAFFFFABRRRQAUUUUAFFFFABRRRQAUUUUAFFFFABRRRQAUUUUAFFFFABRRRQAUUUUAFFFFABRRRQAUUUUAFFFFABRRRQAUUUUAFFFFABRRRQAUUUUAFFFFABRRRQAUUUUAFFFFABRRRQAUUUUAFFFFABRRRQAUUUUAFFFFABRRRQAUUUUAFFFFABRRRQAUUUUAFFFFABRRRQBWuLGO5vbS5dmD2rMyAdCWUqc/gas0UUAFFFFABRRRQAUUUUAFFFFABRRRQAUUUUAFFFFABRRRQAUUUUAFFFFABRRRQAUUUUAFFFFABRRRQAUUUUAFFFFABRRRQAUUUUAFFFFABRRRQAUUUUAFFFFABRRRQAUUUUAFFFFABRRRQAUUUUAFFFFABRRRQAUUUUAFFFFABRRRQAUUUUAFFFFABRRRQAUUUUAFFFFABRRRQAUUVx3xP8a3XgTwgNUsbNLq4kuFt0EudiEhjubGCR8uOo5IqoxcmkhNpK7Oxorj/hh4zuvHXg8arf2kdrcJcNA4izscqFO5ckkD5sdTyDXWTu0VtJIi7mRCwHqQKJRcZcrBNNXQ8uqsFZgC3QE8mlrmNC0DSdU8O2t9qlhbX91fwJNcXFxEsjuzDdjJ6AE8AcDtT72K/00aNpOkahIFmmkjknuQJnWMRswwT1IwACc++ecvlV7XC50lFcfc63czaveWQ1DUrWOwZIQ9ppT3DTPsVizsI2UD5gNowepzyKlttZ1bV106xUtptzOk8k87WxR9kThAUjkGV3Fg3zA4Hr1o5GLmR1dFcffNq4u9V0m51QvAulGaGdYkEu7cwO75dpOBjgAYPQEZpr6heaLoui2I1C7mkvkybn7F58kMaxgkKkScnkAEggZOc8CnyeYcx2VFc9oGp3c+pz2UrX13bLEJY7u7097Zg2cFDlEVj0IKgcZz61JdTahqXiCfTbK+bT4LSCOSWWKNHlkZy2AN4ICgKc8EnPUY5nld7DubtFYfh+71KbUdYtdUnjn+x3KRwvGm3KGJW5HrknPP0x0EIfVtS8QapZxaibK0tTFseGNGlJZASPnUgD8CTnqMcnLqFzoqK5F9X1mRIbCK5gS9j1T7FNceTlXTyjIG2k8HBXjPUenFJe6xdDWJtLOo6jAllFHvuLTTGuJJ5GGcsVjZFGMcYBJPYDl8jFzI6+iuQTW9ZuoNLiiH2aae/ktpJbi1eLzI1jdhII3AYE4HHqD1FXHudS0fVEs7m/a/huraaSKWWJFkikjAODsAUqQfTIx1OeDkYcx0dFcna3+tjRNIM99E9/rBjG8wqI7YeUXYqo5Y4U9TjJzgDiprnUr7w3dGO/u31O2e0muEeSNElRogCVOwBSpB44BBHfPByPYOY6aisG2ttf8u2vTqkc8khRp7N4lWEKfvBGA3ggdCSQcdBnjHPiK8v3u7iG91C1MM8sUFvBo0s8T7GK5kcRndkgn5GXAOOooUG9gudtRXIXmsanMLKe5kvNEtJrNJS8Vn5pSY53JLlG2KBjkhep+YdKl1DUtS26e8t89tZy2oeS+0y2+0o0vHqrbY8ZOcf8CHc5GHMjpTcwLdLatPGLh0LrEXG9lBAJA64BI596lrlJ9Wu1hinFzaTS/wBjXFwLi2UMjuuzDKTzg5zjp9cU9rjWNOtdO1O81P7QLiWGK4tDAgjXzCFyhA3AgsOpIPPA7HIFzqKK562fVdauLu5ttT+wwW9w8EEKQo4codpaQsCcFgeFK8d89LPhe+u9Q8PR3OpMjXPmzK5QYX5ZGUAe2BScbK40zYpoljMxiEimRVDFM8gHocenB/KuYt59b1DRDrtvqSQl0aaCx8lDCUGSodsb9xHUhgAT0OOYoJrvWfEom0+5NhFc6TbzPIFVpVyzlVUMCvc5JB6dOch8guY6qe4htkD3M0cKswQNIwUFicAc9ySABUlchearqFoJ9Pup47ma2vbMLcGFQZIpZQPmXGAwwwyAOxAFRy6/dX17emK+1CyW2uHghjttHluEcocEyOI2yCQeEKkDvno+RhzI7OiuYtdU1PXZLW1R5NHc2S3N0fJHmqzMVCqsgO0fKxO5SenSoNdsdXfT7OG71Vo2j1OARXFvHHulQsuC6shAYHP3eDjOO1Lk1s2FzrqKoahbzHw/cQC9mEogI+0hU3kgdcbduT9MVgafJqNh4c0GwttRea41BY1W4uY0PkIItxCqoUE4XAznrk5xiko3Q7nXUVh2s99p2vwaZe3rahFdQPLFNJGqSIyFdwbYApBDjHAIweueE1S41KTxNZabYXS20E9rNLLJsVnXayAFQRjPzHrkexo5dQubtFcjqOqavo9tq9kbtbu4t7IXVpcyRqrHJKlXAG04IHIA4PTjJfqmp3+mXNjpk9/cNNdLLPNdW2nmZo1XaNkaIrY5YfMwbAHOSRT5GLmOrori5PEGqwaTqYgNzO1t5DW15e2L2pk3yBWRgyKCR/eUAYYcZHOleSaroktrd3Gp/bYZ7iOCe3eBEVPMYKDGVGRhiOGLcd6ORhzHRUVzdlJrGsQzalBqYtEEssdvaCFHjIRiuZCfmJJUn5SuMgc45o6VqeuavHoMf25Lc3enPcXciRKzFgyAbcjA+8ecEY7ehyeYcx2VFcZJr91e3t6Yr7ULJbad4IY7bR5bhHKHBMjiNs5IPCFcDvnp0el3VxqmgW9xPFLY3M8OXQoVaJiP7rjj1AI+opOLW407l6SWOIKZZFQMwVdxxknoPrTq4C3tL+38F6cYtSkupZNQgEX2mOPbF+/5ICKpPrgnt2rblv77QNU8q+vpNRtpbOa5HmxokkbRbSQCgAKkN3GRjqc1Th2YuY6SiuGh8Ral9kt9QWfUrueUo0mnjRZlh2sRkI/lbgQD95mIOOgzx02v39xp+mBrIR/aZ5o7eJpRlEZ2ChiMjIGc4yM4xScGnYd0aEk0UTIJZEQyNtQMwG5sZwPU4B/Kn1yOq2epWereHxcam1/C2ojf58SI6N5UmNuwAY9iCfep7SXWtV0t9Zt9TW3Dh2t7PyUaLYCQu843FiByQwAz0OOTk0vcVzp6K4izXUNYv/DF/Jq1zbyz6W8kghji2lv3Rb7yHrn9OMVqWT6vrQuL+31MWcUc8sVvbLCjowRimZCfmOSpOFK4GO9DhbqFzo6K4uHWNZufDmjXVzPcQR3Ebm9urC1E8iODhQE2NhTzltpxgdOtOn8R3Qj02zXUPMN0s0j3+nWb3LFEYKMIqsFc7hkkEAgjHIw/ZsOZHZUVwep3t/qPhrW7J7rUBFbwpJFfTaebd5Qcho2EkYUkYzlQOGHTv2dvbTQ2PkS301xLgj7RIqB+ehwqhePpUuNkNO46C+tLqaeK1uoZpLdtkyRyBjE3XDAdD7Gp64bw/JfaX4Rsora+ae51G+eGOS5jTbCS8jM2EC7jhSeT1I7VsPcajo2pW1rdag+oQXqSBHmiRZIpFUt/AACpAPbIOOTninDWyEmdDRWN4WfUbnQrW+1e7E811BHJsSNUSPK5wMck88knHoBWTZySaf491O5Z2+y3txHayKeiSCFGjb2zll+pWly6tdh3Ovorhm1Bl8Xz+IJCz20WnXaW8YPDRxNHlh7s27n0C1a1STxFp/hWfWF1dHuRAJWtzbp5MYPXYcbsj1YsDjoM8Pk21FzHX00yxrKsTSKJHBKoTywGMkD2yPzrBWTUdZ1K+jtdSfToLGRYV8mKN3kfYrksXBG35gAAAeCc88VbuLV5td0WGa4htrs21yJ57dNwwDHygbgE8cHcBk9etJR8x3OluLmC0hM13PHBECAXlcKoJOByfUkCpa5O51C/tINT0+7uVvJLSS1aKeSFQzRySAYcAbSRhuQB1HGRViEazquo6skWrNZRWl0I7YRQRsW/dox37gcrlugwevPTByCudJRXGS+Krm7ttHiDz2b3tq89xNZ2T3LrtKqVRQrYyzdWBGBjqcjW8O6ld3dxeWtyLuaKDY0N3c2T2zShs5UqyqCwI6qAMMOKHBpXGpI3c80VkaV/yMGuf9dov/RK1zw8R3t8Lm7gvNQtmimljt7WHRppoXCMVG9xGS2SpPyMuM45xkig2FzuKK5mC/1PX71LeCeXRkis4bicCJWn3yZwmHBChdpzlckntjmlLq2vwx6rb/a7d7m31K2toJfJ+Xy5BHksvr8xzz9COwoMXMdnUU9zBaor3U8cKs4RWkcKCxOABnuTwBWDONYOu2elRas6RNZySz3Ihj8wsHULtBXaPvEcg8D15qudSvo4Lizu5kuZrPVLaDz2iUGRHMbAlcYDYYjIA6ZGKFALnV0VzUI1vVLvVjHqxs47S6MVsscEbBgEQ/vNwJIyTwNp9+mIrLV9Q8RGxgtLkad5lgl3cyxIrvliQFTeCAMq2SQe31o5GO51VFYOjXWpf8JFqmn6jdJcx20UDQusYQkNvyWx3+UdOOMgDOK3qlqzBO4UUUUhhRRRQAUUUUAFFFFABRRRQAUUUUAFFFFABRRRQAUUUUAFFFFABRRRQAVDeWdrqFo9rf20N1byDDxTRh0b6g8GpqKAIbOztdPtEtbC2htbeMYSGGMIij2A4FTUUUAYjeGvLZ007WNR0+2dixtbdoigJOTtLxsy59FIA7Yq1BodlarYJaq0SWBYxKGzkspBLE5JJ3E5zknk1o0VXMxWRlXmhGa9kurHU73TZZgBN9m8siXAwCRIjAHHGRg9M5wKZL4atTZ2kNpcXNlNZljDdQuDKC338lwwbd1IYHnnqBWxRRzMLIxrXwzbwX1xe3F3d3tzdW32aaSdl+dMkjhVAXqegA/HmkTw0q6bDavql/JJbPutbpjGJYPl2gDCBWGMj5g2c85raoo5mFkZ2naQLCeW5nvLm+upVCNPclMhRkhQEVVA5PQZPfNM1DQxeXy31rf3enXYTy2ltdh8xM5CsrqynBJIOMjJ55NalFK7vcLGbpGhW+jSXksE080l7KJp3ncMWcKFz0GMhRx0HbA4rMXRZ7nxFrF1De3umyO8SrPbqh81BEvGJEZTg55xkc89RXS0U+ZhZGVbeHrS1htUSSd2t7g3RldwXmkKsCznHOdx6YxgAYAxS32ifar03lnqF3ptw6BJJLbyz5ijOAyyIw4ycEAH3xxWpRS5mFkcxqPh6JX0W0g+0lY7ySZ7kMTIrmNz5hbGM7j6Y5xjHFaFr4eSK5kub3ULzUbl4jCktz5YMSHqFCIqjOAScEnA5xxWvRT5mFkZs2h202kW1gZJkFoE8idGAkjZBgMDjGcdeMHJBGDio7TQI4bmS41C9udUneIwh7sR4SM/eUKiqvOBk4ycdcVrUUuZhZGHD4XSMwxS6pf3FlbsrRWUrR+Wu05UFggdgMDAZj05zTp/DYkmnNrqt/ZW9yxea2t2j2OT94gshZM99rDueDzW1RT5mFkZFzoAcxHTtSvdMEcIg22pRlZB0G2RGAIyeRg+uaa3hxIre1i0vUb3TRbQiBTbsjbkHQMJFYZ75xn3xxWzRRzMLIx18M2KWqW8bTKiWktp94ElZCCzHI+9kZz05PFW7zSoL2wgtJXkEcEkUilSMkxsGXPHqozV2ilzMLI5C/EVlrV6fO17TklYSNHYWpuIbrgZYEROUbsQCp4z71reEtPk0vwxa2s0TQsC7+Uxy0YZ2YKTk5IBAPJ5rZoqnK6sCWpgy+FY3WS3j1TUINPlLGSwjeMRsGJLKGKGRQcnhWHtgVPd+HYZ9QF/a3l1YXSwLbpJbFMKiknG1lZTnPcHoMYrXopczCyOS1XSVsbW2tIDe399e6jbzzXMkZdnEciEl2VQiAKvA+UegzWrceHjJdTS2Wq3+npcNunhtjHtkbABPzoxUkDnaR69ea2KKOZhYyJvDtuVtTp1zcabLaxeTHNbFS3l8fIwdWDDgHkZz0PJpjeGbdtMktTeXnnyzrcPfbl84yqRtf7uzjaBjbtx2raoo5mFkQx25FkLeeaS4+TY8kgUM/GCTtAGT7ACsqLwzEmkxWMmo3032Zw9pO5jEttgbVClUAIAyPmDZBIOa26KSbQWMzT9EFnete3V9dajdlPLWa62AomclVVFVRk4JOMnAyeBVLVdLe/8V2UqSXNsYbOYJdQAZjYvHx8wKnIzwQRx04roKKak73Cxip4YtzaXsd3eXd5PfIEmupigkKjO1QFUKoGTwF7knJq3qWlJqLQyrcT2lzAT5Vzbld6Z6jDAqQeOCCOAeoBq/RRzMLI5jV/D6x+Hr2NpLrUrm7khE8s2C7qJF4wgAAAz0A7n3q9H4cH22Ca91S/vorZ98FvcNHsjYcBvlQMxGeNxPr15rZoo5nYLIxH8NKLic2uqX9pa3Ll5rOFo/LZm+8QShdM99rDnkYOam0vw9Z6Slilq8pWxtTaxB2ByhKnnjr8orVoo5mFkY9x4eMl1NLZarf6elw26eG2Me2RsAE/OjFSQOdpHr15rTtLWGys4rW2TZDCgRFznAHTk1LRSbbCxjW3huK3i8g395LbpcrcQwyGPbCVbdtUhAxUk/wARJ9CKu3GmQXWpW97KWLwRyRKnG1lfbnIx/sj9auUUczCxhx+F408qF9Tv5bCFlaOwdo/LXaQVG4JvIBA4LH3yK09R0+31SwktLsMY3wcoxVlIOQykdCCAQfarNFHMwsjCXwusl7ZXWo6tqGoS2Mvm25nMShTtKnIRFByG6nn0I5yN4Wj3TxQ6pqEFjcMzSWMTRiMlslsMULqCSThWA9Mc1u0U+ZhZGL/wjMMVppkNlfXlo2mRCGKWIxlnjwoKsGQqQdo6AHjgih/Dai7nktNUv7OC5cvPawNH5bsfvEFkLJnvtYc88HmtqijmYWRiReGIrTS7Ky0zUL2x+woY4pYmRmKnqGDKVPbnbkY4PWlHhi3js4Y7e8u4LqGR5FvUZPNLOcuSCpQhj1G3HTAGBjaoo5mFkY6+G7drC9t7y6uruW+TZPcysokIAwANqhVAycAAepzWhY20tpZpDPeT3rrnM9wEDt9diqv5CrFFJtsLGUPD1mNETTN83lxSGWOUPiSN9xYMCB1BPp04OeabaaAIro3V9qV5qVwI2ijkufLHlK2N21Y0VcnA5IJ/DiteinzMLIgsbSOw0+3s4SzR28axqXOSQowM+9Urzw/aXttqMMskyjUGV3ZHAaNlVQrIccEbQQeea1KKV3e4WM5NDso5LUohCWtq9qkXG0xttzkY5+4PzNZk3gyG5059NuNX1OTTiu2O1aSPbGB93DbN5xjgMx988V0lFNSaCyMi60Dzb2S6sNTvdNlmAE/2byyJcDAJEiMAwHGRg4xnOBia00OzspLN7fzF+yRyRoGfdu3kFmYnkklc5z3NaNFLmYWRmXWg2t3c3c0kkwa7EIcKwwPKYsuOPU8/0q1aWMVnNdSRM5N1N5z7iMA7VXj2woqzRRdhYxR4Zt4rCzgs7u6tZrIMsN1EyGQKxyyncpVgeOCvYHqM1c0zSk07zpGuZ7u5nIMtxcFd74GAMKAoA9AAOvcmr1FDk2FkY82gTNrEt/aa3qFkJ2RpbeFYGjcqAOd8TMMgAHDD8KZP4aWSSZbbVL+ztbhmea0gaMIxb72CULrnvtYdSRg81t0U+ZhZGRdeHopLiG40+8utLniiEG+02HfGOisrqynHODjIyeeTUdt4UsrZbjE91I9zdxXcskkgLNIm3B6dDsGR+WBjG3RRzMLIrGxiOqJfln81IWhAyNu0sCfxyoqpJoFrJPcytJNuubmK5cBhgNHt2gcdPkGfxrUopXYWK1rYRWbXTRs5+1TGZ9xHBKgccdPlFc5qOl2+jR6XHbPq1uttEYFv7GMTuq5BCSR7GBU9d23gjqM11lFNSaYNHM+FbJl1TVNSX7a0V0IkWa+jMcs7IG3OUIXaPmAA2qPl4GMZ6aiilJ3dwSsFFFFIYUUUUAFFFFABRRRQAUUUUAFFFFABRRRQAUUUUAFFFFABRRRQAUUUUAFFFQ3d5bWFq9zfXMVtbxjLyzOERR7k8CgCaiobO8tdQtEurC5hureQZSaGQOjD2I4NTE4Un0oAKKyfDWvR+ItFS+SE277ikkLNkoR74Gcggj2IqDS/FdnqFnqV5OBZ2ljdGATSvxKoCkOOOAd3A5zx61XK9RXRu0Vl2viTSru6itorh0uJiRHDNBJFI2ATna6g4wDzjHFM0vXobqy003bol5fxl0hjUnOOp74A45PHIHejlYXRr0VlL4m0h7wWy3eWMnlCXyn8ovnGwS42bs8YznPFX7u7t7C0e5vJVhhjGWdjwP8APpSsx3JqKzIvEely2dxci4eNLbHnLLC8bxg9CUZQ2D2OOauXF5b2stvHPJse5k8qIYJ3NtLY/JSfwoswuT0VnW/iDS7t7hbe8RvswYztghYtpwwZiMAjHQnOOelJY+INN1G5Fvazt5jKWQSQvH5qjqULABx7rkc0cr7CujSoqB723ivobOSTbPMjPGhB+YLjdz04yOKin1awtjc/aLpIhaBTMz8BN33Rnpk+nXkeoosx3LlFZ1nr2nX5lWCZ1kiTzHimheJwv97a4BI9wMVM2q2S6ZFqDTgWswQpJtPzbyAvGM8kj86LMV0W6KoDWtPOqnTVuN14pw0KoxK/LuycDgYI5PGeOtOuLt4dWtoPOhWJ4pHeNkYyNt28qQcADPIIycjHeizC5dorHh8WaJO0fl3w8uUZjnaN1iY4zgSEbd3X5c54PFWLLXdO1C5a3tpn85V3hJYXjLr/AHl3Abl6cjI5FHK+wXRoUVjf8JbomEb7b+6cD995T+UmegZ9u1DyOGIPIrSW8t3vpLNZAbiONZWTB4ViQDnp1U/lQ01uguieisPVPFdjpgiO2e43Xf2R/Jt5H8tsZP3VPTI479qtXXiHTbPyBPLL5k6eYkKW8jy7f7xjVSyj3IGKfK+wXRpUVz+oeMtLtNO+2WrvfRi6jtm+zRPJtZyv91T0DA+5461dg1VZr5j9oiS0FoJ9ksLxSpliNzbsALgdCARijldrhdGnRWZZeI9L1C5W3trkmSQExeZE8YmA5JRmADjHOVJ4qKfxVo1tJKkt2f3LlJmWF2WEg4PmMFIQe7ECjlfYLo2KKQMGUMpBUjIIPBrLi8TaRNdrbx3mS7+WknluInfONqyY2Mc8YBzSSbHc1aK5+y8QyX/jK80uIGO3skCuHs5cyORnIkOEUAY45LduBzo3+t6fps6QXc5WeRC8cKRtI8gBAO1VBLdeg5puLvYV0X6Kx28V6MIFmW7aRTncIoJHaLBwd6qpKYIIO4DGDVg6iralAI7u1NpLavP0JZgCuHD527cNz9R70uVhdGhRWZY+ItL1GYxWtyS2wyL5kTxiRB1ZCwAdeRyuRyPWm2viPTdQd4rG6zKY2kjMkLqsij+JCQA6jI5UnqPWjlfYLo1aKxk8RWVtY2R1C7je5ubcTKttBI3nDAyUQAsRz05OKtRa5psulvqK3ka2kZIkkkynlkcEMDgqc9iM0crC6L9FZVt4l0q6uYbaO4dJ52KxwzQSRO2ATkK6g4wp56cdavPe28d9FZvJtnmRnjQg/MFxnnpxuHFDTQXRPRVKfWNPtTdC4ukiFoqtOXyAm77vPTJ9OvI9RUFr4k0q7uoraK4dLiYkRwzQSRSNgE52uoOMA84xxRZ9gujUorK0fWo7+ysDcsiXd5A0yxIDghSAxH03Dv3q2+p2UT3Sy3KR/Y0D3Bc7VjUgkEk8YwDQ0wuWqKzrHXtO1G4MFtO4l2lwk0LxF1HVlDgbl5HIyORTbLxFpeoXYtrS5Lu4JjJidUlA6lHICvj/AGSaOV9gujToqtfaha6bbeffTLFHuCjOSWY9FUDkk+g5qOx1iw1KOVrWc5h/1qSo0Tx9wWRwGH4iiztcdy7RWXaeJNKvrpLe2uiXl/1LNE6JNxn927AK/HPyk8Uk/iXSbe7a3luyCj7JJBE5ijb+60gGxT04JB5o5X2FdGrRUMV5BNdz20cgaaAKZFwfl3Akfng1Sm8RaTbWyzz3iJG8z26sVb5pEJDKOOuVI9+2aLMdzTorKuvE2lWbqlzcOhMayP8AuJD5Sno0hC/ux1+/jofStQugj3lgEAzuzxj1zQ00FxaKxV8XaG4DC9wjsqxyNC6pMWOB5bFcP1/hJ9elZw8YZ1bWl8uX7JpSFTGLCcvK4VWJ342gfNjGCT97OKahLsLmR1dFZFt4l0+fRY9TmeW2ifau2aCRGLkAhVVlDOeeMA57VLF4g0yaxuLtbgpFajdOJYnjeIYz8yMAw49RzS5X2C6NKiq1lqNrqNsbiykMsIJAkCEBsd1JHzD3GQawV8Zw3Wg6le2lvNHLYmTi5t5UQhHK53MqjnGcA5FNRbC6OnorNtPEOmX16LW3uGMrqWjDxOglA6mNmADj3UmmTeJdJgu2t5bvDI+ySQROYo2/utIBsU9OCQeaXK+wXRq0VV1O/TS9LuL6VHdYIy5WNGYtjthQT+lZ8HizS30q2v7mWS0S4IVVngkjJfbu2gMoLexA57c0KLeqC6Nqis268QabZtCk8splmQSLDHbySSBT/EyKpZR7kCov7dtr0W76TfWskbXYt5GZGcN8m7apHGcYOeR1o5WF0a9FY83ivRoJHWS8OInMcrrC7JCwODvYLhOe7ECtK5uY7WzkuXDNHGhc+WhckewUEn8BRZhdE1FYml+K9P1Dw9Hq0xks4mRC4uInTDMBhVLKN/JwCoOT0q1a69pt3FPJHc+WLZd8y3EbQtGvPzMrgEDg84xwabi10C6NGisceKNMktLmaB5na3i80xG2lV3XsyqVyy57qCKsaHrEOu6VDewRzRCRFZklheMqSAcDeo3DnqBg0nFrWwXRoUVmHxFpY1D7F9pPm+Z5W7yn8vzP7nmY2bv9nOfam3HiXSrWaWKS4d5IX2SpDBJK0ZxnLBVOBz948e9HK+wXRq0Vltq6y3+nR2MkM9tewyyrMp3AhQuCCDgj5qz4vFsME+l2l4HuJb22MxuLOznaPgqBgBW4O7ueMc9aai2F0dJRUN1eQWSI91J5aySLEpwTlmOFHHqTSS31tBdxW00oSaVHdFIPKrjcc9BjIpWYyeisyy8Q6ZqU/kWVyWkZC8ZeJ0WVR1ZCwAccjlSRyKgh8R2cGn2TaleRSXN1D5qC1gkPnYxkomCx6jjk0+V9hXRtUVQi13TJtMk1BbyNbWEkSvJlPLI6hg2Cp6cEZ5qG28S6VdXMNtHcOk87FY4ZoJInbAJyFdQcYU89OOtLlfYLo1aKKKQwooooAKKKKACiiigAooooAKKKKACiiigAooooAKKKKACuO+KHgu68d+EBpdheR2txHcpcIZc7HwGG1sZIHzZ6HkCuxoqoycWmhNJqzOP+GHgy68C+DhpV/dx3Vw9w87mLOxCwUbVyASPlz0HJNde33D9KWiiUnJ8zBKysjhbex1Wx0nT4bC2nVtUtI7W5O0g2rqP9aw7fJuH1VBU82lzWZuZLawlktrLVYZ1t0Q5liW3RMoP4tp5x6pgc12dFVzsXKcpcXo1nxRoVxZademG2lmMtzPZyQ+XmJgFw6hsE45xjIA61T8J6de6TF5F9bTvJqMP7q8MbbrfAOIXGPkUclTwDk5+blu3oo59LBbW551FYXR8Ow6BPd+IXuREtu9otnEkPGASJ/IKhe+dxb/gXFdlr8Ec2hyxzW9xcoCjFbY/vV2sCHX1Kkbsd8dD0rTopOd3cEjiHi1DV9J1m3gS4vV+yoILq8svss8zgljGcqm4DjB2gAsevNXLzVDrOsaD9h0/UdkN6ZLh57KSFYR5Mg5LqM8nGRke/Iz1dFPn8gsci+j3Vx4CvbK2ikhuJLqaUIFCs4+0F8Ddx8w6Z4ORnio7aN9T1jTsXmv3YtZ/OcXtlHbRwkKw5YwKXznGFPfOcdeyopc4cpieKo2i0pdUiGZtKkF2oHVlUESL+KFh9cVmf2fdHRbTU3tXnmkv11G6t1GXKkEKoGeSi7OO5Tjmuj1PT4tUsGs7h3WJ2UuEI+cBgSp9jjB9iat9qFKyC2py80p8R6zZyafbXcMVpHN5txdWklvnem0RgSKrHkhjgYG0d6y5ryd/Bthosel6k1/bPaRTx/Y5AiBJE3MJCNjLgZ+Unj6HHeUU1O3QLGRpNs0Wt63M8LJ51xGVcqRvAhQcHuAcj86bqcE0niGzkSJ2RbO5VmCkgE+XgE+pwfyrZoqebW47HJXOmSH4babYrZOzxrZhoPKJK7ZIy2V9sHP0NaeqwSv4j0WaOJ2SMziR1UkKDHxk9skD8a2qCMgj1p8wWOF0bU44PAVvpf9kXstzNalI4IrR3im3g4JlA2KDnJ3EY5z2zdtxL4a1aCbUorq4ik0yC1M9rbST4ljLZ3KgLDO7g4xwec4rpNOso9N023soWZo4Iwil+pA9as03NXYkjiYjdLp1xfzadexouu/aTF9nZpTFwN4RQWPrgAn2yK0Fv00vxBd391Z3z22oxQtBPDZTSsm1SDG6KpZOuRkDliOtdNRSc79AscMkN0dM1y6/su6gV9ZhulhEJMjxr5JZwo5JwrHAyc5HXirmr2txrb3stjbTNHcaZF5azwvD5hErMYyHAKkjgg46811tFPnDlOXvr8a/JYWen2N/FLDdxTyyXFlJCtuqNlvmcAMTgrhSfvZ6c1d0izaLTtVWS3ZGnvLl8MmPMBYgH3BGK26Kly0sh2MPSLS6l8BWlnJvt7ptOWI+YCrRuY8cjqCDWRc3JvfCi+HbfSr6G/aBLfyzZyLFAwwN/mkeWQuNwIYk4454rs6KalrcLGNpUE0XiPW5JI3CSNBsdlID4jAOD35p0lqzeM7e6MLFUsJUEu04UmRDjPqcdPateilzahYxNEtGg1vxBK9uY1uLxGVymBIPIjGQe4yCPzrH0TT7hLXTY7qwmZE0q4ikiZCuSZEwhJxgkDjNdnRT52FjjdKaZ72G0gh1C+s47eRZI9TsTFJbfKAsaSlVD5+6fvHvux1bpTTi6trOyj1C4tYoZFePUrEo9lhMKscpVQ/8Ad6uSOd2OvaUU+fyFynMaHYzR32iyz20iGHRvKZnQjYxMeVPoeOntVW+sbv7dqlyllLNFDqlvd+SE/wBeixIGK9mIPP1XHWuxqtqFjHqNi9tM8iK+CHifa6EHIYH1BAoU9bhbQ5i/1WHVfE/ht7ayu1SO7lzPc2skBUmB/lAkUMc98DHHrWz4jgl+wxX9pE81zp8ouI44wSzqOHUAdSULAD1xS2mhNFfxXl/qd5qUsCkQi4EarGSMFgI0UFiOMnOBnGMmtak5JNWBLucg+n3a6La6pNZyTXDagNRurVU/eFcEKu3uyLs49U45qS4vRrPijQriy069MNtLMZbmezkh8vMTALh1DYJxzjGQB1rq6KOcLHGWcc+kw+HtQurO6MNvaS286xW7ySRFyhUlFBbHyEHAOMjtzUF7bX2uNr09naX1ujyWUkBeHy3nWM7m2rIMZ4Iww64yMGu6op8/X+u4cpxtrE+qa3YyC616+S0Z5W+3WaWsaEoy45gRnJ3Ywpx3J6ZTRmlh1LTrKxh1B7aFiJLbUrEgWChCB5c+0BucL95yQxwcCuzoo5/IOUxNeSSDUdM1P7PLc29m8nmpDGZHTcmBIEHLY5GACcMcCsjUre48Tz38+mW1xDF/Zklor3UD25uHZgQu1wG2jaeSMfPxnmuyopKVhtXMCPWIdSks7WLRbx5FlVpFurN4Utdv8W9l2sR0GwnOeOOaoWN6NK0J9FvNIvLu8XzE8lbR2iutzE7jLtKANnJ3HjJzXXUUcy7BY5oXP9heI7ya8s7ryL2CDymtLWSdVZAwZD5akjqMEgA1Q0ezupk0mW60+4gZNXvJ2SWPmJW87ax7DO4YPTkV2lFHOKxyOvlrTVLyazXUoLqeEAJFYm6tr0gEAOAp24zg/MnHcgca+rWVzqPg65so4o4bmezKCENhVYr9zI7dq16r3+n2WqWbWmp2cF5bOQWhuIlkRsHIypBHWjm2HY5PXdSGs6FBZWWi6i06XVszxS2MkYtwsyEncy7Wxj+An16c1pW9ncGXxSvkOPtM37ksuBJ/o6LwT1GQR+FSf8IJ4R/6FXRP/BdF/wDE0f8ACCeEf+hV0T/wXRf/ABNVzRtZE2Zj3Pn32m6HfW/9q2iabmO5WOxInjJjC7ljkjO8A8ZVT944PWop7CXUrHW7mNtXvxJpxtke+t1hMpJJKrEIkY49T/eOO9bv/CCeEf8AoVdE/wDBdF/8TR/wgnhH/oVdE/8ABdF/8TT54hZm5GoWNVAwAAAPSuOnV5/DWv6O1ldm5Mlw+w2smyVHkJXa+NrZB6AkjuK6fTdH0zRoGh0fTrSwidt7R2sCxKzYxkhQMnAFXKzUrFWuY2uW8sl7obQQs4hvwzFEzsXypBk+g5Az71yyWd3ZaPPo9zeeIHuG81BbW9jE0M4dmORMYGUBs5JdsjPNehUU1OysJooS2jp4ceyjDPItoYlDNkk7MDJ4yffisS1b+0o/DbpZ3a/Y5isouLWSIxMLdlzhlHGTjcMg9jXVUUlKw7HNm6Gh+JNRnvrS7kivvLeG4trSS4xtXaY2EYYrggkZAB3HvWdptrdvcPMdNntVk18zhGjwRGYcbzjjBPU+px1rtaKfOKxg6XZNHoOqRSW7K09zdtsZDlwztg475GKt6FHMvhXTo7hHScWcaurjDBtgyCD0Oa06KTlcaRwixXV34W0MQpqdrLo0sYu0SzIlGImQmMSIVkALZyobIzjnFTR2Q1S6urmUa3q0CWEsBF7Alr5m8qTGi+VGxPy/eJwPqTjtaKrnFynIaXJdXN7JBD9tvbZbORftGpWBt5oXJGI1Yom8EZzgH7oyTkVseGLoXHh60jMFzBJbQpDKlzbvCQ6qAcbgNw/2hkHsa16KlyuNKxxUpltdTe20231AvLfB3065sTLasDJuaVZguFOMuMucHjbmp9M1SDSNV19rmxu9s2oFlmtbSS48wiKMYIjUlSPfAOeD1x11VrOxjsnuWjZmNzMZn3diQBge3yiq5lbUVjmtG0+8t7rTZZ7SSFXa+mMeM+QJHVlRiOAcHp659KbYmXSofDU93aXmyOze3k8q1klaN28vAZVBYD5TyRgd8V2FFLnuFjG8UW882kxyW0LztbXUFw0cYyzKkgZto7nAPHesyW9/trxTYS2um38lpHZXSySXFrJApZvLwmJApyQDzjHvwa6yihSshtHHaI866jZWlomoT2kMbh49TsSjWOFwqxzFVD/3erkjndjrNoNhNFd6DJPayI0GkyRszxkeWxaP5T6Hg8e1dXRQ5iscdqNhd/2pqdzHZSzww39rdeUqf69VjAbb2Yjg49VA60t/qsOq+J/Db21ldqkd3Lme5tZICpMD/KBIoY574GOPWun1Cxj1Gxe2meRFfBDxPtdCDkMD6ggVStNCaK/ivL/U7zUpYFIhFwI1WMkYLARooLEcZOcDOMZNUpK2oWNaiiisigooooAKKKKACiiigAooooAKKKKACiiigAooooAKKKKACiiigAoopHYIjM3RRk0ALRWBp2t6rqEFlfppULafeEFWjut00aN912UqB6ZAY496sJrlvaW0k2q3tuqm7kt42jRlGQThDnOW4PI4J6VXKxXRr0VkL4p0ho3YTyiRGCm3NtKJ8nJGItu88AnIXsamHiDSv7PjvjexrbSOYxI2VAYZyrZ+6RtOQcYxS5X2C6NGis6y13T9Qne3tpmE6KX8qaF4nK9NwVwCy57jIqta+I7ZdB0++1NxHNeRhlhhjaRnOMkIigscewOKfKwujaorKl1+2OnRXliRcJJcx27DlChZwp3AjIIz0IBps3inRreWRJbs/uXKTMsLskJBwfMYLhB7sQKOV9gujXorMTxFpcl+lotyfMkYojmJxG7DqqyY2M3B4BzwfSkufEel2s0sMlw7ywvtkjhgklZOAckKpIGCOenvS5X2C6NSiqcWrWE/2QwXUcovQTbtGdyyADJwRx0qprfiO00WxvpnDzTWVuJ2gjjdiQchfuqcAlTz2xk0KLbsF0a9FZn/AAkOnLp0d7NJLDHK2yNJLeRZHb+6sZUOx4PQdqcniDS306W++1hIIWCTGRGRomJGA6kBlPI6gdc0cr7BdGjRUFlewaharc2jl4mJCsUK7sdxkDI9D0Pap6QwooooAKKKKACiiigAooooAKKKKACiiigAooooAKKKKACiiigAooooAKKKKACiiigAooooAKKKKACiiigAooooAKKKKACiiigAooooAKKKKACiiigAooooAKKKKACiiigAooooAKKKKACiiigAooooAKKKKACiiigAooooAKKKKACiiigAooooAKKKKACiiigAooooAKKKKACiiigAooooAKKKKACiiigApGyFO0ZOOAT1paKAOJi2i9tTomnanpepNcKbq1EUotApbMpJIEJ4JIZPmJx71bSwneWz8y1lITXZpzmM8LiTa/0yRg+4rq6K05yeUxWtXPjtLvyG2DTWj87ZxnzAdu7174rn9SgmgvJ3ksZJlbxDFNHEVx5ii3UllzweQce4ruqrXljHevbNIzKbaYTJt7kAjB9vmNKM7MGjCkuv7d8QabJYWl5HFYtJJPPc2kkAwyFRGokUFiSQTgEDbzzisiKwvbGLRr6abVLKJNNFtIbK1WaSJ9wOGRo3YA+oHG0ZrvaKanYOU4qCwuJbee8RdTuPtOo2jiS9iVJHVGXL+WsaFABn7wzhc8DFa+m2bR6TrCPbsrXF3cvtZDmQEkA475GK3qKTncEjkpLG4X4eaNbR2sonhNiWiWM7k2yRluOowAc+mDSafqcOk654ge6srorLfArNa2klwXIhj+UiNSQR2yMHPrmuuqtaWMdnNdyRsxN1N5z7ux2quB7YUU+be4WOTgtrvTY9O1a4sbhYUv7m4ktoojJJBHMG2kouSTkgkKCRuPpSXn2nWbvxHLZ6feLFPpCQ27TQNEZnzLkKGAIPI6gdfQg121FHP1DlOO1N5b660vWrWTV7S1gilglMFgfPjZimCYpY2Yr8pGVXPI7Zqs2nS31lqt0Bqt6tybWEPfQLE0qpLk4iWNGAAY8sOfoMnuqKOewcpCblVvktfKm3NGZBIIz5YAIGC3QHngexqaiisygooooAKKKKACiiigAooooAKKKKACiiigAooooAKKKKACiiigAooooAKKKKACiiigAooooAKKKKACiiigAooooAKKKKACiiigAooooAKKKKACiiigAooooAKKKKACiiigAooooAKKKKACiiigAooooAKKKKACiiigAooooAKKKKACiiigAooooAKKKKACiiigAooooAKKKKACiiigAooooAKKKKACiiigAooooAKKKKACiiigAooooAKKKKACiiigAooooAKKKKACiiigAooooAKKKKACiiigAooooAKKKKACiiigAooooAKKKKACiiigAooooAKKKKACiiigAooooAKKKKACiiigAooooAKKKKACiiigAooooAKKKKACiiigAooooAKKKKACiiigAooooAKKKKACiiigAooooAKKKKACiiigAooooAKKKKACiiigAooooAKKKKACiiigAooooAKKKKACiiigAooooAKKKKACiiigAooooAKKKKACiiigAooooAKKKKACiiigAooooAKKKKACiiigAooooAKKKKACiiigAooooAKKKKACiiigAooooAKKKKACiiigAooooAKKKKACiiigAooooAKKKKACiiigAooooAKKKKACiiigAooooAKKKKACiiigAooooAKKKKACiiigAooooAKKKKACiiigAooooAKKKKACiiigAooooAKKKKACiiigAooooAKKKKACiiigAooooAKKKKAP/Z)"
      ],
      "metadata": {
        "id": "gds6QZX7qDc4"
      }
    },
    {
      "cell_type": "code",
      "source": [
        "df.info()"
      ],
      "metadata": {
        "colab": {
          "base_uri": "https://localhost:8080/"
        },
        "id": "i1XK8hQ0z9wG",
        "outputId": "9e055952-d242-41be-ba09-4e257ea988b4"
      },
      "execution_count": 28,
      "outputs": [
        {
          "output_type": "stream",
          "name": "stdout",
          "text": [
            "<class 'pandas.core.frame.DataFrame'>\n",
            "Index: 4650 entries, 0 to 8522\n",
            "Data columns (total 12 columns):\n",
            " #   Column                     Non-Null Count  Dtype  \n",
            "---  ------                     --------------  -----  \n",
            " 0   Item_Identifier            4650 non-null   object \n",
            " 1   Item_Weight                4650 non-null   float64\n",
            " 2   Item_Fat_Content           4650 non-null   object \n",
            " 3   Item_Visibility            4650 non-null   float64\n",
            " 4   Item_Type                  4650 non-null   object \n",
            " 5   Item_MRP                   4650 non-null   float64\n",
            " 6   Outlet_Identifier          4650 non-null   object \n",
            " 7   Outlet_Establishment_Year  4650 non-null   int64  \n",
            " 8   Outlet_Size                4650 non-null   object \n",
            " 9   Outlet_Location_Type       4650 non-null   object \n",
            " 10  Outlet_Type                4650 non-null   object \n",
            " 11  Item_Outlet_Sales          4650 non-null   float64\n",
            "dtypes: float64(4), int64(1), object(7)\n",
            "memory usage: 472.3+ KB\n"
          ]
        }
      ]
    },
    {
      "cell_type": "code",
      "source": [
        "# Check for duplicated values\n",
        "df.duplicated().sum()"
      ],
      "metadata": {
        "colab": {
          "base_uri": "https://localhost:8080/"
        },
        "id": "rnbiVyiZqWWX",
        "outputId": "24940b76-f012-42a9-c781-e20ef46f6cc7"
      },
      "execution_count": 29,
      "outputs": [
        {
          "output_type": "execute_result",
          "data": {
            "text/plain": [
              "0"
            ]
          },
          "metadata": {},
          "execution_count": 29
        }
      ]
    },
    {
      "cell_type": "code",
      "source": [
        "# Check for null values\n",
        "df.isna().sum()"
      ],
      "metadata": {
        "colab": {
          "base_uri": "https://localhost:8080/"
        },
        "id": "_9rQIT4Zz5hV",
        "outputId": "412f2e57-c204-4c91-a863-b280f6609a78"
      },
      "execution_count": 27,
      "outputs": [
        {
          "output_type": "execute_result",
          "data": {
            "text/plain": [
              "Item_Identifier              0\n",
              "Item_Weight                  0\n",
              "Item_Fat_Content             0\n",
              "Item_Visibility              0\n",
              "Item_Type                    0\n",
              "Item_MRP                     0\n",
              "Outlet_Identifier            0\n",
              "Outlet_Establishment_Year    0\n",
              "Outlet_Size                  0\n",
              "Outlet_Location_Type         0\n",
              "Outlet_Type                  0\n",
              "Item_Outlet_Sales            0\n",
              "dtype: int64"
            ]
          },
          "metadata": {},
          "execution_count": 27
        }
      ]
    },
    {
      "cell_type": "code",
      "source": [
        "df.head()"
      ],
      "metadata": {
        "colab": {
          "base_uri": "https://localhost:8080/",
          "height": 313
        },
        "id": "f9FTx2y20W3q",
        "outputId": "a3afe18e-da31-454b-c515-a17455be7810"
      },
      "execution_count": 30,
      "outputs": [
        {
          "output_type": "execute_result",
          "data": {
            "text/plain": [
              "  Item_Identifier  Item_Weight Item_Fat_Content  Item_Visibility  \\\n",
              "0           FDA15        9.300          Low Fat         0.016047   \n",
              "1           DRC01        5.920          Regular         0.019278   \n",
              "2           FDN15       17.500          Low Fat         0.016760   \n",
              "4           NCD19        8.930          Low Fat         0.000000   \n",
              "5           FDP36       10.395          Regular         0.000000   \n",
              "\n",
              "      Item_Type  Item_MRP Outlet_Identifier  Outlet_Establishment_Year  \\\n",
              "0         Dairy  249.8092            OUT049                       1999   \n",
              "1   Soft Drinks   48.2692            OUT018                       2009   \n",
              "2          Meat  141.6180            OUT049                       1999   \n",
              "4     Household   53.8614            OUT013                       1987   \n",
              "5  Baking Goods   51.4008            OUT018                       2009   \n",
              "\n",
              "  Outlet_Size Outlet_Location_Type        Outlet_Type  Item_Outlet_Sales  \n",
              "0      Medium               Tier 1  Supermarket Type1          3735.1380  \n",
              "1      Medium               Tier 3  Supermarket Type2           443.4228  \n",
              "2      Medium               Tier 1  Supermarket Type1          2097.2700  \n",
              "4        High               Tier 3  Supermarket Type1           994.7052  \n",
              "5      Medium               Tier 3  Supermarket Type2           556.6088  "
            ],
            "text/html": [
              "\n",
              "  <div id=\"df-7f629802-bdf0-4c1d-8c10-71d33fe9d785\" class=\"colab-df-container\">\n",
              "    <div>\n",
              "<style scoped>\n",
              "    .dataframe tbody tr th:only-of-type {\n",
              "        vertical-align: middle;\n",
              "    }\n",
              "\n",
              "    .dataframe tbody tr th {\n",
              "        vertical-align: top;\n",
              "    }\n",
              "\n",
              "    .dataframe thead th {\n",
              "        text-align: right;\n",
              "    }\n",
              "</style>\n",
              "<table border=\"1\" class=\"dataframe\">\n",
              "  <thead>\n",
              "    <tr style=\"text-align: right;\">\n",
              "      <th></th>\n",
              "      <th>Item_Identifier</th>\n",
              "      <th>Item_Weight</th>\n",
              "      <th>Item_Fat_Content</th>\n",
              "      <th>Item_Visibility</th>\n",
              "      <th>Item_Type</th>\n",
              "      <th>Item_MRP</th>\n",
              "      <th>Outlet_Identifier</th>\n",
              "      <th>Outlet_Establishment_Year</th>\n",
              "      <th>Outlet_Size</th>\n",
              "      <th>Outlet_Location_Type</th>\n",
              "      <th>Outlet_Type</th>\n",
              "      <th>Item_Outlet_Sales</th>\n",
              "    </tr>\n",
              "  </thead>\n",
              "  <tbody>\n",
              "    <tr>\n",
              "      <th>0</th>\n",
              "      <td>FDA15</td>\n",
              "      <td>9.300</td>\n",
              "      <td>Low Fat</td>\n",
              "      <td>0.016047</td>\n",
              "      <td>Dairy</td>\n",
              "      <td>249.8092</td>\n",
              "      <td>OUT049</td>\n",
              "      <td>1999</td>\n",
              "      <td>Medium</td>\n",
              "      <td>Tier 1</td>\n",
              "      <td>Supermarket Type1</td>\n",
              "      <td>3735.1380</td>\n",
              "    </tr>\n",
              "    <tr>\n",
              "      <th>1</th>\n",
              "      <td>DRC01</td>\n",
              "      <td>5.920</td>\n",
              "      <td>Regular</td>\n",
              "      <td>0.019278</td>\n",
              "      <td>Soft Drinks</td>\n",
              "      <td>48.2692</td>\n",
              "      <td>OUT018</td>\n",
              "      <td>2009</td>\n",
              "      <td>Medium</td>\n",
              "      <td>Tier 3</td>\n",
              "      <td>Supermarket Type2</td>\n",
              "      <td>443.4228</td>\n",
              "    </tr>\n",
              "    <tr>\n",
              "      <th>2</th>\n",
              "      <td>FDN15</td>\n",
              "      <td>17.500</td>\n",
              "      <td>Low Fat</td>\n",
              "      <td>0.016760</td>\n",
              "      <td>Meat</td>\n",
              "      <td>141.6180</td>\n",
              "      <td>OUT049</td>\n",
              "      <td>1999</td>\n",
              "      <td>Medium</td>\n",
              "      <td>Tier 1</td>\n",
              "      <td>Supermarket Type1</td>\n",
              "      <td>2097.2700</td>\n",
              "    </tr>\n",
              "    <tr>\n",
              "      <th>4</th>\n",
              "      <td>NCD19</td>\n",
              "      <td>8.930</td>\n",
              "      <td>Low Fat</td>\n",
              "      <td>0.000000</td>\n",
              "      <td>Household</td>\n",
              "      <td>53.8614</td>\n",
              "      <td>OUT013</td>\n",
              "      <td>1987</td>\n",
              "      <td>High</td>\n",
              "      <td>Tier 3</td>\n",
              "      <td>Supermarket Type1</td>\n",
              "      <td>994.7052</td>\n",
              "    </tr>\n",
              "    <tr>\n",
              "      <th>5</th>\n",
              "      <td>FDP36</td>\n",
              "      <td>10.395</td>\n",
              "      <td>Regular</td>\n",
              "      <td>0.000000</td>\n",
              "      <td>Baking Goods</td>\n",
              "      <td>51.4008</td>\n",
              "      <td>OUT018</td>\n",
              "      <td>2009</td>\n",
              "      <td>Medium</td>\n",
              "      <td>Tier 3</td>\n",
              "      <td>Supermarket Type2</td>\n",
              "      <td>556.6088</td>\n",
              "    </tr>\n",
              "  </tbody>\n",
              "</table>\n",
              "</div>\n",
              "    <div class=\"colab-df-buttons\">\n",
              "\n",
              "  <div class=\"colab-df-container\">\n",
              "    <button class=\"colab-df-convert\" onclick=\"convertToInteractive('df-7f629802-bdf0-4c1d-8c10-71d33fe9d785')\"\n",
              "            title=\"Convert this dataframe to an interactive table.\"\n",
              "            style=\"display:none;\">\n",
              "\n",
              "  <svg xmlns=\"http://www.w3.org/2000/svg\" height=\"24px\" viewBox=\"0 -960 960 960\">\n",
              "    <path d=\"M120-120v-720h720v720H120Zm60-500h600v-160H180v160Zm220 220h160v-160H400v160Zm0 220h160v-160H400v160ZM180-400h160v-160H180v160Zm440 0h160v-160H620v160ZM180-180h160v-160H180v160Zm440 0h160v-160H620v160Z\"/>\n",
              "  </svg>\n",
              "    </button>\n",
              "\n",
              "  <style>\n",
              "    .colab-df-container {\n",
              "      display:flex;\n",
              "      gap: 12px;\n",
              "    }\n",
              "\n",
              "    .colab-df-convert {\n",
              "      background-color: #E8F0FE;\n",
              "      border: none;\n",
              "      border-radius: 50%;\n",
              "      cursor: pointer;\n",
              "      display: none;\n",
              "      fill: #1967D2;\n",
              "      height: 32px;\n",
              "      padding: 0 0 0 0;\n",
              "      width: 32px;\n",
              "    }\n",
              "\n",
              "    .colab-df-convert:hover {\n",
              "      background-color: #E2EBFA;\n",
              "      box-shadow: 0px 1px 2px rgba(60, 64, 67, 0.3), 0px 1px 3px 1px rgba(60, 64, 67, 0.15);\n",
              "      fill: #174EA6;\n",
              "    }\n",
              "\n",
              "    .colab-df-buttons div {\n",
              "      margin-bottom: 4px;\n",
              "    }\n",
              "\n",
              "    [theme=dark] .colab-df-convert {\n",
              "      background-color: #3B4455;\n",
              "      fill: #D2E3FC;\n",
              "    }\n",
              "\n",
              "    [theme=dark] .colab-df-convert:hover {\n",
              "      background-color: #434B5C;\n",
              "      box-shadow: 0px 1px 3px 1px rgba(0, 0, 0, 0.15);\n",
              "      filter: drop-shadow(0px 1px 2px rgba(0, 0, 0, 0.3));\n",
              "      fill: #FFFFFF;\n",
              "    }\n",
              "  </style>\n",
              "\n",
              "    <script>\n",
              "      const buttonEl =\n",
              "        document.querySelector('#df-7f629802-bdf0-4c1d-8c10-71d33fe9d785 button.colab-df-convert');\n",
              "      buttonEl.style.display =\n",
              "        google.colab.kernel.accessAllowed ? 'block' : 'none';\n",
              "\n",
              "      async function convertToInteractive(key) {\n",
              "        const element = document.querySelector('#df-7f629802-bdf0-4c1d-8c10-71d33fe9d785');\n",
              "        const dataTable =\n",
              "          await google.colab.kernel.invokeFunction('convertToInteractive',\n",
              "                                                    [key], {});\n",
              "        if (!dataTable) return;\n",
              "\n",
              "        const docLinkHtml = 'Like what you see? Visit the ' +\n",
              "          '<a target=\"_blank\" href=https://colab.research.google.com/notebooks/data_table.ipynb>data table notebook</a>'\n",
              "          + ' to learn more about interactive tables.';\n",
              "        element.innerHTML = '';\n",
              "        dataTable['output_type'] = 'display_data';\n",
              "        await google.colab.output.renderOutput(dataTable, element);\n",
              "        const docLink = document.createElement('div');\n",
              "        docLink.innerHTML = docLinkHtml;\n",
              "        element.appendChild(docLink);\n",
              "      }\n",
              "    </script>\n",
              "  </div>\n",
              "\n",
              "\n",
              "<div id=\"df-9c9cc4ab-65cc-4fb0-8140-3e6be66ec646\">\n",
              "  <button class=\"colab-df-quickchart\" onclick=\"quickchart('df-9c9cc4ab-65cc-4fb0-8140-3e6be66ec646')\"\n",
              "            title=\"Suggest charts\"\n",
              "            style=\"display:none;\">\n",
              "\n",
              "<svg xmlns=\"http://www.w3.org/2000/svg\" height=\"24px\"viewBox=\"0 0 24 24\"\n",
              "     width=\"24px\">\n",
              "    <g>\n",
              "        <path d=\"M19 3H5c-1.1 0-2 .9-2 2v14c0 1.1.9 2 2 2h14c1.1 0 2-.9 2-2V5c0-1.1-.9-2-2-2zM9 17H7v-7h2v7zm4 0h-2V7h2v10zm4 0h-2v-4h2v4z\"/>\n",
              "    </g>\n",
              "</svg>\n",
              "  </button>\n",
              "\n",
              "<style>\n",
              "  .colab-df-quickchart {\n",
              "      --bg-color: #E8F0FE;\n",
              "      --fill-color: #1967D2;\n",
              "      --hover-bg-color: #E2EBFA;\n",
              "      --hover-fill-color: #174EA6;\n",
              "      --disabled-fill-color: #AAA;\n",
              "      --disabled-bg-color: #DDD;\n",
              "  }\n",
              "\n",
              "  [theme=dark] .colab-df-quickchart {\n",
              "      --bg-color: #3B4455;\n",
              "      --fill-color: #D2E3FC;\n",
              "      --hover-bg-color: #434B5C;\n",
              "      --hover-fill-color: #FFFFFF;\n",
              "      --disabled-bg-color: #3B4455;\n",
              "      --disabled-fill-color: #666;\n",
              "  }\n",
              "\n",
              "  .colab-df-quickchart {\n",
              "    background-color: var(--bg-color);\n",
              "    border: none;\n",
              "    border-radius: 50%;\n",
              "    cursor: pointer;\n",
              "    display: none;\n",
              "    fill: var(--fill-color);\n",
              "    height: 32px;\n",
              "    padding: 0;\n",
              "    width: 32px;\n",
              "  }\n",
              "\n",
              "  .colab-df-quickchart:hover {\n",
              "    background-color: var(--hover-bg-color);\n",
              "    box-shadow: 0 1px 2px rgba(60, 64, 67, 0.3), 0 1px 3px 1px rgba(60, 64, 67, 0.15);\n",
              "    fill: var(--button-hover-fill-color);\n",
              "  }\n",
              "\n",
              "  .colab-df-quickchart-complete:disabled,\n",
              "  .colab-df-quickchart-complete:disabled:hover {\n",
              "    background-color: var(--disabled-bg-color);\n",
              "    fill: var(--disabled-fill-color);\n",
              "    box-shadow: none;\n",
              "  }\n",
              "\n",
              "  .colab-df-spinner {\n",
              "    border: 2px solid var(--fill-color);\n",
              "    border-color: transparent;\n",
              "    border-bottom-color: var(--fill-color);\n",
              "    animation:\n",
              "      spin 1s steps(1) infinite;\n",
              "  }\n",
              "\n",
              "  @keyframes spin {\n",
              "    0% {\n",
              "      border-color: transparent;\n",
              "      border-bottom-color: var(--fill-color);\n",
              "      border-left-color: var(--fill-color);\n",
              "    }\n",
              "    20% {\n",
              "      border-color: transparent;\n",
              "      border-left-color: var(--fill-color);\n",
              "      border-top-color: var(--fill-color);\n",
              "    }\n",
              "    30% {\n",
              "      border-color: transparent;\n",
              "      border-left-color: var(--fill-color);\n",
              "      border-top-color: var(--fill-color);\n",
              "      border-right-color: var(--fill-color);\n",
              "    }\n",
              "    40% {\n",
              "      border-color: transparent;\n",
              "      border-right-color: var(--fill-color);\n",
              "      border-top-color: var(--fill-color);\n",
              "    }\n",
              "    60% {\n",
              "      border-color: transparent;\n",
              "      border-right-color: var(--fill-color);\n",
              "    }\n",
              "    80% {\n",
              "      border-color: transparent;\n",
              "      border-right-color: var(--fill-color);\n",
              "      border-bottom-color: var(--fill-color);\n",
              "    }\n",
              "    90% {\n",
              "      border-color: transparent;\n",
              "      border-bottom-color: var(--fill-color);\n",
              "    }\n",
              "  }\n",
              "</style>\n",
              "\n",
              "  <script>\n",
              "    async function quickchart(key) {\n",
              "      const quickchartButtonEl =\n",
              "        document.querySelector('#' + key + ' button');\n",
              "      quickchartButtonEl.disabled = true;  // To prevent multiple clicks.\n",
              "      quickchartButtonEl.classList.add('colab-df-spinner');\n",
              "      try {\n",
              "        const charts = await google.colab.kernel.invokeFunction(\n",
              "            'suggestCharts', [key], {});\n",
              "      } catch (error) {\n",
              "        console.error('Error during call to suggestCharts:', error);\n",
              "      }\n",
              "      quickchartButtonEl.classList.remove('colab-df-spinner');\n",
              "      quickchartButtonEl.classList.add('colab-df-quickchart-complete');\n",
              "    }\n",
              "    (() => {\n",
              "      let quickchartButtonEl =\n",
              "        document.querySelector('#df-9c9cc4ab-65cc-4fb0-8140-3e6be66ec646 button');\n",
              "      quickchartButtonEl.style.display =\n",
              "        google.colab.kernel.accessAllowed ? 'block' : 'none';\n",
              "    })();\n",
              "  </script>\n",
              "</div>\n",
              "\n",
              "    </div>\n",
              "  </div>\n"
            ],
            "application/vnd.google.colaboratory.intrinsic+json": {
              "type": "dataframe",
              "variable_name": "df",
              "summary": "{\n  \"name\": \"df\",\n  \"rows\": 4650,\n  \"fields\": [\n    {\n      \"column\": \"Item_Identifier\",\n      \"properties\": {\n        \"dtype\": \"category\",\n        \"num_unique_values\": 1535,\n        \"samples\": [\n          \"DRD13\",\n          \"FDA45\",\n          \"FDH32\"\n        ],\n        \"semantic_type\": \"\",\n        \"description\": \"\"\n      }\n    },\n    {\n      \"column\": \"Item_Weight\",\n      \"properties\": {\n        \"dtype\": \"number\",\n        \"std\": 4.67097332725998,\n        \"min\": 4.555,\n        \"max\": 21.35,\n        \"num_unique_values\": 409,\n        \"samples\": [\n          8.575,\n          7.47,\n          11.395\n        ],\n        \"semantic_type\": \"\",\n        \"description\": \"\"\n      }\n    },\n    {\n      \"column\": \"Item_Fat_Content\",\n      \"properties\": {\n        \"dtype\": \"category\",\n        \"num_unique_values\": 5,\n        \"samples\": [\n          \"Regular\",\n          \"LF\",\n          \"low fat\"\n        ],\n        \"semantic_type\": \"\",\n        \"description\": \"\"\n      }\n    },\n    {\n      \"column\": \"Item_Visibility\",\n      \"properties\": {\n        \"dtype\": \"number\",\n        \"std\": 0.04460652370158612,\n        \"min\": 0.0,\n        \"max\": 0.188322664,\n        \"num_unique_values\": 4280,\n        \"samples\": [\n          0.022831052,\n          0.082266419,\n          0.168154574\n        ],\n        \"semantic_type\": \"\",\n        \"description\": \"\"\n      }\n    },\n    {\n      \"column\": \"Item_Type\",\n      \"properties\": {\n        \"dtype\": \"category\",\n        \"num_unique_values\": 16,\n        \"samples\": [\n          \"Dairy\",\n          \"Soft Drinks\",\n          \"Snack Foods\"\n        ],\n        \"semantic_type\": \"\",\n        \"description\": \"\"\n      }\n    },\n    {\n      \"column\": \"Item_MRP\",\n      \"properties\": {\n        \"dtype\": \"number\",\n        \"std\": 62.420533701770545,\n        \"min\": 31.49,\n        \"max\": 266.8884,\n        \"num_unique_values\": 3806,\n        \"samples\": [\n          131.3284,\n          154.4998,\n          149.105\n        ],\n        \"semantic_type\": \"\",\n        \"description\": \"\"\n      }\n    },\n    {\n      \"column\": \"Outlet_Identifier\",\n      \"properties\": {\n        \"dtype\": \"category\",\n        \"num_unique_values\": 5,\n        \"samples\": [\n          \"OUT018\",\n          \"OUT035\",\n          \"OUT013\"\n        ],\n        \"semantic_type\": \"\",\n        \"description\": \"\"\n      }\n    },\n    {\n      \"column\": \"Outlet_Establishment_Year\",\n      \"properties\": {\n        \"dtype\": \"number\",\n        \"std\": 7,\n        \"min\": 1987,\n        \"max\": 2009,\n        \"num_unique_values\": 5,\n        \"samples\": [\n          2009,\n          2004,\n          1987\n        ],\n        \"semantic_type\": \"\",\n        \"description\": \"\"\n      }\n    },\n    {\n      \"column\": \"Outlet_Size\",\n      \"properties\": {\n        \"dtype\": \"category\",\n        \"num_unique_values\": 3,\n        \"samples\": [\n          \"Medium\",\n          \"High\",\n          \"Small\"\n        ],\n        \"semantic_type\": \"\",\n        \"description\": \"\"\n      }\n    },\n    {\n      \"column\": \"Outlet_Location_Type\",\n      \"properties\": {\n        \"dtype\": \"category\",\n        \"num_unique_values\": 3,\n        \"samples\": [\n          \"Tier 1\",\n          \"Tier 3\",\n          \"Tier 2\"\n        ],\n        \"semantic_type\": \"\",\n        \"description\": \"\"\n      }\n    },\n    {\n      \"column\": \"Outlet_Type\",\n      \"properties\": {\n        \"dtype\": \"category\",\n        \"num_unique_values\": 2,\n        \"samples\": [\n          \"Supermarket Type2\",\n          \"Supermarket Type1\"\n        ],\n        \"semantic_type\": \"\",\n        \"description\": \"\"\n      }\n    },\n    {\n      \"column\": \"Item_Outlet_Sales\",\n      \"properties\": {\n        \"dtype\": \"number\",\n        \"std\": 1497.9647396642947,\n        \"min\": 69.2432,\n        \"max\": 10256.649,\n        \"num_unique_values\": 2449,\n        \"samples\": [\n          3528.74,\n          2025.3636\n        ],\n        \"semantic_type\": \"\",\n        \"description\": \"\"\n      }\n    }\n  ]\n}"
            }
          },
          "metadata": {},
          "execution_count": 30
        }
      ]
    },
    {
      "cell_type": "code",
      "source": [
        "# Make X and y\n",
        "X = df.drop(columns='Item_Outlet_Sales')\n",
        "y = df['Item_Outlet_Sales']"
      ],
      "metadata": {
        "id": "rs36z_A20IxM"
      },
      "execution_count": 31,
      "outputs": []
    },
    {
      "cell_type": "code",
      "source": [
        "# train test split\n",
        "X_train, X_test, y_train, y_test = train_test_split(X,y)\n",
        "X_train.head()"
      ],
      "metadata": {
        "colab": {
          "base_uri": "https://localhost:8080/",
          "height": 313
        },
        "id": "HzXwNtLF0tzi",
        "outputId": "8db51f57-208e-4aec-93e9-fa39b5342fc5"
      },
      "execution_count": 32,
      "outputs": [
        {
          "output_type": "execute_result",
          "data": {
            "text/plain": [
              "     Item_Identifier  Item_Weight Item_Fat_Content  Item_Visibility  \\\n",
              "1260           FDX02       16.000          Low Fat         0.057013   \n",
              "1461           FDA20        6.780          Low Fat         0.066566   \n",
              "3042           FDF22        6.865          Low Fat         0.056820   \n",
              "613            FDX46       12.300          Regular         0.000000   \n",
              "4815           FDD33       12.850          Low Fat         0.108633   \n",
              "\n",
              "                  Item_Type  Item_MRP Outlet_Identifier  \\\n",
              "1260                  Dairy  225.0404            OUT013   \n",
              "1461  Fruits and Vegetables  185.3240            OUT013   \n",
              "3042            Snack Foods  212.6218            OUT035   \n",
              "613             Snack Foods   57.3562            OUT013   \n",
              "4815  Fruits and Vegetables  233.8642            OUT018   \n",
              "\n",
              "      Outlet_Establishment_Year Outlet_Size Outlet_Location_Type  \\\n",
              "1260                       1987        High               Tier 3   \n",
              "1461                       1987        High               Tier 3   \n",
              "3042                       2004       Small               Tier 2   \n",
              "613                        1987        High               Tier 3   \n",
              "4815                       2009      Medium               Tier 3   \n",
              "\n",
              "            Outlet_Type  \n",
              "1260  Supermarket Type1  \n",
              "1461  Supermarket Type1  \n",
              "3042  Supermarket Type1  \n",
              "613   Supermarket Type1  \n",
              "4815  Supermarket Type2  "
            ],
            "text/html": [
              "\n",
              "  <div id=\"df-a5eec124-f837-4ef8-a8a8-a59ba1bc79d2\" class=\"colab-df-container\">\n",
              "    <div>\n",
              "<style scoped>\n",
              "    .dataframe tbody tr th:only-of-type {\n",
              "        vertical-align: middle;\n",
              "    }\n",
              "\n",
              "    .dataframe tbody tr th {\n",
              "        vertical-align: top;\n",
              "    }\n",
              "\n",
              "    .dataframe thead th {\n",
              "        text-align: right;\n",
              "    }\n",
              "</style>\n",
              "<table border=\"1\" class=\"dataframe\">\n",
              "  <thead>\n",
              "    <tr style=\"text-align: right;\">\n",
              "      <th></th>\n",
              "      <th>Item_Identifier</th>\n",
              "      <th>Item_Weight</th>\n",
              "      <th>Item_Fat_Content</th>\n",
              "      <th>Item_Visibility</th>\n",
              "      <th>Item_Type</th>\n",
              "      <th>Item_MRP</th>\n",
              "      <th>Outlet_Identifier</th>\n",
              "      <th>Outlet_Establishment_Year</th>\n",
              "      <th>Outlet_Size</th>\n",
              "      <th>Outlet_Location_Type</th>\n",
              "      <th>Outlet_Type</th>\n",
              "    </tr>\n",
              "  </thead>\n",
              "  <tbody>\n",
              "    <tr>\n",
              "      <th>1260</th>\n",
              "      <td>FDX02</td>\n",
              "      <td>16.000</td>\n",
              "      <td>Low Fat</td>\n",
              "      <td>0.057013</td>\n",
              "      <td>Dairy</td>\n",
              "      <td>225.0404</td>\n",
              "      <td>OUT013</td>\n",
              "      <td>1987</td>\n",
              "      <td>High</td>\n",
              "      <td>Tier 3</td>\n",
              "      <td>Supermarket Type1</td>\n",
              "    </tr>\n",
              "    <tr>\n",
              "      <th>1461</th>\n",
              "      <td>FDA20</td>\n",
              "      <td>6.780</td>\n",
              "      <td>Low Fat</td>\n",
              "      <td>0.066566</td>\n",
              "      <td>Fruits and Vegetables</td>\n",
              "      <td>185.3240</td>\n",
              "      <td>OUT013</td>\n",
              "      <td>1987</td>\n",
              "      <td>High</td>\n",
              "      <td>Tier 3</td>\n",
              "      <td>Supermarket Type1</td>\n",
              "    </tr>\n",
              "    <tr>\n",
              "      <th>3042</th>\n",
              "      <td>FDF22</td>\n",
              "      <td>6.865</td>\n",
              "      <td>Low Fat</td>\n",
              "      <td>0.056820</td>\n",
              "      <td>Snack Foods</td>\n",
              "      <td>212.6218</td>\n",
              "      <td>OUT035</td>\n",
              "      <td>2004</td>\n",
              "      <td>Small</td>\n",
              "      <td>Tier 2</td>\n",
              "      <td>Supermarket Type1</td>\n",
              "    </tr>\n",
              "    <tr>\n",
              "      <th>613</th>\n",
              "      <td>FDX46</td>\n",
              "      <td>12.300</td>\n",
              "      <td>Regular</td>\n",
              "      <td>0.000000</td>\n",
              "      <td>Snack Foods</td>\n",
              "      <td>57.3562</td>\n",
              "      <td>OUT013</td>\n",
              "      <td>1987</td>\n",
              "      <td>High</td>\n",
              "      <td>Tier 3</td>\n",
              "      <td>Supermarket Type1</td>\n",
              "    </tr>\n",
              "    <tr>\n",
              "      <th>4815</th>\n",
              "      <td>FDD33</td>\n",
              "      <td>12.850</td>\n",
              "      <td>Low Fat</td>\n",
              "      <td>0.108633</td>\n",
              "      <td>Fruits and Vegetables</td>\n",
              "      <td>233.8642</td>\n",
              "      <td>OUT018</td>\n",
              "      <td>2009</td>\n",
              "      <td>Medium</td>\n",
              "      <td>Tier 3</td>\n",
              "      <td>Supermarket Type2</td>\n",
              "    </tr>\n",
              "  </tbody>\n",
              "</table>\n",
              "</div>\n",
              "    <div class=\"colab-df-buttons\">\n",
              "\n",
              "  <div class=\"colab-df-container\">\n",
              "    <button class=\"colab-df-convert\" onclick=\"convertToInteractive('df-a5eec124-f837-4ef8-a8a8-a59ba1bc79d2')\"\n",
              "            title=\"Convert this dataframe to an interactive table.\"\n",
              "            style=\"display:none;\">\n",
              "\n",
              "  <svg xmlns=\"http://www.w3.org/2000/svg\" height=\"24px\" viewBox=\"0 -960 960 960\">\n",
              "    <path d=\"M120-120v-720h720v720H120Zm60-500h600v-160H180v160Zm220 220h160v-160H400v160Zm0 220h160v-160H400v160ZM180-400h160v-160H180v160Zm440 0h160v-160H620v160ZM180-180h160v-160H180v160Zm440 0h160v-160H620v160Z\"/>\n",
              "  </svg>\n",
              "    </button>\n",
              "\n",
              "  <style>\n",
              "    .colab-df-container {\n",
              "      display:flex;\n",
              "      gap: 12px;\n",
              "    }\n",
              "\n",
              "    .colab-df-convert {\n",
              "      background-color: #E8F0FE;\n",
              "      border: none;\n",
              "      border-radius: 50%;\n",
              "      cursor: pointer;\n",
              "      display: none;\n",
              "      fill: #1967D2;\n",
              "      height: 32px;\n",
              "      padding: 0 0 0 0;\n",
              "      width: 32px;\n",
              "    }\n",
              "\n",
              "    .colab-df-convert:hover {\n",
              "      background-color: #E2EBFA;\n",
              "      box-shadow: 0px 1px 2px rgba(60, 64, 67, 0.3), 0px 1px 3px 1px rgba(60, 64, 67, 0.15);\n",
              "      fill: #174EA6;\n",
              "    }\n",
              "\n",
              "    .colab-df-buttons div {\n",
              "      margin-bottom: 4px;\n",
              "    }\n",
              "\n",
              "    [theme=dark] .colab-df-convert {\n",
              "      background-color: #3B4455;\n",
              "      fill: #D2E3FC;\n",
              "    }\n",
              "\n",
              "    [theme=dark] .colab-df-convert:hover {\n",
              "      background-color: #434B5C;\n",
              "      box-shadow: 0px 1px 3px 1px rgba(0, 0, 0, 0.15);\n",
              "      filter: drop-shadow(0px 1px 2px rgba(0, 0, 0, 0.3));\n",
              "      fill: #FFFFFF;\n",
              "    }\n",
              "  </style>\n",
              "\n",
              "    <script>\n",
              "      const buttonEl =\n",
              "        document.querySelector('#df-a5eec124-f837-4ef8-a8a8-a59ba1bc79d2 button.colab-df-convert');\n",
              "      buttonEl.style.display =\n",
              "        google.colab.kernel.accessAllowed ? 'block' : 'none';\n",
              "\n",
              "      async function convertToInteractive(key) {\n",
              "        const element = document.querySelector('#df-a5eec124-f837-4ef8-a8a8-a59ba1bc79d2');\n",
              "        const dataTable =\n",
              "          await google.colab.kernel.invokeFunction('convertToInteractive',\n",
              "                                                    [key], {});\n",
              "        if (!dataTable) return;\n",
              "\n",
              "        const docLinkHtml = 'Like what you see? Visit the ' +\n",
              "          '<a target=\"_blank\" href=https://colab.research.google.com/notebooks/data_table.ipynb>data table notebook</a>'\n",
              "          + ' to learn more about interactive tables.';\n",
              "        element.innerHTML = '';\n",
              "        dataTable['output_type'] = 'display_data';\n",
              "        await google.colab.output.renderOutput(dataTable, element);\n",
              "        const docLink = document.createElement('div');\n",
              "        docLink.innerHTML = docLinkHtml;\n",
              "        element.appendChild(docLink);\n",
              "      }\n",
              "    </script>\n",
              "  </div>\n",
              "\n",
              "\n",
              "<div id=\"df-e2988fb1-7c01-463a-bfb2-e43d4e11bdf7\">\n",
              "  <button class=\"colab-df-quickchart\" onclick=\"quickchart('df-e2988fb1-7c01-463a-bfb2-e43d4e11bdf7')\"\n",
              "            title=\"Suggest charts\"\n",
              "            style=\"display:none;\">\n",
              "\n",
              "<svg xmlns=\"http://www.w3.org/2000/svg\" height=\"24px\"viewBox=\"0 0 24 24\"\n",
              "     width=\"24px\">\n",
              "    <g>\n",
              "        <path d=\"M19 3H5c-1.1 0-2 .9-2 2v14c0 1.1.9 2 2 2h14c1.1 0 2-.9 2-2V5c0-1.1-.9-2-2-2zM9 17H7v-7h2v7zm4 0h-2V7h2v10zm4 0h-2v-4h2v4z\"/>\n",
              "    </g>\n",
              "</svg>\n",
              "  </button>\n",
              "\n",
              "<style>\n",
              "  .colab-df-quickchart {\n",
              "      --bg-color: #E8F0FE;\n",
              "      --fill-color: #1967D2;\n",
              "      --hover-bg-color: #E2EBFA;\n",
              "      --hover-fill-color: #174EA6;\n",
              "      --disabled-fill-color: #AAA;\n",
              "      --disabled-bg-color: #DDD;\n",
              "  }\n",
              "\n",
              "  [theme=dark] .colab-df-quickchart {\n",
              "      --bg-color: #3B4455;\n",
              "      --fill-color: #D2E3FC;\n",
              "      --hover-bg-color: #434B5C;\n",
              "      --hover-fill-color: #FFFFFF;\n",
              "      --disabled-bg-color: #3B4455;\n",
              "      --disabled-fill-color: #666;\n",
              "  }\n",
              "\n",
              "  .colab-df-quickchart {\n",
              "    background-color: var(--bg-color);\n",
              "    border: none;\n",
              "    border-radius: 50%;\n",
              "    cursor: pointer;\n",
              "    display: none;\n",
              "    fill: var(--fill-color);\n",
              "    height: 32px;\n",
              "    padding: 0;\n",
              "    width: 32px;\n",
              "  }\n",
              "\n",
              "  .colab-df-quickchart:hover {\n",
              "    background-color: var(--hover-bg-color);\n",
              "    box-shadow: 0 1px 2px rgba(60, 64, 67, 0.3), 0 1px 3px 1px rgba(60, 64, 67, 0.15);\n",
              "    fill: var(--button-hover-fill-color);\n",
              "  }\n",
              "\n",
              "  .colab-df-quickchart-complete:disabled,\n",
              "  .colab-df-quickchart-complete:disabled:hover {\n",
              "    background-color: var(--disabled-bg-color);\n",
              "    fill: var(--disabled-fill-color);\n",
              "    box-shadow: none;\n",
              "  }\n",
              "\n",
              "  .colab-df-spinner {\n",
              "    border: 2px solid var(--fill-color);\n",
              "    border-color: transparent;\n",
              "    border-bottom-color: var(--fill-color);\n",
              "    animation:\n",
              "      spin 1s steps(1) infinite;\n",
              "  }\n",
              "\n",
              "  @keyframes spin {\n",
              "    0% {\n",
              "      border-color: transparent;\n",
              "      border-bottom-color: var(--fill-color);\n",
              "      border-left-color: var(--fill-color);\n",
              "    }\n",
              "    20% {\n",
              "      border-color: transparent;\n",
              "      border-left-color: var(--fill-color);\n",
              "      border-top-color: var(--fill-color);\n",
              "    }\n",
              "    30% {\n",
              "      border-color: transparent;\n",
              "      border-left-color: var(--fill-color);\n",
              "      border-top-color: var(--fill-color);\n",
              "      border-right-color: var(--fill-color);\n",
              "    }\n",
              "    40% {\n",
              "      border-color: transparent;\n",
              "      border-right-color: var(--fill-color);\n",
              "      border-top-color: var(--fill-color);\n",
              "    }\n",
              "    60% {\n",
              "      border-color: transparent;\n",
              "      border-right-color: var(--fill-color);\n",
              "    }\n",
              "    80% {\n",
              "      border-color: transparent;\n",
              "      border-right-color: var(--fill-color);\n",
              "      border-bottom-color: var(--fill-color);\n",
              "    }\n",
              "    90% {\n",
              "      border-color: transparent;\n",
              "      border-bottom-color: var(--fill-color);\n",
              "    }\n",
              "  }\n",
              "</style>\n",
              "\n",
              "  <script>\n",
              "    async function quickchart(key) {\n",
              "      const quickchartButtonEl =\n",
              "        document.querySelector('#' + key + ' button');\n",
              "      quickchartButtonEl.disabled = true;  // To prevent multiple clicks.\n",
              "      quickchartButtonEl.classList.add('colab-df-spinner');\n",
              "      try {\n",
              "        const charts = await google.colab.kernel.invokeFunction(\n",
              "            'suggestCharts', [key], {});\n",
              "      } catch (error) {\n",
              "        console.error('Error during call to suggestCharts:', error);\n",
              "      }\n",
              "      quickchartButtonEl.classList.remove('colab-df-spinner');\n",
              "      quickchartButtonEl.classList.add('colab-df-quickchart-complete');\n",
              "    }\n",
              "    (() => {\n",
              "      let quickchartButtonEl =\n",
              "        document.querySelector('#df-e2988fb1-7c01-463a-bfb2-e43d4e11bdf7 button');\n",
              "      quickchartButtonEl.style.display =\n",
              "        google.colab.kernel.accessAllowed ? 'block' : 'none';\n",
              "    })();\n",
              "  </script>\n",
              "</div>\n",
              "\n",
              "    </div>\n",
              "  </div>\n"
            ],
            "application/vnd.google.colaboratory.intrinsic+json": {
              "type": "dataframe",
              "variable_name": "X_train",
              "summary": "{\n  \"name\": \"X_train\",\n  \"rows\": 3487,\n  \"fields\": [\n    {\n      \"column\": \"Item_Identifier\",\n      \"properties\": {\n        \"dtype\": \"category\",\n        \"num_unique_values\": 1473,\n        \"samples\": [\n          \"FDC11\",\n          \"NCI06\",\n          \"FDI41\"\n        ],\n        \"semantic_type\": \"\",\n        \"description\": \"\"\n      }\n    },\n    {\n      \"column\": \"Item_Weight\",\n      \"properties\": {\n        \"dtype\": \"number\",\n        \"std\": 4.706781745509966,\n        \"min\": 4.555,\n        \"max\": 21.35,\n        \"num_unique_values\": 403,\n        \"samples\": [\n          10.695,\n          5.59,\n          8.575\n        ],\n        \"semantic_type\": \"\",\n        \"description\": \"\"\n      }\n    },\n    {\n      \"column\": \"Item_Fat_Content\",\n      \"properties\": {\n        \"dtype\": \"category\",\n        \"num_unique_values\": 5,\n        \"samples\": [\n          \"Regular\",\n          \"low fat\",\n          \"LF\"\n        ],\n        \"semantic_type\": \"\",\n        \"description\": \"\"\n      }\n    },\n    {\n      \"column\": \"Item_Visibility\",\n      \"properties\": {\n        \"dtype\": \"number\",\n        \"std\": 0.04440563203022113,\n        \"min\": 0.0,\n        \"max\": 0.188322664,\n        \"num_unique_values\": 3224,\n        \"samples\": [\n          0.146540889,\n          0.058975504,\n          0.021413346\n        ],\n        \"semantic_type\": \"\",\n        \"description\": \"\"\n      }\n    },\n    {\n      \"column\": \"Item_Type\",\n      \"properties\": {\n        \"dtype\": \"category\",\n        \"num_unique_values\": 16,\n        \"samples\": [\n          \"Dairy\",\n          \"Fruits and Vegetables\",\n          \"Others\"\n        ],\n        \"semantic_type\": \"\",\n        \"description\": \"\"\n      }\n    },\n    {\n      \"column\": \"Item_MRP\",\n      \"properties\": {\n        \"dtype\": \"number\",\n        \"std\": 62.48639670964621,\n        \"min\": 31.49,\n        \"max\": 266.8884,\n        \"num_unique_values\": 3010,\n        \"samples\": [\n          163.5552,\n          51.5324,\n          31.49\n        ],\n        \"semantic_type\": \"\",\n        \"description\": \"\"\n      }\n    },\n    {\n      \"column\": \"Outlet_Identifier\",\n      \"properties\": {\n        \"dtype\": \"category\",\n        \"num_unique_values\": 5,\n        \"samples\": [\n          \"OUT035\",\n          \"OUT049\",\n          \"OUT018\"\n        ],\n        \"semantic_type\": \"\",\n        \"description\": \"\"\n      }\n    },\n    {\n      \"column\": \"Outlet_Establishment_Year\",\n      \"properties\": {\n        \"dtype\": \"number\",\n        \"std\": 7,\n        \"min\": 1987,\n        \"max\": 2009,\n        \"num_unique_values\": 5,\n        \"samples\": [\n          2004,\n          1999,\n          2009\n        ],\n        \"semantic_type\": \"\",\n        \"description\": \"\"\n      }\n    },\n    {\n      \"column\": \"Outlet_Size\",\n      \"properties\": {\n        \"dtype\": \"category\",\n        \"num_unique_values\": 3,\n        \"samples\": [\n          \"High\",\n          \"Small\",\n          \"Medium\"\n        ],\n        \"semantic_type\": \"\",\n        \"description\": \"\"\n      }\n    },\n    {\n      \"column\": \"Outlet_Location_Type\",\n      \"properties\": {\n        \"dtype\": \"category\",\n        \"num_unique_values\": 3,\n        \"samples\": [\n          \"Tier 3\",\n          \"Tier 2\",\n          \"Tier 1\"\n        ],\n        \"semantic_type\": \"\",\n        \"description\": \"\"\n      }\n    },\n    {\n      \"column\": \"Outlet_Type\",\n      \"properties\": {\n        \"dtype\": \"category\",\n        \"num_unique_values\": 2,\n        \"samples\": [\n          \"Supermarket Type2\",\n          \"Supermarket Type1\"\n        ],\n        \"semantic_type\": \"\",\n        \"description\": \"\"\n      }\n    }\n  ]\n}"
            }
          },
          "metadata": {},
          "execution_count": 32
        }
      ]
    },
    {
      "cell_type": "code",
      "source": [
        "# Check data types (or use X_train.dtypes)\n",
        "X_train.info()"
      ],
      "metadata": {
        "colab": {
          "base_uri": "https://localhost:8080/"
        },
        "id": "75a2AVCG02H9",
        "outputId": "548823ad-448b-44ac-eb20-89ff63219c87"
      },
      "execution_count": 33,
      "outputs": [
        {
          "output_type": "stream",
          "name": "stdout",
          "text": [
            "<class 'pandas.core.frame.DataFrame'>\n",
            "Index: 3487 entries, 1260 to 16\n",
            "Data columns (total 11 columns):\n",
            " #   Column                     Non-Null Count  Dtype  \n",
            "---  ------                     --------------  -----  \n",
            " 0   Item_Identifier            3487 non-null   object \n",
            " 1   Item_Weight                3487 non-null   float64\n",
            " 2   Item_Fat_Content           3487 non-null   object \n",
            " 3   Item_Visibility            3487 non-null   float64\n",
            " 4   Item_Type                  3487 non-null   object \n",
            " 5   Item_MRP                   3487 non-null   float64\n",
            " 6   Outlet_Identifier          3487 non-null   object \n",
            " 7   Outlet_Establishment_Year  3487 non-null   int64  \n",
            " 8   Outlet_Size                3487 non-null   object \n",
            " 9   Outlet_Location_Type       3487 non-null   object \n",
            " 10  Outlet_Type                3487 non-null   object \n",
            "dtypes: float64(3), int64(1), object(7)\n",
            "memory usage: 326.9+ KB\n"
          ]
        }
      ]
    },
    {
      "cell_type": "code",
      "source": [
        "# Check for null values\n",
        "X_train.isna().sum()"
      ],
      "metadata": {
        "colab": {
          "base_uri": "https://localhost:8080/"
        },
        "id": "paL-iBLU07Gz",
        "outputId": "863136f4-537d-4744-db1e-84a7c08aa8fd"
      },
      "execution_count": 34,
      "outputs": [
        {
          "output_type": "execute_result",
          "data": {
            "text/plain": [
              "Item_Identifier              0\n",
              "Item_Weight                  0\n",
              "Item_Fat_Content             0\n",
              "Item_Visibility              0\n",
              "Item_Type                    0\n",
              "Item_MRP                     0\n",
              "Outlet_Identifier            0\n",
              "Outlet_Establishment_Year    0\n",
              "Outlet_Size                  0\n",
              "Outlet_Location_Type         0\n",
              "Outlet_Type                  0\n",
              "dtype: int64"
            ]
          },
          "metadata": {},
          "execution_count": 34
        }
      ]
    },
    {
      "cell_type": "code",
      "source": [
        "# checking the shape of X_test\n",
        "X_test.shape"
      ],
      "metadata": {
        "colab": {
          "base_uri": "https://localhost:8080/"
        },
        "id": "X5E-ZRUd0_E9",
        "outputId": "3758e9be-1e0c-4651-e312-45db4e8f0887"
      },
      "execution_count": 35,
      "outputs": [
        {
          "output_type": "execute_result",
          "data": {
            "text/plain": [
              "(1163, 11)"
            ]
          },
          "metadata": {},
          "execution_count": 35
        }
      ]
    }
  ]
}